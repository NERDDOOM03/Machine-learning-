{
  "cells": [
    {
      "cell_type": "markdown",
      "metadata": {
        "id": "view-in-github",
        "colab_type": "text"
      },
      "source": [
        "<a href=\"https://colab.research.google.com/github/NERDDOOM03/Test/blob/main/Self_Taught_Master.ipynb\" target=\"_parent\"><img src=\"https://colab.research.google.com/assets/colab-badge.svg\" alt=\"Open In Colab\"/></a>"
      ]
    },
    {
      "cell_type": "code",
      "execution_count": null,
      "metadata": {
        "colab": {
          "base_uri": "https://localhost:8080/"
        },
        "id": "b95DMVEI7HC_",
        "outputId": "b1114e91-522b-460a-89a1-3c248e8b7f81"
      },
      "outputs": [
        {
          "name": "stdout",
          "output_type": "stream",
          "text": [
            "This is a string lalo\n"
          ]
        }
      ],
      "source": [
        "print('This is a string {}'.format('lalo'))"
      ]
    },
    {
      "cell_type": "code",
      "execution_count": null,
      "metadata": {
        "id": "rsGlPJYXaq-I"
      },
      "outputs": [],
      "source": []
    },
    {
      "cell_type": "code",
      "execution_count": null,
      "metadata": {
        "colab": {
          "base_uri": "https://localhost:8080/"
        },
        "id": "UnNIOxpa7j98",
        "outputId": "5543c386-24d2-466b-c0e5-012dee4fb08c"
      },
      "outputs": [
        {
          "name": "stdout",
          "output_type": "stream",
          "text": [
            "the Goal sid thing\n",
            "the thing sid Goal)\n"
          ]
        }
      ],
      "source": [
        "print('the {} {} {}'.format('Goal','sid','thing'))\n",
        "print('the {2} {1} {0})'.format('Goal','sid','thing'))"
      ]
    },
    {
      "cell_type": "code",
      "execution_count": null,
      "metadata": {
        "colab": {
          "base_uri": "https://localhost:8080/"
        },
        "id": "b3he8_nRBLzQ",
        "outputId": "206c294c-45f6-49ee-c211-b7e69db566de"
      },
      "outputs": [
        {
          "name": "stdout",
          "output_type": "stream",
          "text": [
            "0.1287001287001287\n",
            "the result was 0.1287001287001287\n"
          ]
        }
      ],
      "source": [
        "result= 100/777\n",
        "print(result)\n",
        "print('the result was {}'.format(result))\n"
      ]
    },
    {
      "cell_type": "code",
      "execution_count": null,
      "metadata": {
        "colab": {
          "base_uri": "https://localhost:8080/"
        },
        "id": "bEa-7oW5CR6L",
        "outputId": "c1b36f95-09c4-450a-cd10-1741fcda9841"
      },
      "outputs": [
        {
          "name": "stdout",
          "output_type": "stream",
          "text": [
            "Hello this is Goal\n"
          ]
        }
      ],
      "source": [
        "name = 'Goal'\n",
        "print('Hello this is {}'.format(name))"
      ]
    },
    {
      "cell_type": "code",
      "execution_count": null,
      "metadata": {
        "colab": {
          "base_uri": "https://localhost:8080/"
        },
        "id": "hRtWwX91EUH6",
        "outputId": "bc76cb29-b22d-48f3-b2ec-af9bbfe9f9ea"
      },
      "outputs": [
        {
          "name": "stdout",
          "output_type": "stream",
          "text": [
            "Hey Mygoal this is siddhartha\n"
          ]
        }
      ],
      "source": [
        "name = 'siddhartha'\n",
        "print(f'Hey Mygoal this is {name}')"
      ]
    },
    {
      "cell_type": "code",
      "execution_count": null,
      "metadata": {
        "colab": {
          "base_uri": "https://localhost:8080/"
        },
        "id": "_2_gqW4dFAfS",
        "outputId": "5bfea0d2-7ee1-4c9a-e06b-5114441ee571"
      },
      "outputs": [
        {
          "name": "stdout",
          "output_type": "stream",
          "text": [
            "sam is 45 years old\n"
          ]
        }
      ],
      "source": [
        "name = 'sam'\n",
        "age = 45\n",
        "print(f'{name} is {age} years old')"
      ]
    },
    {
      "cell_type": "code",
      "execution_count": null,
      "metadata": {
        "colab": {
          "base_uri": "https://localhost:8080/"
        },
        "id": "VETIWEyEKi8w",
        "outputId": "89865188-a5ad-4f2f-e17d-0fd57f18c882"
      },
      "outputs": [
        {
          "data": {
            "text/plain": [
              "3"
            ]
          },
          "execution_count": 24,
          "metadata": {},
          "output_type": "execute_result"
        }
      ],
      "source": [
        "my_list = [\"one\",\"sid\",3]\n",
        "len(my_list)"
      ]
    },
    {
      "cell_type": "code",
      "execution_count": null,
      "metadata": {
        "colab": {
          "base_uri": "https://localhost:8080/"
        },
        "id": "rYyyTrgnKw1h",
        "outputId": "53fb8b1a-b17b-46d3-9fd9-9e2ac7efe11d"
      },
      "outputs": [
        {
          "data": {
            "text/plain": [
              "['one', 'sid', 3]"
            ]
          },
          "execution_count": 31,
          "metadata": {},
          "output_type": "execute_result"
        }
      ],
      "source": [
        "my_list[1]\n",
        "my_list[1:]\n",
        "my_list\n"
      ]
    },
    {
      "cell_type": "code",
      "execution_count": null,
      "metadata": {
        "colab": {
          "base_uri": "https://localhost:8080/"
        },
        "id": "Vzt9-_JXLkbh",
        "outputId": "89443c91-2978-4f6a-cdcd-2b9818960039"
      },
      "outputs": [
        {
          "name": "stdout",
          "output_type": "stream",
          "text": [
            "['SHAR', 'IS', 'INTELLIGENT', 'and', 'klug']\n",
            "['shar & sid', 'IS', 'INTELLIGENT', 'and', 'klug']\n",
            "['shar & sid', 'are', 'INTELLIGENT', 'and', 'klug']\n",
            "['shar & sid', 'are', 'INTELLIGENT', 'and', 'klug', 'Vielien dank']\n",
            "['shar & sid', 'are', 'INTELLIGENT', 'klug', 'Vielien dank']\n"
          ]
        }
      ],
      "source": [
        "mylist =['SHAR', 'IS', 'INTELLIGENT']\n",
        "another_list = ['and','klug']\n",
        "New_list = mylist + another_list\n",
        "print(New_list)\n",
        "New_list[0] = 'shar & sid'\n",
        "print(New_list)\n",
        "New_list[1] = 'are'\n",
        "print(New_list)\n",
        "New_list.append('Vielien dank')\n",
        "print(New_list)\n",
        "New_list.pop(3)\n",
        "print(New_list)\n",
        "\n",
        "\n",
        "\n"
      ]
    },
    {
      "cell_type": "code",
      "execution_count": null,
      "metadata": {
        "colab": {
          "base_uri": "https://localhost:8080/"
        },
        "id": "1I8MQoKQdTsN",
        "outputId": "004f969e-39b3-4465-d60d-746e2785b076"
      },
      "outputs": [
        {
          "name": "stdout",
          "output_type": "stream",
          "text": [
            "3003\n",
            "[0, 1, 3]\n",
            "3023\n"
          ]
        }
      ],
      "source": [
        "My_Frau ={'sha':3003, 'sid':2105}\n",
        "print(My_Frau['sha'])\n",
        "My_dict = {'Dicky':1101,'tom':[0,1,3],'harry':3023}\n",
        "print(My_dict['tom'])\n",
        "print(My_dict['harry'])"
      ]
    },
    {
      "cell_type": "code",
      "execution_count": null,
      "metadata": {
        "colab": {
          "base_uri": "https://localhost:8080/"
        },
        "id": "tuRjwqH2not5",
        "outputId": "b0b8fd20-e7fc-4252-e590-52749d7a4a44"
      },
      "outputs": [
        {
          "name": "stdout",
          "output_type": "stream",
          "text": [
            "{'key': ['a', 'b', 'c', 'd']}\n",
            "['a', 'b', 'c', 'd']\n",
            "c\n",
            "C\n"
          ]
        }
      ],
      "source": [
        "D = {'key':['a','b','c','d']}\n",
        "print(D)\n",
        "print(D['key'])\n",
        "print(D['key'][2])\n",
        "print(D['key'][2].upper())"
      ]
    },
    {
      "cell_type": "code",
      "execution_count": null,
      "metadata": {
        "colab": {
          "base_uri": "https://localhost:8080/"
        },
        "id": "vOLhhYwesfmZ",
        "outputId": "c7b54d76-ec1b-4b68-f195-9fd051eccda0"
      },
      "outputs": [
        {
          "name": "stdout",
          "output_type": "stream",
          "text": [
            "{'s': 35, 'si': 32}\n",
            "{'s': 35, 'si': 32, 's3': 100}\n"
          ]
        },
        {
          "data": {
            "text/plain": [
              "dict"
            ]
          },
          "execution_count": 2,
          "metadata": {},
          "output_type": "execute_result"
        }
      ],
      "source": [
        "d = {'s':35,'si':32}\n",
        "print(d)\n",
        "d['s3'] = 100\n",
        "print(d)\n",
        "type(d)"
      ]
    },
    {
      "cell_type": "code",
      "execution_count": null,
      "metadata": {
        "colab": {
          "base_uri": "https://localhost:8080/"
        },
        "id": "qGOVIcSW7Eqr",
        "outputId": "0ea36712-e8dd-467c-becb-2eb60e89a9ba"
      },
      "outputs": [
        {
          "name": "stdout",
          "output_type": "stream",
          "text": [
            "2\n",
            "[1, 2, 3]\n",
            "[1, 'New', 3]\n"
          ]
        }
      ],
      "source": [
        "t =(1,2,3)\n",
        "type(t)\n",
        "print(t[1])\n",
        "t = ('a','a','a','b')\n",
        "t.count('a')\n",
        "t.index('b')\n",
        "t.index('a')\n",
        "mylist = [1,2,3]\n",
        "print(mylist)\n",
        "mylist[1] = \"New\"\n",
        "print(mylist)\n",
        "\n",
        "\n",
        "\n"
      ]
    },
    {
      "cell_type": "code",
      "execution_count": null,
      "metadata": {
        "colab": {
          "base_uri": "https://localhost:8080/"
        },
        "id": "4umKW0zV3UJx",
        "outputId": "f2e14690-a438-4472-fc29-f4242ddf1b62"
      },
      "outputs": [
        {
          "name": "stdout",
          "output_type": "stream",
          "text": [
            "set()\n"
          ]
        },
        {
          "data": {
            "text/plain": [
              "{1, 2, 4, 5}"
            ]
          },
          "execution_count": 4,
          "metadata": {},
          "output_type": "execute_result"
        }
      ],
      "source": [
        "myset = set()\n",
        "print(myset)\n",
        "mylist =[1,1,1,1,1,2,2,2,2,2,2,5,5,5,4,4,4,4]\n",
        "set(mylist)"
      ]
    },
    {
      "cell_type": "code",
      "execution_count": null,
      "metadata": {
        "colab": {
          "base_uri": "https://localhost:8080/"
        },
        "id": "tEJDSIm75L6o",
        "outputId": "c0e281b8-c3f4-4df2-99ce-e12153dd0c94"
      },
      "outputs": [
        {
          "data": {
            "text/plain": [
              "False"
            ]
          },
          "execution_count": 8,
          "metadata": {},
          "output_type": "execute_result"
        }
      ],
      "source": [
        "1>2\n"
      ]
    },
    {
      "cell_type": "code",
      "execution_count": null,
      "metadata": {
        "colab": {
          "base_uri": "https://localhost:8080/"
        },
        "id": "BU52szZ0spm9",
        "outputId": "09c88d60-6ede-4c85-efec-9153eb742203"
      },
      "outputs": [
        {
          "name": "stdout",
          "output_type": "stream",
          "text": [
            "feed me\n"
          ]
        }
      ],
      "source": [
        "hungry = True\n",
        "if hungry :\n",
        "  print('feed me')"
      ]
    },
    {
      "cell_type": "code",
      "execution_count": null,
      "metadata": {
        "colab": {
          "base_uri": "https://localhost:8080/"
        },
        "id": "rD4Ior8etg1x",
        "outputId": "b698cb00-9d14-4d79-880d-2b7632f9d889"
      },
      "outputs": [
        {
          "name": "stdout",
          "output_type": "stream",
          "text": [
            "nai bhook lagi hai\n"
          ]
        }
      ],
      "source": [
        "hungry = False\n",
        "if hungry :\n",
        "  print('bhook lagi hai')\n",
        "else :\n",
        " print('nai bhook lagi hai')\n",
        " "
      ]
    },
    {
      "cell_type": "code",
      "execution_count": null,
      "metadata": {
        "colab": {
          "base_uri": "https://localhost:8080/"
        },
        "id": "J49uOmfnuZCJ",
        "outputId": "c688d475-38a8-41c7-edc6-f71ce19c98ae"
      },
      "outputs": [
        {
          "name": "stdout",
          "output_type": "stream",
          "text": [
            "Nice car\n"
          ]
        }
      ],
      "source": [
        "loc = 'Bank' \n",
        "if loc == 'Bank': \n",
        " print('Nice car')\n",
        "else :\n",
        "  print('I am not sure')"
      ]
    },
    {
      "cell_type": "code",
      "execution_count": null,
      "metadata": {
        "colab": {
          "base_uri": "https://localhost:8080/"
        },
        "id": "vqS-3AGKwNBV",
        "outputId": "dd678958-662e-46a6-970c-240b1e12ed12"
      },
      "outputs": [
        {
          "name": "stdout",
          "output_type": "stream",
          "text": [
            "whats your name\n"
          ]
        }
      ],
      "source": [
        "name = 'hari'\n",
        "if name == 'denis':\n",
        " print('hello denis')\n",
        "elif name == 'Sha':\n",
        "  print('hey Hi')\n",
        "else :\n",
        " print('whats your name')\n",
        "\n",
        "\n"
      ]
    },
    {
      "cell_type": "code",
      "execution_count": null,
      "metadata": {
        "colab": {
          "base_uri": "https://localhost:8080/"
        },
        "id": "7Y3ddEtu-uq7",
        "outputId": "038040fe-ce80-4eb1-a1dd-7281e1782c22"
      },
      "outputs": [
        {
          "name": "stdout",
          "output_type": "stream",
          "text": [
            "1\n",
            "2\n",
            "3\n",
            "4\n",
            "5\n",
            "6\n",
            "7\n",
            "8\n",
            "9\n",
            "10\n"
          ]
        }
      ],
      "source": [
        "mylist = [1,2,3,4,5,6,7,8,9,10]\n",
        "for jelly in mylist:\n",
        "  print(jelly)"
      ]
    },
    {
      "cell_type": "code",
      "execution_count": null,
      "metadata": {
        "colab": {
          "base_uri": "https://localhost:8080/"
        },
        "id": "EIprxxKxLbhD",
        "outputId": "0929076f-61a4-47bf-b7b1-e0e8becb01af"
      },
      "outputs": [
        {
          "name": "stdout",
          "output_type": "stream",
          "text": [
            "sid\n",
            "is\n",
            "smart\n"
          ]
        }
      ],
      "source": [
        "mylist = ['sid','is','smart']\n",
        "for jelly in mylist:\n",
        "   print(jelly)"
      ]
    },
    {
      "cell_type": "code",
      "execution_count": null,
      "metadata": {
        "colab": {
          "base_uri": "https://localhost:8080/"
        },
        "id": "ubNY2GQ-MJoT",
        "outputId": "1c5c6c43-024e-447c-ec00-f45139de2e40"
      },
      "outputs": [
        {
          "name": "stdout",
          "output_type": "stream",
          "text": [
            "12\n",
            "2\n",
            "4\n",
            "6\n",
            "8\n",
            "10\n",
            "14\n"
          ]
        }
      ],
      "source": [
        "mylist = [11,12,13,1,2,3,4,5,6,7,8,9,10,14,15]\n",
        "for jelly in mylist:\n",
        "  if jelly % 2 == 0:\n",
        "    print(jelly)\n",
        "  else:\n",
        "      False"
      ]
    },
    {
      "cell_type": "code",
      "execution_count": null,
      "metadata": {
        "colab": {
          "base_uri": "https://localhost:8080/"
        },
        "id": "Kir2J_tjOcSd",
        "outputId": "5e94c290-6c1a-4567-9e4f-b0c9c16fe653"
      },
      "outputs": [
        {
          "name": "stdout",
          "output_type": "stream",
          "text": [
            " odd number:213\n",
            " odd number:3003\n",
            "even number:3002\n",
            "funf number: 10\n",
            " odd number:21\n",
            " odd number:30\n",
            " odd number:24\n",
            " odd number:18\n",
            "even number:19\n",
            " odd number:4002\n",
            " odd number:42\n"
          ]
        }
      ],
      "source": [
        "mylist = [213,3003,3002,10,'note a asa',21,30,24,18,19,4002,42,]\n",
        "for num in mylist:\n",
        "  if isinstance(num, int):\n",
        "    if num % 3 == 0:\n",
        "      print(f' odd number:{num}')\n",
        "    elif num % 5 == 0:\n",
        "      print(f'funf number: {num}')\n",
        "    else:\n",
        "      print(f'even number:{num}')\n",
        "\n",
        "\n",
        "  "
      ]
    },
    {
      "cell_type": "code",
      "execution_count": null,
      "metadata": {
        "colab": {
          "base_uri": "https://localhost:8080/",
          "height": 183
        },
        "id": "P6YZGYwcY60G",
        "outputId": "fb46d80f-542b-43e6-f011-5b8e41722c39"
      },
      "outputs": [
        {
          "ename": "TypeError",
          "evalue": "ignored",
          "output_type": "error",
          "traceback": [
            "\u001b[0;31m---------------------------------------------------------------------------\u001b[0m",
            "\u001b[0;31mTypeError\u001b[0m                                 Traceback (most recent call last)",
            "\u001b[0;32m<ipython-input-3-6c1b1742f0c4>\u001b[0m in \u001b[0;36m<module>\u001b[0;34m\u001b[0m\n\u001b[1;32m      1\u001b[0m \u001b[0mtest\u001b[0m \u001b[0;34m=\u001b[0m \u001b[0;34m\"hello\"\u001b[0m\u001b[0;34m\u001b[0m\u001b[0;34m\u001b[0m\u001b[0m\n\u001b[0;32m----> 2\u001b[0;31m \u001b[0mprint\u001b[0m\u001b[0;34m(\u001b[0m\u001b[0mtest\u001b[0m \u001b[0;34m%\u001b[0m \u001b[0;36m2\u001b[0m\u001b[0;34m)\u001b[0m\u001b[0;34m\u001b[0m\u001b[0;34m\u001b[0m\u001b[0m\n\u001b[0m",
            "\u001b[0;31mTypeError\u001b[0m: not all arguments converted during string formatting"
          ]
        }
      ],
      "source": [
        "test = \"hello\"\n",
        "print(test % 2)"
      ]
    },
    {
      "cell_type": "code",
      "execution_count": null,
      "metadata": {
        "id": "ICWTtOfqPynp"
      },
      "outputs": [],
      "source": [
        "mylist"
      ]
    },
    {
      "cell_type": "code",
      "execution_count": null,
      "metadata": {
        "colab": {
          "base_uri": "https://localhost:8080/"
        },
        "id": "6erPkaHWXYRv",
        "outputId": "15a87193-65a2-4020-da61-016324c9947c"
      },
      "outputs": [
        {
          "name": "stdout",
          "output_type": "stream",
          "text": [
            "6\n"
          ]
        }
      ],
      "source": [
        "Mylist = [1,2,3]\n",
        "list_sum = 0\n",
        "for num in Mylist:\n",
        "  list_sum = list_sum + num\n",
        "print(list_sum)"
      ]
    },
    {
      "cell_type": "code",
      "execution_count": null,
      "metadata": {
        "colab": {
          "base_uri": "https://localhost:8080/"
        },
        "id": "uHtL2NBZaCUj",
        "outputId": "1c674973-546a-48e7-de54-d9c37c0cdc3a"
      },
      "outputs": [
        {
          "name": "stdout",
          "output_type": "stream",
          "text": [
            "G\n",
            "e\n",
            "r\n",
            "m\n",
            "a\n",
            "n\n",
            " \n",
            "s\n",
            "t\n",
            "u\n",
            "d\n",
            "y\n",
            " \n",
            "v\n",
            "i\n",
            "s\n",
            "a\n",
            " \n",
            "a\n",
            "p\n",
            "p\n",
            "r\n",
            "o\n",
            "v\n",
            "e\n",
            "d\n"
          ]
        }
      ],
      "source": [
        "mystring = 'German study visa approved'\n",
        "for approval in mystring:\n",
        "  print(approval)\n",
        "  "
      ]
    },
    {
      "cell_type": "code",
      "execution_count": null,
      "metadata": {
        "colab": {
          "base_uri": "https://localhost:8080/"
        },
        "id": "hf5-XGHsaVrT",
        "outputId": "8159e6bf-dcf8-429b-ae69-28a52e29089f"
      },
      "outputs": [
        {
          "name": "stdout",
          "output_type": "stream",
          "text": [
            "(1, 2)\n",
            "(3, 4)\n",
            "(5, 6)\n"
          ]
        }
      ],
      "source": [
        "mytup = [(1,2),(3,4),(5,6)]\n",
        "for items in mytup:\n",
        "  print(items)"
      ]
    },
    {
      "cell_type": "code",
      "execution_count": null,
      "metadata": {
        "colab": {
          "base_uri": "https://localhost:8080/"
        },
        "id": "t9wU3X3-ds5k",
        "outputId": "0d5bef92-17fa-48bb-daf2-cd8cac640f6a"
      },
      "outputs": [
        {
          "name": "stdout",
          "output_type": "stream",
          "text": [
            "1\n",
            "2\n",
            "3\n",
            "4\n",
            "5\n",
            "6\n"
          ]
        }
      ],
      "source": [
        "mytup = [(1,2),(3,4),(5,6)]\n",
        "for (a,b) in mytup:\n",
        "  print(a)\n",
        "  print(b)"
      ]
    },
    {
      "cell_type": "code",
      "execution_count": null,
      "metadata": {
        "colab": {
          "base_uri": "https://localhost:8080/"
        },
        "id": "luQT_iNX8h0y",
        "outputId": "c0b67d04-a260-444b-a646-df5ec71b1c52"
      },
      "outputs": [
        {
          "name": "stdout",
          "output_type": "stream",
          "text": [
            "3\n",
            "5\n",
            "8\n"
          ]
        }
      ],
      "source": [
        "mytup = [(1,2,3),(3,4,5),(6,7,8)]\n",
        "for (a,b,c) in mytup:\n",
        "  print(c)\n"
      ]
    },
    {
      "cell_type": "code",
      "execution_count": null,
      "metadata": {
        "colab": {
          "base_uri": "https://localhost:8080/"
        },
        "id": "iWxAQjt48_fL",
        "outputId": "8e2841bd-803d-4f8a-bc87-f0f27e395c47"
      },
      "outputs": [
        {
          "name": "stdout",
          "output_type": "stream",
          "text": [
            "K1\n",
            "K2\n"
          ]
        }
      ],
      "source": [
        "d = {'K1': 1, 'K2': 2}\n",
        "for item in d:\n",
        "  print(item)\n",
        "\n"
      ]
    },
    {
      "cell_type": "code",
      "execution_count": null,
      "metadata": {
        "colab": {
          "base_uri": "https://localhost:8080/"
        },
        "id": "Z-d-PIvN9uy0",
        "outputId": "0b06cb09-d0d3-4c49-9806-8340b2517e0f"
      },
      "outputs": [
        {
          "name": "stdout",
          "output_type": "stream",
          "text": [
            "('K1', 1)\n",
            "('K2', 2)\n",
            "('K3', 3)\n"
          ]
        }
      ],
      "source": [
        "d = {'K1': 1, 'K2': 2, 'K3': 3}\n",
        "for item in d.items():\n",
        "  print(item)"
      ]
    },
    {
      "cell_type": "code",
      "execution_count": null,
      "metadata": {
        "colab": {
          "base_uri": "https://localhost:8080/"
        },
        "id": "pvSUp2MM-cNf",
        "outputId": "27e9c9ca-2e0a-4bf8-a85c-af8206905ce7"
      },
      "outputs": [
        {
          "name": "stdout",
          "output_type": "stream",
          "text": [
            "1\n",
            "2\n",
            "3\n"
          ]
        }
      ],
      "source": [
        "d = {'K1': 1, 'K2': 2, 'K3': 3}\n",
        "for value in d.values():\n",
        "  print(value)"
      ]
    },
    {
      "cell_type": "code",
      "execution_count": null,
      "metadata": {
        "colab": {
          "base_uri": "https://localhost:8080/"
        },
        "id": "8qt5xnHMPeGr",
        "outputId": "dd1ff5c4-db28-4aa5-b42d-07ff49fded90"
      },
      "outputs": [
        {
          "name": "stdout",
          "output_type": "stream",
          "text": [
            "the value of x is 0\n",
            "the value of x is 2\n",
            "the value of x is 4\n",
            "the value of x is 6\n",
            "the value of x is 8\n",
            "the value of x is 10\n",
            "X  is not less than 12\n"
          ]
        }
      ],
      "source": [
        "x = 0\n",
        "while x < 12:\n",
        "  print(f'the value of x is {x}')\n",
        "  x = x + 2\n",
        "else :\n",
        "  print( 'X  is not less than 12')\n",
        "\n"
      ]
    },
    {
      "cell_type": "code",
      "execution_count": null,
      "metadata": {
        "colab": {
          "base_uri": "https://localhost:8080/"
        },
        "id": "wDbsVh0IioaK",
        "outputId": "4612456e-fa54-4c14-f15f-283ea15789ff"
      },
      "outputs": [
        {
          "name": "stdout",
          "output_type": "stream",
          "text": [
            "the value of y is 0\n",
            "the value of y is 1.5\n",
            "the value of y is 3.0\n",
            "the value of y is 4.5\n",
            "the value of y is 6.0\n",
            "not less than  7.5\n"
          ]
        }
      ],
      "source": [
        "y = 0\n",
        "while y < 7:\n",
        "  print(f'the value of y is {y}')\n",
        "  y = y+1.5\n",
        "else:\n",
        "  print(f'not less than  {y}')"
      ]
    },
    {
      "cell_type": "code",
      "execution_count": null,
      "metadata": {
        "colab": {
          "base_uri": "https://localhost:8080/"
        },
        "id": "0quiA--0Ugiz",
        "outputId": "ba5c3179-dbf3-4e54-ab52-d801a3a292f8"
      },
      "outputs": [
        {
          "name": "stdout",
          "output_type": "stream",
          "text": [
            "I\n",
            " \n",
            "g\n",
            "o\n",
            "t\n",
            " \n",
            "s\n",
            "a\n",
            "c\n",
            "r\n",
            "a\n",
            "d\n",
            " \n",
            "w\n",
            "a\n",
            "t\n",
            "e\n",
            "r\n"
          ]
        }
      ],
      "source": [
        "mystring = 'I got sacrad water'\n",
        "for sentence in mystring:\n",
        "  if sentence == \"f\":\n",
        "    continue\n",
        "  print(sentence)"
      ]
    },
    {
      "cell_type": "code",
      "execution_count": null,
      "metadata": {
        "colab": {
          "base_uri": "https://localhost:8080/"
        },
        "id": "eYphIQcNV8CH",
        "outputId": "9f86f5f3-389d-4b73-816f-761238e368ff"
      },
      "outputs": [
        {
          "name": "stdout",
          "output_type": "stream",
          "text": [
            "1\n",
            "2\n",
            "3\n",
            "4\n",
            "5\n",
            "6\n"
          ]
        }
      ],
      "source": [
        "x = 0\n",
        "while x < 12:\n",
        " x = x + 1\n",
        " if x == 7:\n",
        "  break\n",
        " print (x)\n",
        "\n",
        "      "
      ]
    },
    {
      "cell_type": "code",
      "execution_count": null,
      "metadata": {
        "colab": {
          "base_uri": "https://localhost:8080/"
        },
        "id": "_rVIXtG03xTq",
        "outputId": "653255d4-4b61-4db6-8a06-4248718f2f33"
      },
      "outputs": [
        {
          "name": "stdout",
          "output_type": "stream",
          "text": [
            "0\n",
            "1\n",
            "2\n",
            "3\n",
            "4\n",
            "5\n",
            "6\n",
            "7\n",
            "8\n"
          ]
        }
      ],
      "source": [
        "mylist =[1,2,3]\n",
        "for num in range(9):\n",
        " print(num)\n"
      ]
    },
    {
      "cell_type": "code",
      "execution_count": null,
      "metadata": {
        "colab": {
          "base_uri": "https://localhost:8080/"
        },
        "id": "o6c6g9hGf9VU",
        "outputId": "aea98afc-99a5-4d31-f080-37bf8116c434"
      },
      "outputs": [
        {
          "name": "stdout",
          "output_type": "stream",
          "text": [
            "0\n",
            "2\n",
            "4\n",
            "6\n",
            "8\n"
          ]
        }
      ],
      "source": [
        "mylist =[1,2,3]\n",
        "for num in range(0,10,2):\n",
        "  print(num)\n"
      ]
    },
    {
      "cell_type": "code",
      "execution_count": null,
      "metadata": {
        "colab": {
          "base_uri": "https://localhost:8080/"
        },
        "id": "7eFVrXITglTA",
        "outputId": "3641acf9-cb46-44dd-9716-509d1b270084"
      },
      "outputs": [
        {
          "name": "stdout",
          "output_type": "stream",
          "text": [
            "index_count{} the letter is {}\n",
            "index_count{} the letter is {}\n",
            "index_count{} the letter is {}\n",
            "index_count{} the letter is {}\n",
            "index_count{} the letter is {}\n"
          ]
        }
      ],
      "source": [
        "index_count = 0 \n",
        "for letter in 'abcde':\n",
        " print('index_count{} the letter is {}')\n",
        " index_count += 1\n"
      ]
    },
    {
      "cell_type": "code",
      "execution_count": null,
      "metadata": {
        "colab": {
          "base_uri": "https://localhost:8080/"
        },
        "id": "RRVnWPJ5lJca",
        "outputId": "dc361159-bdc9-4a6a-e537-32222664e584"
      },
      "outputs": [
        {
          "name": "stdout",
          "output_type": "stream",
          "text": [
            "a\n",
            "b\n",
            "c\n",
            "d\n",
            "e\n"
          ]
        }
      ],
      "source": [
        "index_count = 0\n",
        "word = 'abcde'\n",
        "for letter in word:\n",
        "   print(word[index_count])\n",
        "   index_count += 1 "
      ]
    },
    {
      "cell_type": "code",
      "execution_count": null,
      "metadata": {
        "id": "Y3oFZe_FSwOD"
      },
      "outputs": [],
      "source": [
        "colors = ('red','orange','blue')\n"
      ]
    },
    {
      "cell_type": "code",
      "execution_count": null,
      "metadata": {
        "colab": {
          "base_uri": "https://localhost:8080/"
        },
        "id": "KFB-WvcLS4wJ",
        "outputId": "b320669a-6f20-44cf-f655-ca3b53b4be1c"
      },
      "outputs": [
        {
          "name": "stdout",
          "output_type": "stream",
          "text": [
            "the color at location 0 is red\n",
            "the color at location 1 is orange\n",
            "the color at location 2 is blue\n"
          ]
        }
      ],
      "source": [
        "\n",
        "for index, color in enumerate(colors):\n",
        "    print('the color at location', index, 'is',color)\n"
      ]
    },
    {
      "cell_type": "code",
      "execution_count": null,
      "metadata": {
        "colab": {
          "base_uri": "https://localhost:8080/"
        },
        "id": "WymlX7bWl3W0",
        "outputId": "2bf5f9c5-bde4-43a9-b6db-ce72a9e6043f"
      },
      "outputs": [
        {
          "name": "stdout",
          "output_type": "stream",
          "text": [
            "(0, 'a')\n",
            "(1, 'b')\n",
            "(2, 'c')\n",
            "(3, 'd')\n",
            "(4, 'e')\n"
          ]
        }
      ],
      "source": [
        "word = 'abcde'\n",
        "for item in enumerate (word):\n",
        "  print(item)"
      ]
    },
    {
      "cell_type": "code",
      "execution_count": null,
      "metadata": {
        "colab": {
          "base_uri": "https://localhost:8080/"
        },
        "id": "d9G0x_llU3xs",
        "outputId": "41ed81b3-609b-441d-fee8-7eead5643f8a"
      },
      "outputs": [
        {
          "name": "stdout",
          "output_type": "stream",
          "text": [
            "0 a\n",
            "1 b\n",
            "2 c\n",
            "3 d\n",
            "4 e\n"
          ]
        }
      ],
      "source": [
        "word = 'abcde'\n",
        "for index, item in enumerate(word):\n",
        "  print(index,item)"
      ]
    },
    {
      "cell_type": "code",
      "execution_count": null,
      "metadata": {
        "colab": {
          "base_uri": "https://localhost:8080/"
        },
        "id": "IC0EAhnS_cNG",
        "outputId": "ccc6050b-b97a-4fca-f2b9-b3aae2479ba9"
      },
      "outputs": [
        {
          "name": "stdout",
          "output_type": "stream",
          "text": [
            "what is your name jose\n",
            "<bound method Kernel.raw_input of <google.colab._kernel.Kernel object at 0x7f7419925210>>\n"
          ]
        }
      ],
      "source": [
        "input('what is your name')\n",
        "print(input)"
      ]
    },
    {
      "cell_type": "code",
      "execution_count": null,
      "metadata": {
        "colab": {
          "base_uri": "https://localhost:8080/"
        },
        "id": "V2-O9YjRAaZo",
        "outputId": "735d5e66-7f95-436f-e232-9d8a440a5354"
      },
      "outputs": [
        {
          "name": "stdout",
          "output_type": "stream",
          "text": [
            "what is your name jose\n"
          ]
        }
      ],
      "source": [
        "result = input('what is your name')"
      ]
    },
    {
      "cell_type": "code",
      "execution_count": null,
      "metadata": {
        "colab": {
          "base_uri": "https://localhost:8080/"
        },
        "id": "vTau5p3DCUH_",
        "outputId": "314ae6da-38f8-4f1d-95a4-cc9e950e394b"
      },
      "outputs": [
        {
          "name": "stdout",
          "output_type": "stream",
          "text": [
            "['w', 'o', 'r', 'd']\n"
          ]
        }
      ],
      "source": [
        "mylist = [x for x in 'word']\n",
        "print(mylist)"
      ]
    },
    {
      "cell_type": "code",
      "execution_count": null,
      "metadata": {
        "colab": {
          "base_uri": "https://localhost:8080/"
        },
        "id": "FtTeo7YQDM6H",
        "outputId": "441c83dd-65bb-411b-b337-f3aacff42e06"
      },
      "outputs": [
        {
          "name": "stdout",
          "output_type": "stream",
          "text": [
            "[0, 1, 2, 3, 4, 5, 6, 7, 8, 9, 10]\n"
          ]
        }
      ],
      "source": [
        "mylist = [num for num in range(0,11)]\n",
        "print(mylist)"
      ]
    },
    {
      "cell_type": "code",
      "execution_count": null,
      "metadata": {
        "colab": {
          "base_uri": "https://localhost:8080/"
        },
        "id": "AVK0do7gGkfs",
        "outputId": "12cbed54-eb35-4169-a4a6-e9657e4a0713"
      },
      "outputs": [
        {
          "name": "stdout",
          "output_type": "stream",
          "text": [
            "[0, 1, 4, 9, 16, 25, 36, 49, 64, 81, 100]\n"
          ]
        }
      ],
      "source": [
        "mylist = [num**2 for num in range(0,11)]\n",
        "print(mylist)"
      ]
    },
    {
      "cell_type": "code",
      "execution_count": null,
      "metadata": {
        "colab": {
          "base_uri": "https://localhost:8080/"
        },
        "id": "StfsL9COHjUT",
        "outputId": "269b3053-88eb-44f2-8680-7d38d3aacbd8"
      },
      "outputs": [
        {
          "name": "stdout",
          "output_type": "stream",
          "text": [
            "[0, 2, 4, 6, 8, 10]\n"
          ]
        }
      ],
      "source": [
        "mylist = [x for x in range(0,11) if x%2==0]\n",
        "print(mylist)"
      ]
    },
    {
      "cell_type": "code",
      "execution_count": null,
      "metadata": {
        "colab": {
          "base_uri": "https://localhost:8080/"
        },
        "id": "3bxzh5oPJvz-",
        "outputId": "bbe52537-b37b-458b-f6e6-09c9e6e6ddb8"
      },
      "outputs": [
        {
          "name": "stdout",
          "output_type": "stream",
          "text": [
            "[32.0, 50.0, 68.0, 86.0, 95.9]\n"
          ]
        }
      ],
      "source": [
        "celcius = [0,10,20,30,35.5]\n",
        "Fahrenhite = [((9/5)*temp +32) for temp in celcius]\n",
        "print(Fahrenhite)"
      ]
    },
    {
      "cell_type": "code",
      "execution_count": null,
      "metadata": {
        "id": "ntffezg4KjMY"
      },
      "outputs": [],
      "source": [
        "Fahrenhite = []\n",
        "for temp in celcius:\n",
        "  Fahrenhite.append((9/5)*temp +32)):\n",
        "  print(Fahrenhite )"
      ]
    },
    {
      "cell_type": "code",
      "execution_count": null,
      "metadata": {
        "colab": {
          "base_uri": "https://localhost:8080/",
          "height": 183
        },
        "id": "mf_Xjh7XLLFj",
        "outputId": "722c338e-292d-4c3d-a2c9-1a675ac43b14"
      },
      "outputs": [
        {
          "ename": "NameError",
          "evalue": "ignored",
          "output_type": "error",
          "traceback": [
            "\u001b[0;31m---------------------------------------------------------------------------\u001b[0m",
            "\u001b[0;31mNameError\u001b[0m                                 Traceback (most recent call last)",
            "\u001b[0;32m<ipython-input-32-fd7aa319fded>\u001b[0m in \u001b[0;36m<module>\u001b[0;34m\u001b[0m\n\u001b[1;32m      1\u001b[0m \u001b[0mresult\u001b[0m \u001b[0;34m=\u001b[0m \u001b[0;34m[\u001b[0m\u001b[0mx\u001b[0m \u001b[0;32mif\u001b[0m \u001b[0mx\u001b[0m\u001b[0;34m%\u001b[0m\u001b[0;36m2\u001b[0m\u001b[0;34m==\u001b[0m\u001b[0;36m0\u001b[0m \u001b[0;32melse\u001b[0m \u001b[0;34m'odd'\u001b[0m \u001b[0;32mfor\u001b[0m \u001b[0mx\u001b[0m \u001b[0;32min\u001b[0m \u001b[0mrange\u001b[0m\u001b[0;34m(\u001b[0m\u001b[0;36m0\u001b[0m\u001b[0;34m,\u001b[0m\u001b[0;36m11\u001b[0m\u001b[0;34m)\u001b[0m\u001b[0;34m]\u001b[0m\u001b[0;34m\u001b[0m\u001b[0;34m\u001b[0m\u001b[0m\n\u001b[0;32m----> 2\u001b[0;31m \u001b[0mprint\u001b[0m\u001b[0;34m(\u001b[0m\u001b[0mresults\u001b[0m\u001b[0;34m)\u001b[0m\u001b[0;34m\u001b[0m\u001b[0;34m\u001b[0m\u001b[0m\n\u001b[0m",
            "\u001b[0;31mNameError\u001b[0m: name 'results' is not defined"
          ]
        }
      ],
      "source": [
        "result = [x if x%2==0 else 'odd' for x in range(0,11)]\n",
        "print(results)"
      ]
    },
    {
      "cell_type": "code",
      "execution_count": null,
      "metadata": {
        "colab": {
          "base_uri": "https://localhost:8080/"
        },
        "id": "kBCfNS-UM8I1",
        "outputId": "6a539e2a-64cc-4ea4-9560-56575c3fd2b0"
      },
      "outputs": [
        {
          "name": "stdout",
          "output_type": "stream",
          "text": [
            "[2]\n",
            "[2, 200]\n",
            "[2, 200, 2000]\n",
            "[2, 200, 2000, 4]\n",
            "[2, 200, 2000, 4, 400]\n",
            "[2, 200, 2000, 4, 400, 4000]\n",
            "[2, 200, 2000, 4, 400, 4000, 6]\n",
            "[2, 200, 2000, 4, 400, 4000, 6, 600]\n",
            "[2, 200, 2000, 4, 400, 4000, 6, 600, 6000]\n"
          ]
        }
      ],
      "source": [
        "mylist = []\n",
        "for x in [2,4,6]:\n",
        " for y in [1,100,1000]:\n",
        "  mylist.append(x*y)\n",
        "  print(mylist)"
      ]
    },
    {
      "cell_type": "code",
      "execution_count": null,
      "metadata": {
        "colab": {
          "base_uri": "https://localhost:8080/"
        },
        "id": "AXSrR_tGOBtd",
        "outputId": "a3094539-9b8a-487a-c24b-0d9a932ce919"
      },
      "outputs": [
        {
          "name": "stdout",
          "output_type": "stream",
          "text": [
            "[2, 200, 2000, 4, 400, 4000, 6, 600, 6000]\n"
          ]
        }
      ],
      "source": [
        "mylist =[x*y for x in [2,4,6] for y in [1,100,1000]]\n",
        "print(mylist)"
      ]
    },
    {
      "cell_type": "code",
      "execution_count": null,
      "metadata": {
        "colab": {
          "base_uri": "https://localhost:8080/"
        },
        "id": "8ek54YqsgTuT",
        "outputId": "ca9d72bf-497c-4fad-e9f9-48250d3162a4"
      },
      "outputs": [
        {
          "name": "stdout",
          "output_type": "stream",
          "text": [
            "sid\n",
            "is\n",
            "smart\n",
            "seductive\n",
            "and\n",
            "sexy\n",
            "and\n",
            "smart\n",
            "learner\n"
          ]
        }
      ],
      "source": [
        "st = 'sid is smart seductive and sexy and smart learner'\n",
        "for word in st.split():\n",
        "  print(word)"
      ]
    },
    {
      "cell_type": "code",
      "execution_count": null,
      "metadata": {
        "colab": {
          "base_uri": "https://localhost:8080/"
        },
        "id": "6d04R9hzmnS1",
        "outputId": "2b757154-e81e-41fa-e72b-d892fa5de599"
      },
      "outputs": [
        {
          "name": "stdout",
          "output_type": "stream",
          "text": [
            "smart\n",
            "smart\n"
          ]
        }
      ],
      "source": [
        "st = 'john is smart  and smart learner'\n",
        "for word in st.split():\n",
        " if word [0]=='s' or word[0] == \"S\":\n",
        "  print(word)\n",
        "  \n"
      ]
    },
    {
      "cell_type": "code",
      "execution_count": null,
      "metadata": {
        "colab": {
          "base_uri": "https://localhost:8080/"
        },
        "id": "bTTJD5LroQaA",
        "outputId": "adfb520c-5ad6-4189-d268-8c9e02898776"
      },
      "outputs": [
        {
          "name": "stdout",
          "output_type": "stream",
          "text": [
            "0\n",
            "2\n",
            "4\n",
            "6\n",
            "8\n",
            "10\n"
          ]
        }
      ],
      "source": [
        "\n",
        "for num in range(0,11,2):\n",
        " print(num)"
      ]
    },
    {
      "cell_type": "code",
      "execution_count": null,
      "metadata": {
        "colab": {
          "base_uri": "https://localhost:8080/"
        },
        "id": "gbNYltjmpodn",
        "outputId": "7bc7e112-b3e5-4018-cc5c-6c937d3b104c"
      },
      "outputs": [
        {
          "data": {
            "text/plain": [
              "[0, 3, 6, 9, 12, 15, 18, 21, 24, 27, 30, 33, 36, 39, 42, 45, 48]"
            ]
          },
          "execution_count": 23,
          "metadata": {},
          "output_type": "execute_result"
        }
      ],
      "source": [
        "[y for y in range(0,51) if y%3==0]\n"
      ]
    },
    {
      "cell_type": "code",
      "execution_count": null,
      "metadata": {
        "colab": {
          "base_uri": "https://localhost:8080/"
        },
        "id": "yPK9yhOktWQz",
        "outputId": "4089d353-e5d8-432d-ef42-6f90ed31b01c"
      },
      "outputs": [
        {
          "name": "stdout",
          "output_type": "stream",
          "text": [
            "word is even\n",
            "in is even\n",
            "this is even\n",
            "line is even\n",
            "that is even\n",
            "an is even\n",
            "even is even\n",
            "number is even\n",
            "of is even\n"
          ]
        }
      ],
      "source": [
        "st = 'print every word in this line that has an even number of letters'\n",
        "for word in st.split():\n",
        "  if len(word)% 2 == 0:\n",
        "    print( word + \" is even\")\n",
        "\n"
      ]
    },
    {
      "cell_type": "code",
      "execution_count": null,
      "metadata": {
        "colab": {
          "base_uri": "https://localhost:8080/",
          "height": 130
        },
        "id": "BYQBAZAd62cr",
        "outputId": "db0a4856-1b27-4fcd-a42a-900b309e0651"
      },
      "outputs": [
        {
          "ename": "SyntaxError",
          "evalue": "ignored",
          "output_type": "error",
          "traceback": [
            "\u001b[0;36m  File \u001b[0;32m\"<ipython-input-38-9c41cfa57191>\"\u001b[0;36m, line \u001b[0;32m4\u001b[0m\n\u001b[0;31m    elif num%3 == 0:\u001b[0m\n\u001b[0m       ^\u001b[0m\n\u001b[0;31mSyntaxError\u001b[0m\u001b[0;31m:\u001b[0m invalid syntax\n"
          ]
        }
      ],
      "source": [
        "for num in range(1,101):\n",
        " if num%3 == 0 and num%5 == 0:\n",
        "  print('fizzBuzz')\n",
        "  elif num%3 == 0:\n",
        "   print('fizz')\n",
        "  elif num%5 == 0:\n",
        "   print('Buzz')\n",
        "  else :\n",
        "    print(num)\n"
      ]
    },
    {
      "cell_type": "code",
      "execution_count": null,
      "metadata": {
        "colab": {
          "base_uri": "https://localhost:8080/",
          "height": 130
        },
        "id": "_Ng85O09AJgQ",
        "outputId": "d9813af5-708e-4ea4-f9ba-2a21bd0b1a10"
      },
      "outputs": [
        {
          "ename": "SyntaxError",
          "evalue": "ignored",
          "output_type": "error",
          "traceback": [
            "\u001b[0;36m  File \u001b[0;32m\"<ipython-input-66-78e8e63ce31f>\"\u001b[0;36m, line \u001b[0;32m3\u001b[0m\n\u001b[0;31m    if word[0]=='g'\u001b[0m\n\u001b[0m                   ^\u001b[0m\n\u001b[0;31mSyntaxError\u001b[0m\u001b[0;31m:\u001b[0m invalid syntax\n"
          ]
        }
      ],
      "source": [
        "st = 'got a good job in germany as data analyst in berlin with 80000 euros'\n",
        "for word in st.split():\n",
        "  if word[0]=='g'\n",
        "   print(word)\n",
        "\n",
        "  \n"
      ]
    },
    {
      "cell_type": "code",
      "execution_count": null,
      "metadata": {
        "colab": {
          "base_uri": "https://localhost:8080/",
          "height": 130
        },
        "id": "xTpg6DqPGF_C",
        "outputId": "9dd4d79b-5e0c-4189-9ec6-efbb5d023fb9"
      },
      "outputs": [
        {
          "ename": "SyntaxError",
          "evalue": "ignored",
          "output_type": "error",
          "traceback": [
            "\u001b[0;36m  File \u001b[0;32m\"<ipython-input-69-9c41cfa57191>\"\u001b[0;36m, line \u001b[0;32m4\u001b[0m\n\u001b[0;31m    elif num%3 == 0:\u001b[0m\n\u001b[0m       ^\u001b[0m\n\u001b[0;31mSyntaxError\u001b[0m\u001b[0;31m:\u001b[0m invalid syntax\n"
          ]
        }
      ],
      "source": [
        "for num in range(1,101):\n",
        " if num%3 == 0 and num%5 == 0:\n",
        "  print('fizzBuzz')\n",
        "  elif num%3 == 0:\n",
        "   print('fizz')\n",
        "  elif num%5 == 0:\n",
        "   print('Buzz')\n",
        "  else :\n",
        "    print(num)"
      ]
    },
    {
      "cell_type": "code",
      "execution_count": null,
      "metadata": {
        "colab": {
          "base_uri": "https://localhost:8080/"
        },
        "id": "nZNpqbrQbPeb",
        "outputId": "24cc56d3-68ff-4776-fd59-5d18ec26db49"
      },
      "outputs": [
        {
          "name": "stdout",
          "output_type": "stream",
          "text": [
            "[1, 2, 3, 4, 5]\n"
          ]
        }
      ],
      "source": [
        "mylist = [1,2,3,4]\n",
        "mylist.append(5)\n",
        "print(mylist)"
      ]
    },
    {
      "cell_type": "code",
      "execution_count": null,
      "metadata": {
        "colab": {
          "base_uri": "https://localhost:8080/"
        },
        "id": "BAy-UTaUbhV-",
        "outputId": "48a18ec3-b7bd-4780-8cd7-ebd907674b57"
      },
      "outputs": [
        {
          "name": "stdout",
          "output_type": "stream",
          "text": [
            "[1, 2, 3]\n"
          ]
        }
      ],
      "source": [
        "mylist = [1,2,3,4]\n",
        "mylist.pop()\n",
        "print(mylist)"
      ]
    },
    {
      "cell_type": "code",
      "execution_count": null,
      "metadata": {
        "colab": {
          "base_uri": "https://localhost:8080/"
        },
        "id": "A1YGg49yb0LL",
        "outputId": "c684ddf9-cac9-46a6-f29e-bbc6f6f31463"
      },
      "outputs": [
        {
          "name": "stdout",
          "output_type": "stream",
          "text": [
            "Help on built-in function insert:\n",
            "\n",
            "insert(index, object, /) method of builtins.list instance\n",
            "    Insert object before index.\n",
            "\n"
          ]
        }
      ],
      "source": [
        "help(mylist.insert)"
      ]
    },
    {
      "cell_type": "code",
      "execution_count": null,
      "metadata": {
        "id": "nGCqe9XQcLRy"
      },
      "outputs": [],
      "source": [
        "def say_hello():\n",
        "  print(\"hello\")\n",
        "  print(\"are\")\n",
        "  say_hello()"
      ]
    },
    {
      "cell_type": "code",
      "execution_count": null,
      "metadata": {
        "colab": {
          "base_uri": "https://localhost:8080/",
          "height": 130
        },
        "id": "HT1eTTI2kl5Q",
        "outputId": "5bb66a9a-ea2e-4d08-eea6-2a8ce3c1b499"
      },
      "outputs": [
        {
          "ename": "SyntaxError",
          "evalue": "ignored",
          "output_type": "error",
          "traceback": [
            "\u001b[0;36m  File \u001b[0;32m\"<ipython-input-12-0d5655ade276>\"\u001b[0;36m, line \u001b[0;32m2\u001b[0m\n\u001b[0;31m    print(f'Hello {name}')':\u001b[0m\n\u001b[0m                            ^\u001b[0m\n\u001b[0;31mSyntaxError\u001b[0m\u001b[0;31m:\u001b[0m EOL while scanning string literal\n"
          ]
        }
      ],
      "source": [
        "def say_hello(name):\n",
        "  print(f'Hello {name}')':\n",
        "print(say_hello('jose'))\n"
      ]
    },
    {
      "cell_type": "code",
      "execution_count": null,
      "metadata": {
        "colab": {
          "base_uri": "https://localhost:8080/"
        },
        "id": "p7oKIioIlVU5",
        "outputId": "4aa67b3a-3d70-4913-ce92-a0f23ec5ad15"
      },
      "outputs": [
        {
          "name": "stdout",
          "output_type": "stream",
          "text": [
            "30\n"
          ]
        }
      ],
      "source": [
        "def print_result(a,b):\n",
        "  print(a+b)\n",
        "  def return_result(a,b):\n",
        "    print (a+b)\n",
        "print_result(10,20)"
      ]
    },
    {
      "cell_type": "code",
      "execution_count": null,
      "metadata": {
        "colab": {
          "base_uri": "https://localhost:8080/"
        },
        "id": "egZl0aRFTYBA",
        "outputId": "2c01a62c-e3b6-46ec-a5b7-cc501042d862"
      },
      "outputs": [
        {
          "data": {
            "text/plain": [
              "False"
            ]
          },
          "execution_count": 1,
          "metadata": {},
          "output_type": "execute_result"
        }
      ],
      "source": [
        "21 % 2 == 0"
      ]
    },
    {
      "cell_type": "code",
      "execution_count": null,
      "metadata": {
        "colab": {
          "base_uri": "https://localhost:8080/"
        },
        "id": "mi5vkIMAU0F7",
        "outputId": "bf5de79a-bd50-4587-e470-04598234dc1b"
      },
      "outputs": [
        {
          "data": {
            "text/plain": [
              "True"
            ]
          },
          "execution_count": 3,
          "metadata": {},
          "output_type": "execute_result"
        }
      ],
      "source": [
        "def even_check(number):\n",
        "  return number % 2 == 0\n",
        "even_check(20)\n"
      ]
    },
    {
      "cell_type": "code",
      "execution_count": null,
      "metadata": {
        "colab": {
          "base_uri": "https://localhost:8080/"
        },
        "id": "sEsDI_ZfWMUB",
        "outputId": "dd89424f-11c9-48df-df33-d1db29859687"
      },
      "outputs": [
        {
          "data": {
            "text/plain": [
              "False"
            ]
          },
          "execution_count": 5,
          "metadata": {},
          "output_type": "execute_result"
        }
      ],
      "source": [
        "even_check(21)"
      ]
    },
    {
      "cell_type": "code",
      "execution_count": null,
      "metadata": {
        "id": "m_pWRVAXWYvD"
      },
      "outputs": [],
      "source": [
        "def check_even_list(num_list):\n",
        "    for num in num_list:\n",
        "        if num % 2 == 0:\n",
        "         return True;\n",
        "        else:\n",
        "             False\n",
        "             \n",
        "\n",
        "\n",
        "          \n"
      ]
    },
    {
      "cell_type": "code",
      "execution_count": null,
      "metadata": {
        "colab": {
          "base_uri": "https://localhost:8080/"
        },
        "id": "c4wEdlrHhykG",
        "outputId": "6f9505b3-ae93-48ba-d539-18862b3bd929"
      },
      "outputs": [
        {
          "data": {
            "text/plain": [
              "True"
            ]
          },
          "execution_count": 23,
          "metadata": {},
          "output_type": "execute_result"
        }
      ],
      "source": [
        "check_even_list([1,2,3])"
      ]
    },
    {
      "cell_type": "code",
      "execution_count": null,
      "metadata": {
        "id": "2sy9cXtcl96R"
      },
      "outputs": [],
      "source": [
        "def check_odd_list(num_list):\n",
        "    for num in num_list:\n",
        "        if num % 2 == 3:\n",
        "         return True \n",
        "        else:\n",
        "             False\n",
        "\n",
        "\n"
      ]
    },
    {
      "cell_type": "code",
      "execution_count": null,
      "metadata": {
        "id": "3_91-wdRmjDV"
      },
      "outputs": [],
      "source": [
        "check_odd_list([6,9,6])"
      ]
    },
    {
      "cell_type": "code",
      "execution_count": null,
      "metadata": {
        "colab": {
          "base_uri": "https://localhost:8080/"
        },
        "id": "zJPcAuD_XMA-",
        "outputId": "120b990b-375c-4049-b2a0-1dd0bd47a89c"
      },
      "outputs": [
        {
          "name": "stdout",
          "output_type": "stream",
          "text": [
            "('sid', 200)\n",
            "('is', 300)\n",
            "('german', 600)\n"
          ]
        }
      ],
      "source": [
        "stock_prices = [('sid',200),('is',300),('german',600)]\n",
        "for item in stock_prices:\n",
        "  print(item)"
      ]
    },
    {
      "cell_type": "code",
      "execution_count": null,
      "metadata": {
        "colab": {
          "base_uri": "https://localhost:8080/"
        },
        "id": "CzYz3vtAaiwn",
        "outputId": "afee3da4-e65f-4d8e-943f-7aaf2f464f3c"
      },
      "outputs": [
        {
          "name": "stdout",
          "output_type": "stream",
          "text": [
            "300\n",
            "400\n",
            "700\n"
          ]
        }
      ],
      "source": [
        "for name,number in stock_prices:\n",
        "  print(number+100)"
      ]
    },
    {
      "cell_type": "code",
      "execution_count": null,
      "metadata": {
        "colab": {
          "base_uri": "https://localhost:8080/"
        },
        "id": "8AqmXumad5vY",
        "outputId": "15cea661-6660-40a3-addc-4ad4d81408d7"
      },
      "outputs": [
        {
          "name": "stdout",
          "output_type": "stream",
          "text": [
            "abby 100\n",
            "billy 200\n",
            "sally 300\n"
          ]
        }
      ],
      "source": [
        "work_hours = [('abby',100),('billy',200),('sally',300)]\n",
        "\n",
        "def employee_check(work_hours):\n",
        "    current_max = 0\n",
        "    employee_of_month = ''\n",
        "    # return (employee_of_month,current_max)\n",
        "    for employee,hours in work_hours:\n",
        "      if hours > current_max:\n",
        "        current_max = hours\n",
        "        employee_of_month = employee\n",
        "      else:\n",
        "           pass\n",
        "      # return(employee_of_month,current_max)\n",
        "      print(employee_of_month,current_max)\n",
        "\n",
        "employee_check(work_hours)\n",
        "\n",
        "\n",
        "\n",
        "\n",
        "\n",
        "  \n"
      ]
    },
    {
      "cell_type": "code",
      "execution_count": null,
      "metadata": {
        "colab": {
          "base_uri": "https://localhost:8080/"
        },
        "id": "MNggMLOUo9Vk",
        "outputId": "01564138-3df6-496b-96b0-e9039d4ada13"
      },
      "outputs": [
        {
          "name": "stdout",
          "output_type": "stream",
          "text": [
            "abby 100\n",
            "billy 200\n",
            "sally 300\n"
          ]
        }
      ],
      "source": [
        "employee_check(work_hours)"
      ]
    },
    {
      "cell_type": "code",
      "execution_count": null,
      "metadata": {
        "id": "kPRWyG2jFqP7"
      },
      "outputs": [],
      "source": [
        "example = [1,2,3,4,5,6,7]\n",
        "from random import shuffle\n",
        "shuffle(example)\n"
      ]
    },
    {
      "cell_type": "code",
      "execution_count": null,
      "metadata": {
        "colab": {
          "base_uri": "https://localhost:8080/"
        },
        "id": "tSut6g8OHrOI",
        "outputId": "4203a710-a8fd-41b7-cd78-bec17208fcf8"
      },
      "outputs": [
        {
          "data": {
            "text/plain": [
              "[1, 5, 6, 4, 7, 3, 2]"
            ]
          },
          "execution_count": 41,
          "metadata": {},
          "output_type": "execute_result"
        }
      ],
      "source": [
        "example"
      ]
    },
    {
      "cell_type": "code",
      "execution_count": null,
      "metadata": {
        "id": "rIHYIRhMawsb"
      },
      "outputs": [],
      "source": [
        "example = [11,12,13,15,16,17,18,19]\n",
        "from random import shuffle\n",
        "result = shuffle(example)\n",
        "result\n",
        "\n",
        "\n",
        "\n"
      ]
    },
    {
      "cell_type": "code",
      "execution_count": null,
      "metadata": {
        "id": "s2667c2gm91k"
      },
      "outputs": [],
      "source": [
        "def shuffle_list(mylist):\n",
        "  shuffle(mylist)\n",
        "  return mylist\n",
        "  "
      ]
    },
    {
      "cell_type": "code",
      "execution_count": null,
      "metadata": {
        "colab": {
          "base_uri": "https://localhost:8080/"
        },
        "id": "9SwPzg1Jncaj",
        "outputId": "6aa7a55f-365c-4b4c-eb96-a744eb7bd684"
      },
      "outputs": [
        {
          "data": {
            "text/plain": [
              "[19, 17, 12, 13, 11, 18, 15, 16]"
            ]
          },
          "execution_count": 27,
          "metadata": {},
          "output_type": "execute_result"
        }
      ],
      "source": [
        "result= shuffle_list(example)\n",
        "result"
      ]
    },
    {
      "cell_type": "code",
      "execution_count": null,
      "metadata": {
        "colab": {
          "base_uri": "https://localhost:8080/"
        },
        "id": "JWzn3tPeoPxM",
        "outputId": "a30d63f4-2720-48e7-d94e-7e45833576f2"
      },
      "outputs": [
        {
          "data": {
            "text/plain": [
              "['', '', '0']"
            ]
          },
          "execution_count": 28,
          "metadata": {},
          "output_type": "execute_result"
        }
      ],
      "source": [
        "mylist = ['','0','']\n",
        "shuffle_list(mylist)"
      ]
    },
    {
      "cell_type": "code",
      "execution_count": null,
      "metadata": {
        "id": "uSyKbG5spwQj"
      },
      "outputs": [],
      "source": [
        "def player_guess():\n",
        "  guess=''\n",
        "  \n",
        "  guess = input(\"pick a number: 0,1, or 2\")"
      ]
    },
    {
      "cell_type": "code",
      "execution_count": null,
      "metadata": {
        "id": "Xf3II7ziui0q"
      },
      "outputs": [],
      "source": []
    },
    {
      "cell_type": "code",
      "execution_count": null,
      "metadata": {
        "id": "dCQGj3P74UVu"
      },
      "outputs": [],
      "source": [
        "def myfunc(x):\n",
        "    if x==True:\n",
        "       return 'hello'\n",
        "    elif x==False:\n",
        "       return 'Goodbye'\n",
        "\n"
      ]
    },
    {
      "cell_type": "code",
      "execution_count": null,
      "metadata": {
        "id": "_S-254o7Ahws"
      },
      "outputs": [],
      "source": []
    },
    {
      "cell_type": "code",
      "execution_count": null,
      "metadata": {
        "id": "dYkz7ZOK7gU8"
      },
      "outputs": [],
      "source": [
        "def myfunc(x,y,z):\n",
        "    if z==True:\n",
        "      return'x'\n",
        "    else:\n",
        "      return'y'"
      ]
    },
    {
      "cell_type": "code",
      "execution_count": null,
      "metadata": {
        "id": "Dw4XkKdIAjfi"
      },
      "outputs": [],
      "source": [
        "def is_even(num):\n",
        "  if num%2==0:\n",
        "    return True\n",
        "  else:\n",
        "    return False\n",
        "\n",
        "  "
      ]
    },
    {
      "cell_type": "code",
      "execution_count": null,
      "metadata": {
        "id": "7OmSAQ2qB7PJ"
      },
      "outputs": [],
      "source": [
        "def is_greater(a,b):\n",
        "  if a>b:\n",
        "     return True\n",
        "  else:\n",
        "    return False"
      ]
    },
    {
      "cell_type": "code",
      "execution_count": null,
      "metadata": {
        "id": "XadX3LQkGG1V"
      },
      "outputs": [],
      "source": [
        "def myfunc(a,b,c,d,e):\n",
        "  # Returns the 5% of the sum of a,b\n",
        "  return sum((a,b,c,d,e))*0.05\n",
        "  \n",
        "\n",
        "  "
      ]
    },
    {
      "cell_type": "code",
      "execution_count": null,
      "metadata": {
        "colab": {
          "base_uri": "https://localhost:8080/"
        },
        "id": "RtzEeuQ1IO_2",
        "outputId": "e3525922-0c53-469a-c224-545500196637"
      },
      "outputs": [
        {
          "data": {
            "text/plain": [
              "5.5"
            ]
          },
          "execution_count": 51,
          "metadata": {},
          "output_type": "execute_result"
        }
      ],
      "source": [
        "myfunc(5,15,20,30,40)"
      ]
    },
    {
      "cell_type": "code",
      "execution_count": null,
      "metadata": {
        "id": "8UKj1P-jcwa3"
      },
      "outputs": [],
      "source": [
        "def myfunc(a,b,c,d,e):\n",
        "  # Returns the 5% if the sum of a and b\n",
        "    return sum((a,b,c,d,e))*0.05\n"
      ]
    },
    {
      "cell_type": "code",
      "execution_count": null,
      "metadata": {
        "colab": {
          "base_uri": "https://localhost:8080/"
        },
        "id": "ppggoj-Mekzb",
        "outputId": "f4af1f3a-b256-40dd-de49-c3a48ce5a7aa"
      },
      "outputs": [
        {
          "data": {
            "text/plain": [
              "7.5"
            ]
          },
          "execution_count": 69,
          "metadata": {},
          "output_type": "execute_result"
        }
      ],
      "source": [
        "myfunc(10,20,30,40,50)"
      ]
    },
    {
      "cell_type": "code",
      "execution_count": null,
      "metadata": {
        "id": "bl092BXaqopw"
      },
      "outputs": [],
      "source": [
        "def myfunc(*args):\n",
        "    return sum((args))*0.05\n",
        "\n",
        "  \n",
        "  \n"
      ]
    },
    {
      "cell_type": "code",
      "execution_count": null,
      "metadata": {
        "id": "ycngR7tqXCVc"
      },
      "outputs": [],
      "source": []
    },
    {
      "cell_type": "code",
      "execution_count": null,
      "metadata": {
        "id": "aYvQSM_mtcYt"
      },
      "outputs": [],
      "source": []
    },
    {
      "cell_type": "code",
      "execution_count": null,
      "metadata": {
        "colab": {
          "base_uri": "https://localhost:8080/"
        },
        "id": "ReoVl0Nos0sv",
        "outputId": "718f16e8-b0cd-4745-d0f9-a62f254abc28"
      },
      "outputs": [
        {
          "data": {
            "text/plain": [
              "12.5"
            ]
          },
          "execution_count": 84,
          "metadata": {},
          "output_type": "execute_result"
        }
      ],
      "source": [
        "myfunc(10,20,30,40,50,100)"
      ]
    },
    {
      "cell_type": "code",
      "execution_count": null,
      "metadata": {
        "id": "YtKxPNU1tesA"
      },
      "outputs": [],
      "source": [
        "def myfunc(*args):\n",
        "  for item in args:\n",
        "    print(item)"
      ]
    },
    {
      "cell_type": "code",
      "execution_count": null,
      "metadata": {
        "colab": {
          "base_uri": "https://localhost:8080/"
        },
        "id": "hkPSgT2euGqb",
        "outputId": "df38a424-04ca-440a-a013-da98320491c0"
      },
      "outputs": [
        {
          "name": "stdout",
          "output_type": "stream",
          "text": [
            "10\n",
            "20\n",
            "30\n",
            "40\n"
          ]
        }
      ],
      "source": [
        "myfunc(10,20,30,40)"
      ]
    },
    {
      "cell_type": "code",
      "execution_count": null,
      "metadata": {
        "id": "UDqw3iGyXEJS"
      },
      "outputs": [],
      "source": [
        "def myfunc(**kwargs):\n",
        "    if 'fruit' in kwargs:\n",
        "      print('i like fruit is {}'.format(kwargs['fruit']))\n",
        "    else:\n",
        "       print('i do not find any fruit here') "
      ]
    },
    {
      "cell_type": "code",
      "execution_count": null,
      "metadata": {
        "colab": {
          "base_uri": "https://localhost:8080/"
        },
        "id": "81ulNFRPYu9N",
        "outputId": "36add7b6-3304-46c8-e70f-d2d1f875c1a0"
      },
      "outputs": [
        {
          "name": "stdout",
          "output_type": "stream",
          "text": [
            "i like fruit is apple\n"
          ]
        }
      ],
      "source": [
        "myfunc(fruit='apple')"
      ]
    },
    {
      "cell_type": "code",
      "execution_count": null,
      "metadata": {
        "id": "VklbDlAgewBS"
      },
      "outputs": [],
      "source": [
        "def person(name,**data):\n",
        "    print(name)\n",
        "    print(data)\n",
        "    \n",
        "\n"
      ]
    },
    {
      "cell_type": "code",
      "execution_count": null,
      "metadata": {
        "colab": {
          "base_uri": "https://localhost:8080/",
          "height": 165
        },
        "id": "mA8oGNAvjgQb",
        "outputId": "cae1af0f-b1c8-4c29-dabd-c9be8d2c2e2d"
      },
      "outputs": [
        {
          "ename": "TypeError",
          "evalue": "ignored",
          "output_type": "error",
          "traceback": [
            "\u001b[0;31m---------------------------------------------------------------------------\u001b[0m",
            "\u001b[0;31mTypeError\u001b[0m                                 Traceback (most recent call last)",
            "\u001b[0;32m<ipython-input-35-e1dbff6c522d>\u001b[0m in \u001b[0;36m<module>\u001b[0;34m\u001b[0m\n\u001b[0;32m----> 1\u001b[0;31m \u001b[0mperson\u001b[0m\u001b[0;34m(\u001b[0m\u001b[0;34m'sid'\u001b[0m\u001b[0;34m,\u001b[0m\u001b[0;36m32\u001b[0m\u001b[0;34m,\u001b[0m\u001b[0;34m'mumbai'\u001b[0m\u001b[0;34m,\u001b[0m\u001b[0;36m30031987\u001b[0m\u001b[0;34m)\u001b[0m\u001b[0;34m\u001b[0m\u001b[0;34m\u001b[0m\u001b[0m\n\u001b[0m",
            "\u001b[0;31mTypeError\u001b[0m: person() takes 1 positional argument but 4 were given"
          ]
        }
      ],
      "source": [
        "person('sid',32,'mumbai',30031987)"
      ]
    },
    {
      "cell_type": "code",
      "execution_count": null,
      "metadata": {
        "id": "QUi95y0Hn4qc"
      },
      "outputs": [],
      "source": [
        "def myfunc(*args):\n",
        "  result = []\n",
        "  for num in args:\n",
        "    if num%2 == 0:\n",
        "      result == result.append(num)\n",
        "      # print(\"Even no - \",result)\n",
        "    else:\n",
        "      pass\n",
        "  print(\"Even no - \",result)\n",
        "  \n",
        "\n",
        "  \n",
        "  \n",
        "  "
      ]
    },
    {
      "cell_type": "code",
      "execution_count": null,
      "metadata": {
        "colab": {
          "base_uri": "https://localhost:8080/"
        },
        "id": "waNjh3mj7YGE",
        "outputId": "88e07c87-4c9e-474d-b642-1898dd33baf6"
      },
      "outputs": [
        {
          "name": "stdout",
          "output_type": "stream",
          "text": [
            "Even no -  [10, 20, 30]\n"
          ]
        }
      ],
      "source": [
        "myfunc(10,20,21,30)"
      ]
    },
    {
      "cell_type": "code",
      "execution_count": null,
      "metadata": {
        "id": "vDeS73hzt2GV"
      },
      "outputs": [],
      "source": [
        "def lesser_events(a,b):\n",
        "    if a%2==0 and b%2==0:\n",
        "        if a < b:\n",
        "          result = a\n",
        "        else:\n",
        "          result = b\n",
        "    else:\n",
        "        if a > b:\n",
        "          result = a\n",
        "        else:\n",
        "          result = b\n",
        "    return result\n"
      ]
    },
    {
      "cell_type": "code",
      "execution_count": null,
      "metadata": {
        "colab": {
          "base_uri": "https://localhost:8080/"
        },
        "id": "A9_Vx9FCyQ6j",
        "outputId": "ee502e86-9a8e-4101-a7ac-c31ab37b7206"
      },
      "outputs": [
        {
          "data": {
            "text/plain": [
              "2"
            ]
          },
          "execution_count": 95,
          "metadata": {},
          "output_type": "execute_result"
        }
      ],
      "source": [
        "lesser_events(2,4)"
      ]
    },
    {
      "cell_type": "code",
      "execution_count": null,
      "metadata": {
        "id": "ZcFRHJUyoQZn"
      },
      "outputs": [],
      "source": [
        "def animal_craker(text):\n",
        "  wordlist = text.split()\n",
        "  print(wordlist)\n",
        "  first = wordlist[0]\n",
        "  second = wordlist[1]\n",
        "  \n",
        "  return first[0] == second[0]\n",
        "\n",
        "\n",
        "                   "
      ]
    },
    {
      "cell_type": "code",
      "execution_count": null,
      "metadata": {
        "colab": {
          "base_uri": "https://localhost:8080/"
        },
        "id": "om8ulvxuyWUE",
        "outputId": "66049bb8-a33b-41b7-fd86-e685bee53eb1"
      },
      "outputs": [
        {
          "name": "stdout",
          "output_type": "stream",
          "text": [
            "['levelheaded', 'lama']\n"
          ]
        },
        {
          "data": {
            "text/plain": [
              "True"
            ]
          },
          "execution_count": 12,
          "metadata": {},
          "output_type": "execute_result"
        }
      ],
      "source": [
        "animal_craker('levelheaded lama')"
      ]
    },
    {
      "cell_type": "code",
      "execution_count": null,
      "metadata": {
        "colab": {
          "base_uri": "https://localhost:8080/"
        },
        "id": "d0v2uI11yv7Q",
        "outputId": "5ad21b6e-7679-4bb2-a03c-1cd8d8be7b67"
      },
      "outputs": [
        {
          "name": "stdout",
          "output_type": "stream",
          "text": [
            "['crazy', 'kangaru']\n"
          ]
        },
        {
          "data": {
            "text/plain": [
              "False"
            ]
          },
          "execution_count": 15,
          "metadata": {},
          "output_type": "execute_result"
        }
      ],
      "source": [
        "animal_craker('crazy kangaru')"
      ]
    },
    {
      "cell_type": "code",
      "execution_count": null,
      "metadata": {
        "id": "iCO94Q_x9csy"
      },
      "outputs": [],
      "source": [
        "def makes_twenty(n1,n2):\n",
        "  if n1 + n2 == 20:\n",
        "    return True \n",
        "  elif n1 == 20:\n",
        "    return True \n",
        "  elif n2 == 20:\n",
        "    return True\n",
        "  else:\n",
        "    return False"
      ]
    },
    {
      "cell_type": "code",
      "execution_count": null,
      "metadata": {
        "colab": {
          "base_uri": "https://localhost:8080/"
        },
        "id": "-wVfxTicCtYS",
        "outputId": "b7cff1f5-3b41-47f7-8fbc-c0318234176a"
      },
      "outputs": [
        {
          "data": {
            "text/plain": [
              "True"
            ]
          },
          "execution_count": 3,
          "metadata": {},
          "output_type": "execute_result"
        }
      ],
      "source": [
        "makes_twenty(20,3)"
      ]
    },
    {
      "cell_type": "code",
      "execution_count": null,
      "metadata": {
        "id": "CuI9ddqfpS69"
      },
      "outputs": [],
      "source": [
        "def old_mcdonalds(name):\n",
        "    first_letter = name[0]\n",
        "    inbetween = name[1:3]\n",
        "    fourth_letter = name[3]\n",
        "    rest = name[3:]\n",
        "    return first_letter.upper() + inbetween + fourth_letter.upper() + rest"
      ]
    },
    {
      "cell_type": "code",
      "execution_count": null,
      "metadata": {
        "id": "PGiTh7uQFtZd"
      },
      "outputs": [],
      "source": [
        "def old_macdonalds(name):\n",
        "    first_letter = name[0]\n",
        "    second_letter = name[1:3]\n",
        "    rest = name[3:]\n",
        "    return first_letter.capitalize() + second_letter.capitalize() + rest"
      ]
    },
    {
      "cell_type": "code",
      "execution_count": null,
      "metadata": {
        "colab": {
          "base_uri": "https://localhost:8080/",
          "height": 35
        },
        "id": "fdRGkYCoG9iH",
        "outputId": "0cd003df-1eeb-4377-c9a0-8e4075b7d342"
      },
      "outputs": [
        {
          "data": {
            "application/vnd.google.colaboratory.intrinsic+json": {
              "type": "string"
            },
            "text/plain": [
              "'MAcdonalds'"
            ]
          },
          "execution_count": 13,
          "metadata": {},
          "output_type": "execute_result"
        }
      ],
      "source": [
        "old_macdonalds('macdonalds')"
      ]
    },
    {
      "cell_type": "code",
      "execution_count": null,
      "metadata": {
        "id": "D-WF-3gtJdm6"
      },
      "outputs": [],
      "source": [
        "def love_doctor(text):\n",
        "    wordlist = text.split()\n",
        "    reverse_word_list =wordlist [::-1]\n",
        "    return reverse_word_list"
      ]
    },
    {
      "cell_type": "code",
      "execution_count": null,
      "metadata": {
        "colab": {
          "base_uri": "https://localhost:8080/"
        },
        "id": "TchjM4x0M18T",
        "outputId": "266bc29c-9992-4e22-cb21-d532efd9b57b"
      },
      "outputs": [
        {
          "data": {
            "text/plain": [
              "['yoda', 'am', 'i', 'hi']"
            ]
          },
          "execution_count": 12,
          "metadata": {},
          "output_type": "execute_result"
        }
      ],
      "source": [
        "love_doctor('hi i am yoda')"
      ]
    },
    {
      "cell_type": "code",
      "execution_count": null,
      "metadata": {
        "id": "3s-Hd-cxOYtY"
      },
      "outputs": [],
      "source": [
        "def love_doctor(text):\n",
        "    wordlist = text.split()\n",
        "    reverse_word_list =wordlist [::-1]\n",
        "    return ' '.join (reverse_word_list)\n"
      ]
    },
    {
      "cell_type": "code",
      "execution_count": null,
      "metadata": {
        "colab": {
          "base_uri": "https://localhost:8080/",
          "height": 35
        },
        "id": "xHOAoH2WOjBh",
        "outputId": "0d1c3b3a-ea58-4982-c720-6ee73e25ae8d"
      },
      "outputs": [
        {
          "data": {
            "application/vnd.google.colaboratory.intrinsic+json": {
              "type": "string"
            },
            "text/plain": [
              "'yoda am i hi'"
            ]
          },
          "execution_count": 17,
          "metadata": {},
          "output_type": "execute_result"
        }
      ],
      "source": [
        "love_doctor('hi i am yoda')"
      ]
    },
    {
      "cell_type": "code",
      "execution_count": null,
      "metadata": {
        "id": "uIB3Ztz7Qmuo"
      },
      "outputs": [],
      "source": [
        "def almost_there(n):\n",
        "    return (abs(100-n) <= 10 or abs(200-n) <= 10)"
      ]
    },
    {
      "cell_type": "code",
      "execution_count": null,
      "metadata": {
        "colab": {
          "base_uri": "https://localhost:8080/"
        },
        "id": "8S21Pm11SVyR",
        "outputId": "9c2bf1b5-4d5b-4d14-f01a-3a322275a2fc"
      },
      "outputs": [
        {
          "data": {
            "text/plain": [
              "True"
            ]
          },
          "execution_count": 31,
          "metadata": {},
          "output_type": "execute_result"
        }
      ],
      "source": [
        "almost_there(209)"
      ]
    },
    {
      "cell_type": "code",
      "execution_count": null,
      "metadata": {
        "id": "A0OKqRAMwJd8"
      },
      "outputs": [],
      "source": [
        "def has_33(nums):\n",
        "    for i in range(0,len(nums)-1):\n",
        "      if nums[i] == 3 and nums[i+1] == 3:\n",
        "        return True \n",
        "    return False\n",
        "    \n",
        "\n"
      ]
    },
    {
      "cell_type": "code",
      "execution_count": null,
      "metadata": {
        "colab": {
          "base_uri": "https://localhost:8080/"
        },
        "id": "gx_-R_Dg1RVe",
        "outputId": "6d4c1c3a-d6f8-4881-ef6d-376fc7135015"
      },
      "outputs": [
        {
          "data": {
            "text/plain": [
              "True"
            ]
          },
          "execution_count": 20,
          "metadata": {},
          "output_type": "execute_result"
        }
      ],
      "source": [
        "has_33([1,3,3])"
      ]
    },
    {
      "cell_type": "code",
      "execution_count": null,
      "metadata": {
        "id": "GciCSH8q1Wcg"
      },
      "outputs": [],
      "source": [
        "def has_33(digits):\n",
        "    for i in range(0,len(digits)-1):\n",
        "      if digits[i] == 1 and digits[i+2] == 1:\n",
        "        return True\n",
        "    return False"
      ]
    },
    {
      "cell_type": "code",
      "execution_count": null,
      "metadata": {
        "colab": {
          "base_uri": "https://localhost:8080/"
        },
        "id": "KyCTUpiO2pfX",
        "outputId": "9ef679fa-d29c-4265-de71-83b60a1dfda2"
      },
      "outputs": [
        {
          "data": {
            "text/plain": [
              "False"
            ]
          },
          "execution_count": 16,
          "metadata": {},
          "output_type": "execute_result"
        }
      ],
      "source": [
        "has_33([1,3,3])"
      ]
    },
    {
      "cell_type": "code",
      "execution_count": null,
      "metadata": {
        "id": "iWxP0nz654Ma"
      },
      "outputs": [],
      "source": [
        "def blackjack(a,b,c):\n",
        "    if sum([a,b,c]) <= 21:\n",
        "      return sum([a,b,c])\n",
        "    elif 11 in (a,b,c) and sum([a,b,c]) <= 31:\n",
        "      return sum([a,b,c])-10\n",
        "    else:\n",
        "      return \"BUSTED\"\n",
        "\n"
      ]
    },
    {
      "cell_type": "code",
      "execution_count": null,
      "metadata": {
        "colab": {
          "base_uri": "https://localhost:8080/"
        },
        "id": "zT-mKIaE3EwA",
        "outputId": "bfd3bf0f-9735-495c-b11a-1b15bd915a3b"
      },
      "outputs": [
        {
          "data": {
            "text/plain": [
              "19"
            ]
          },
          "execution_count": 15,
          "metadata": {},
          "output_type": "execute_result"
        }
      ],
      "source": [
        "blackjack(9,9,11)"
      ]
    },
    {
      "cell_type": "code",
      "execution_count": null,
      "metadata": {
        "id": "HSftp21a4Eoz"
      },
      "outputs": [],
      "source": [
        "def summer_69(arr):\n",
        "    total = 0\n",
        "    add = True\n",
        "    for num in arr:\n",
        "     \n",
        "      # if number is 6, pause adding\n",
        "      if num == 6:\n",
        "        add = False\n",
        "      # if number is 9 and adding was paused\n",
        "      # resume adding.\n",
        "      elif num == 9 and add == False:\n",
        "        add = True\n",
        "        # Skip adding 9 in this loop iteration\n",
        "        print(\"Reached 9, skip addition\")\n",
        "        continue\n",
        "      if add == True:\n",
        "        total += num\n",
        "      print(\"Number: %s, total: %s, Add:%s\"%(num, total, add))\n",
        "    return total\n",
        "    \n",
        "\n",
        "\n",
        "         \n",
        "\n",
        "\n"
      ]
    },
    {
      "cell_type": "code",
      "execution_count": null,
      "metadata": {
        "id": "hhxUJglqBvA7"
      },
      "outputs": [],
      "source": []
    },
    {
      "cell_type": "code",
      "execution_count": null,
      "metadata": {
        "colab": {
          "base_uri": "https://localhost:8080/"
        },
        "id": "Qk3R_OSPAIWa",
        "outputId": "d07fb011-bf32-48f5-992e-709beb4f93bc"
      },
      "outputs": [
        {
          "name": "stdout",
          "output_type": "stream",
          "text": [
            "Number: 4, total: 4, Add:True\n",
            "Number: 5, total: 9, Add:True\n",
            "Number: 6, total: 9, Add:False\n",
            "Number: 7, total: 9, Add:False\n",
            "Number: 8, total: 9, Add:False\n",
            "Reached 9, skip addition\n",
            "9\n",
            "Number: 10, total: 10, Add:True\n",
            "Number: 10, total: 20, Add:True\n",
            "Number: 6, total: 20, Add:False\n",
            "Number: 2, total: 20, Add:False\n",
            "Number: 3, total: 20, Add:False\n",
            "Reached 9, skip addition\n",
            "Number: 9, total: 29, Add:True\n",
            "29\n",
            "Number: 6, total: 0, Add:False\n",
            "Number: 6, total: 0, Add:False\n",
            "Reached 9, skip addition\n",
            "Number: 10, total: 10, Add:True\n",
            "Number: 0, total: 10, Add:True\n",
            "Number: 6, total: 10, Add:False\n",
            "Number: 5, total: 10, Add:False\n",
            "Number: 6, total: 10, Add:False\n",
            "Reached 9, skip addition\n",
            "10\n"
          ]
        }
      ],
      "source": [
        "print(summer_69([4,5,6,7,8,9]))\n",
        "print(summer_69([10,10,6,2,3,9,9]))\n",
        "print(summer_69([6,6,9,10,0,6,5,6,9]))"
      ]
    },
    {
      "cell_type": "code",
      "execution_count": null,
      "metadata": {
        "id": "zbdXw-HRHtH_"
      },
      "outputs": [],
      "source": [
        "def square(num):\n",
        "    return num**2\n",
        "    "
      ]
    },
    {
      "cell_type": "code",
      "execution_count": null,
      "metadata": {
        "id": "Mv563BvnC7Wp"
      },
      "outputs": [],
      "source": [
        " my_nums = [1,2,3,4,5]\n"
      ]
    },
    {
      "cell_type": "code",
      "execution_count": null,
      "metadata": {
        "colab": {
          "base_uri": "https://localhost:8080/"
        },
        "id": "WcNu3mqJD1jR",
        "outputId": "0280c922-e070-400e-fab2-c5f08a0796a6"
      },
      "outputs": [
        {
          "name": "stdout",
          "output_type": "stream",
          "text": [
            "1\n",
            "4\n",
            "9\n",
            "16\n",
            "25\n"
          ]
        }
      ],
      "source": [
        " for item in map(square,my_nums):\n",
        "   print(item)"
      ]
    },
    {
      "cell_type": "code",
      "execution_count": null,
      "metadata": {
        "colab": {
          "base_uri": "https://localhost:8080/"
        },
        "id": "GsR3D5EmEFNF",
        "outputId": "f2787797-a96d-492b-b5fa-e13cce8fad7c"
      },
      "outputs": [
        {
          "data": {
            "text/plain": [
              "[1, 4, 9, 16, 25]"
            ]
          },
          "execution_count": 12,
          "metadata": {},
          "output_type": "execute_result"
        }
      ],
      "source": [
        "list(map(square,my_nums))"
      ]
    },
    {
      "cell_type": "code",
      "execution_count": null,
      "metadata": {
        "id": "Wc7kp1ieERCw"
      },
      "outputs": [],
      "source": [
        "def splicer(mystring):\n",
        "  if len(mystring)%2 == 0:\n",
        "      return 'even'\n",
        "  else:\n",
        "      return mystring[1]"
      ]
    },
    {
      "cell_type": "code",
      "execution_count": null,
      "metadata": {
        "id": "X5ld7bPdGnwN"
      },
      "outputs": [],
      "source": [
        "names =['sid','is','god','of','ware']\n",
        "\n"
      ]
    },
    {
      "cell_type": "code",
      "execution_count": null,
      "metadata": {
        "colab": {
          "base_uri": "https://localhost:8080/"
        },
        "id": "oNy1WOCwHjKs",
        "outputId": "289485df-6856-479e-fd58-f34d7f445bbf"
      },
      "outputs": [
        {
          "data": {
            "text/plain": [
              "['i', 'even', 'o', 'even', 'even']"
            ]
          },
          "execution_count": 56,
          "metadata": {},
          "output_type": "execute_result"
        }
      ],
      "source": [
        "list(map(splicer,names))"
      ]
    },
    {
      "cell_type": "code",
      "execution_count": null,
      "metadata": {
        "id": "CQ-jHMVVG6yJ"
      },
      "outputs": [],
      "source": [
        "def check_even(num):\n",
        "    return num%2 == 0\n"
      ]
    },
    {
      "cell_type": "code",
      "execution_count": null,
      "metadata": {
        "id": "O2-ZyRhSLutU"
      },
      "outputs": [],
      "source": [
        "mynums = [1,2,3,4]\n"
      ]
    },
    {
      "cell_type": "code",
      "execution_count": null,
      "metadata": {
        "id": "sbwd-AnYdxqA"
      },
      "outputs": [],
      "source": []
    },
    {
      "cell_type": "code",
      "execution_count": null,
      "metadata": {
        "colab": {
          "base_uri": "https://localhost:8080/"
        },
        "id": "y4fNoauzL3mi",
        "outputId": "dd3cf859-c4c5-4c3e-a4af-ee6e7961b21c"
      },
      "outputs": [
        {
          "data": {
            "text/plain": [
              "[2, 4]"
            ]
          },
          "execution_count": 27,
          "metadata": {},
          "output_type": "execute_result"
        }
      ],
      "source": [
        "list(filter(check_even,mynums))"
      ]
    },
    {
      "cell_type": "code",
      "execution_count": null,
      "metadata": {
        "colab": {
          "base_uri": "https://localhost:8080/"
        },
        "id": "YOMnkPEzMHd4",
        "outputId": "10055613-d997-411e-810f-4e2397363d38"
      },
      "outputs": [
        {
          "name": "stdout",
          "output_type": "stream",
          "text": [
            "2\n",
            "4\n"
          ]
        }
      ],
      "source": [
        "for item in filter(check_even,mynums):\n",
        "  print(item)"
      ]
    },
    {
      "cell_type": "code",
      "execution_count": null,
      "metadata": {
        "id": "9CWbETBKMjSP"
      },
      "outputs": [],
      "source": [
        "def square(num): return num**2\n",
        "    \n",
        "\n",
        "\n"
      ]
    },
    {
      "cell_type": "code",
      "execution_count": null,
      "metadata": {
        "colab": {
          "base_uri": "https://localhost:8080/",
          "height": 130
        },
        "id": "5Iu8mAFbWi26",
        "outputId": "636a1754-01df-48e5-e28b-7d4fe3c5f44c"
      },
      "outputs": [
        {
          "ename": "SyntaxError",
          "evalue": "ignored",
          "output_type": "error",
          "traceback": [
            "\u001b[0;36m  File \u001b[0;32m\"<ipython-input-45-119508adb805>\"\u001b[0;36m, line \u001b[0;32m1\u001b[0m\n\u001b[0;31m    square = lamda num:num ** 2\u001b[0m\n\u001b[0m                     ^\u001b[0m\n\u001b[0;31mSyntaxError\u001b[0m\u001b[0;31m:\u001b[0m invalid syntax\n"
          ]
        }
      ],
      "source": [
        "square = lamda num:num ** 2"
      ]
    },
    {
      "cell_type": "code",
      "execution_count": null,
      "metadata": {
        "colab": {
          "base_uri": "https://localhost:8080/"
        },
        "id": "lj3VGWmKWA3s",
        "outputId": "4a9abd58-752f-4039-9d80-477c3dd6b597"
      },
      "outputs": [
        {
          "data": {
            "text/plain": [
              "256"
            ]
          },
          "execution_count": 44,
          "metadata": {},
          "output_type": "execute_result"
        }
      ],
      "source": [
        "square(16)"
      ]
    },
    {
      "cell_type": "code",
      "execution_count": null,
      "metadata": {
        "colab": {
          "base_uri": "https://localhost:8080/",
          "height": 130
        },
        "id": "BG41nnTNXEj_",
        "outputId": "72151fee-3314-4a59-8b79-4aa4f6a7a694"
      },
      "outputs": [
        {
          "ename": "SyntaxError",
          "evalue": "ignored",
          "output_type": "error",
          "traceback": [
            "\u001b[0;36m  File \u001b[0;32m\"<ipython-input-52-74f351c9ee88>\"\u001b[0;36m, line \u001b[0;32m1\u001b[0m\n\u001b[0;31m    (list(filter(lamda num:num%2 == 0,mynums))\u001b[0m\n\u001b[0m                         ^\u001b[0m\n\u001b[0;31mSyntaxError\u001b[0m\u001b[0;31m:\u001b[0m invalid syntax\n"
          ]
        }
      ],
      "source": [
        "(list(filter(lamda num:num%2 == 0,mynums))\n",
        "  "
      ]
    },
    {
      "cell_type": "code",
      "execution_count": null,
      "metadata": {
        "colab": {
          "base_uri": "https://localhost:8080/"
        },
        "id": "wQnYruWtY_tr",
        "outputId": "e9981f7d-002e-4689-85b3-be49399fc21a"
      },
      "outputs": [
        {
          "data": {
            "text/plain": [
              "['sid', 'is', 'god', 'of', 'ware']"
            ]
          },
          "execution_count": 5,
          "metadata": {},
          "output_type": "execute_result"
        }
      ],
      "source": [
        "names"
      ]
    },
    {
      "cell_type": "code",
      "execution_count": null,
      "metadata": {
        "colab": {
          "base_uri": "https://localhost:8080/"
        },
        "id": "bDAMIgk7ZE5N",
        "outputId": "ea84d530-2ecb-40e2-ed9c-5ec16bef1070"
      },
      "outputs": [
        {
          "data": {
            "text/plain": [
              "['s', 'i', 'g', 'o', 'w']"
            ]
          },
          "execution_count": 6,
          "metadata": {},
          "output_type": "execute_result"
        }
      ],
      "source": [
        "list(map(lambda x:x[0],names))"
      ]
    },
    {
      "cell_type": "code",
      "execution_count": null,
      "metadata": {
        "id": "X_hiQFNbawWK"
      },
      "outputs": [],
      "source": [
        "# to calulate the volume of the spere\n",
        "def vol(rad):\n",
        "  return  (4/3)*(3.14)*(rad**3)"
      ]
    },
    {
      "cell_type": "code",
      "execution_count": null,
      "metadata": {
        "colab": {
          "base_uri": "https://localhost:8080/"
        },
        "id": "-zKini7Fbap_",
        "outputId": "98bd760b-0df9-4468-f66e-4578d7cc49b5"
      },
      "outputs": [
        {
          "data": {
            "text/plain": [
              "33.49333333333333"
            ]
          },
          "execution_count": 2,
          "metadata": {},
          "output_type": "execute_result"
        }
      ],
      "source": [
        "vol(2)"
      ]
    },
    {
      "cell_type": "code",
      "execution_count": null,
      "metadata": {
        "colab": {
          "base_uri": "https://localhost:8080/"
        },
        "id": "cv5RFGyYfVyB",
        "outputId": "b0c6743e-0d60-4991-eb2b-4bec11f3fc50"
      },
      "outputs": [
        {
          "data": {
            "text/plain": [
              "True"
            ]
          },
          "execution_count": 4,
          "metadata": {},
          "output_type": "execute_result"
        }
      ],
      "source": [
        "#fucntion that checks a number is in the given range inclusive high and low\n",
        "5 in range(0,6)"
      ]
    },
    {
      "cell_type": "code",
      "execution_count": null,
      "metadata": {
        "id": "S4N4UjwBgHv8"
      },
      "outputs": [],
      "source": [
        "def ran_check(num,low,high):\n",
        "  return num in range(low,high+1)\n"
      ]
    },
    {
      "cell_type": "code",
      "execution_count": null,
      "metadata": {
        "colab": {
          "base_uri": "https://localhost:8080/"
        },
        "id": "QuP99XV-g3Ps",
        "outputId": "c41c11df-d269-4976-afa1-70a200b35d2e"
      },
      "outputs": [
        {
          "data": {
            "text/plain": [
              "True"
            ]
          },
          "execution_count": 8,
          "metadata": {},
          "output_type": "execute_result"
        }
      ],
      "source": [
        "ran_check(5,4,7)"
      ]
    },
    {
      "cell_type": "code",
      "execution_count": null,
      "metadata": {
        "id": "HNUwVx_bhfTQ"
      },
      "outputs": [],
      "source": [
        "def run_check(num,low,high):\n",
        "    if num in range(low,high+1):\n",
        "      print(f'{num} is in the range lwo high')\n",
        "    else:\n",
        "      print('not in range')\n"
      ]
    },
    {
      "cell_type": "code",
      "execution_count": null,
      "metadata": {
        "colab": {
          "base_uri": "https://localhost:8080/"
        },
        "id": "_SqT7m79ipL6",
        "outputId": "ed3b9cfb-165f-454c-a941-272a50bf397b"
      },
      "outputs": [
        {
          "name": "stdout",
          "output_type": "stream",
          "text": [
            "not in range\n"
          ]
        }
      ],
      "source": [
        "run_check(5,8,7)"
      ]
    },
    {
      "cell_type": "code",
      "execution_count": null,
      "metadata": {
        "id": "JMMp_8dSjErv"
      },
      "outputs": [],
      "source": [
        "# write a python function that accepts a string and calculates the upper case and lower case letters\n",
        "def up_low(s):\n",
        "    lowercase = 0\n",
        "    uppercase = 0\n",
        "    for char in s:\n",
        "      if char.isupper():\n",
        "        uppercase += 1\n",
        "      if char.islower():\n",
        "        lowercase +=1\n",
        "      else:\n",
        "        \n",
        "        pass\n",
        "    print(f'originalstring:{s}')\n",
        "    print(f'Lowercase count: {lowercase}')\n",
        "    print(f'Uppercase count: {uppercase}')\n",
        "\n",
        "      \n",
        "\n"
      ]
    },
    {
      "cell_type": "code",
      "execution_count": null,
      "metadata": {
        "colab": {
          "base_uri": "https://localhost:8080/"
        },
        "id": "_FdotrNyHdJO",
        "outputId": "cf31640e-dcb4-430b-b9a9-3f463692eb60"
      },
      "outputs": [
        {
          "name": "stdout",
          "output_type": "stream",
          "text": [
            "originalstring:Hello\n",
            "Lowercase count: 4\n",
            "Uppercase count: 1\n"
          ]
        }
      ],
      "source": [
        "up_low('Hello')"
      ]
    },
    {
      "cell_type": "code",
      "execution_count": null,
      "metadata": {
        "id": "SNoH1R-2VL2R"
      },
      "outputs": [],
      "source": [
        "# function which takes the list and return the list with unique elements \n",
        "def unique_list(lst):\n",
        "    return list(set(lst))"
      ]
    },
    {
      "cell_type": "code",
      "execution_count": null,
      "metadata": {
        "colab": {
          "base_uri": "https://localhost:8080/"
        },
        "id": "IU4QDQ-NVdhC",
        "outputId": "27aea640-4f9a-451e-ae9d-488d983e828f"
      },
      "outputs": [
        {
          "data": {
            "text/plain": [
              "[1, 2, 3, 4, 5, 6]"
            ]
          },
          "execution_count": 40,
          "metadata": {},
          "output_type": "execute_result"
        }
      ],
      "source": [
        "unique_list([1,1,1,1,2,3,4,4,5,6])"
      ]
    },
    {
      "cell_type": "code",
      "execution_count": null,
      "metadata": {
        "colab": {
          "base_uri": "https://localhost:8080/",
          "height": 133
        },
        "id": "oxMWIAHGa2Nr",
        "outputId": "2006c95c-0631-4a55-8f32-fbc918c19130"
      },
      "outputs": [
        {
          "output_type": "error",
          "ename": "SyntaxError",
          "evalue": "ignored",
          "traceback": [
            "\u001b[0;36m  File \u001b[0;32m\"<ipython-input-3-2d0e25b0eb7c>\"\u001b[0;36m, line \u001b[0;32m6\u001b[0m\n\u001b[0;31m    s == [::-1]\u001b[0m\n\u001b[0m          ^\u001b[0m\n\u001b[0;31mSyntaxError\u001b[0m\u001b[0;31m:\u001b[0m invalid syntax\n"
          ]
        }
      ],
      "source": [
        "#  write a function that checks whether a word is in palindrom or not\n",
        "def palindrom(s):\n",
        "   # remove spaces \n",
        "    s = s.replace(' ','')\n",
        "   #next step is to check if the string is == reversed version of the string\n",
        "     s == [::-1]\n",
        "    \n"
      ]
    },
    {
      "cell_type": "code",
      "execution_count": null,
      "metadata": {
        "id": "b_TYcnhpOklp"
      },
      "outputs": [],
      "source": [
        "row1 = ['',',','']\n",
        "row2 = ['',',','']\n",
        "row3 = ['',',','']"
      ]
    },
    {
      "cell_type": "code",
      "execution_count": null,
      "metadata": {
        "colab": {
          "base_uri": "https://localhost:8080/",
          "height": 69
        },
        "id": "_qYqbSTSPFi8",
        "outputId": "b934bb1c-7fc2-4826-d946-3c65af3477c8"
      },
      "outputs": [
        {
          "data": {
            "text/plain": [
              "['', ',', '']"
            ]
          },
          "metadata": {},
          "output_type": "display_data"
        },
        {
          "data": {
            "text/plain": [
              "['', ',', '']"
            ]
          },
          "metadata": {},
          "output_type": "display_data"
        },
        {
          "data": {
            "text/plain": [
              "['', ',', '']"
            ]
          },
          "metadata": {},
          "output_type": "display_data"
        }
      ],
      "source": [
        "display(row1,row2,row3)"
      ]
    },
    {
      "cell_type": "code",
      "execution_count": null,
      "metadata": {
        "id": "nm_0a-RQPeIG"
      },
      "outputs": [],
      "source": [
        "row1[2] ='x'\n"
      ]
    },
    {
      "cell_type": "code",
      "execution_count": null,
      "metadata": {
        "colab": {
          "base_uri": "https://localhost:8080/",
          "height": 69
        },
        "id": "CmfP_ib2PxCM",
        "outputId": "3b1ea114-c037-4dd8-ece7-9c2435c800e0"
      },
      "outputs": [
        {
          "data": {
            "text/plain": [
              "['', ',', 'x']"
            ]
          },
          "metadata": {},
          "output_type": "display_data"
        },
        {
          "data": {
            "text/plain": [
              "['', ',', '']"
            ]
          },
          "metadata": {},
          "output_type": "display_data"
        },
        {
          "data": {
            "text/plain": [
              "['', ',', '']"
            ]
          },
          "metadata": {},
          "output_type": "display_data"
        }
      ],
      "source": [
        "display(row1,row2,row3)"
      ]
    },
    {
      "cell_type": "code",
      "execution_count": null,
      "metadata": {
        "colab": {
          "base_uri": "https://localhost:8080/"
        },
        "id": "0oRds9nlZhKd",
        "outputId": "c56b8245-2f2d-4c4a-9bc2-fd9a088dcef6"
      },
      "outputs": [
        {
          "name": "stdout",
          "output_type": "stream",
          "text": [
            "enter a value2\n"
          ]
        }
      ],
      "source": [
        "result = input(\"enter a value\")"
      ]
    },
    {
      "cell_type": "code",
      "execution_count": null,
      "metadata": {
        "colab": {
          "base_uri": "https://localhost:8080/"
        },
        "id": "ziEKYeRaZwzq",
        "outputId": "29f758dd-a471-436b-ebee-a7660e3c162e"
      },
      "outputs": [
        {
          "data": {
            "text/plain": [
              "str"
            ]
          },
          "execution_count": 19,
          "metadata": {},
          "output_type": "execute_result"
        }
      ],
      "source": [
        "type(result)"
      ]
    },
    {
      "cell_type": "code",
      "execution_count": null,
      "metadata": {
        "id": "uKMQb2NqZ29h"
      },
      "outputs": [],
      "source": [
        "result_int = int(result)"
      ]
    },
    {
      "cell_type": "code",
      "execution_count": null,
      "metadata": {
        "colab": {
          "base_uri": "https://localhost:8080/"
        },
        "id": "S-iSLungZ9bv",
        "outputId": "9459182b-3fca-412b-93ee-70aeeff58395"
      },
      "outputs": [
        {
          "data": {
            "text/plain": [
              "int"
            ]
          },
          "execution_count": 21,
          "metadata": {},
          "output_type": "execute_result"
        }
      ],
      "source": [
        "type(result_int)"
      ]
    },
    {
      "cell_type": "code",
      "execution_count": null,
      "metadata": {
        "colab": {
          "base_uri": "https://localhost:8080/",
          "height": 53
        },
        "id": "UAETt4r-sm5W",
        "outputId": "4bb3d1c8-b96c-4a2f-f001-6f7074b0b13d"
      },
      "outputs": [
        {
          "name": "stdout",
          "output_type": "stream",
          "text": [
            "choose a position index : 2\n"
          ]
        },
        {
          "data": {
            "application/vnd.google.colaboratory.intrinsic+json": {
              "type": "string"
            },
            "text/plain": [
              "''"
            ]
          },
          "execution_count": 36,
          "metadata": {},
          "output_type": "execute_result"
        }
      ],
      "source": [
        "position_index = int(input(\"choose a position index : \"))\n",
        "type(position_index)\n",
        "row2[position_index]\n"
      ]
    },
    {
      "cell_type": "code",
      "execution_count": null,
      "metadata": {
        "id": "935q1LNP4WMq"
      },
      "outputs": [],
      "source": [
        "def user_choice():\n",
        "    choice = input(\"Please enter a number (0-10): \")\n",
        "    return int(choice)"
      ]
    },
    {
      "cell_type": "code",
      "execution_count": null,
      "metadata": {
        "colab": {
          "base_uri": "https://localhost:8080/"
        },
        "id": "kz6v4-AvY0Qw",
        "outputId": "9b36ef9b-9578-43a6-dc8b-098347e4b4db"
      },
      "outputs": [
        {
          "name": "stdout",
          "output_type": "stream",
          "text": [
            "Please enter a number (0-10): 9\n"
          ]
        },
        {
          "data": {
            "text/plain": [
              "9"
            ]
          },
          "execution_count": 41,
          "metadata": {},
          "output_type": "execute_result"
        }
      ],
      "source": [
        "user_choice()"
      ]
    },
    {
      "cell_type": "code",
      "execution_count": null,
      "metadata": {
        "id": "4m7FEqCud0fh"
      },
      "outputs": [],
      "source": [
        "# how to check if a users string input is number"
      ]
    },
    {
      "cell_type": "code",
      "execution_count": null,
      "metadata": {
        "id": "3EbIhwzFKrG6"
      },
      "outputs": [],
      "source": [
        "# user input \n",
        "def user_choice():\n",
        "    \n",
        "    while choice.isdigit() == False:\n",
        "\n",
        "     choice = input(\"enter a number please(0-10): \")\n",
        "    return int(choice)\n"
      ]
    },
    {
      "cell_type": "code",
      "execution_count": null,
      "metadata": {
        "colab": {
          "base_uri": "https://localhost:8080/"
        },
        "id": "VvRgyhSFXQne",
        "outputId": "d2e0713d-1f9a-4887-d14d-ea48af179dd7"
      },
      "outputs": [
        {
          "name": "stdout",
          "output_type": "stream",
          "text": [
            "enter a number please(0-10): 9\n"
          ]
        },
        {
          "data": {
            "text/plain": [
              "9"
            ]
          },
          "execution_count": 13,
          "metadata": {},
          "output_type": "execute_result"
        }
      ],
      "source": [
        "user_choice()"
      ]
    },
    {
      "cell_type": "code",
      "execution_count": null,
      "metadata": {
        "id": "BNnr7RpvZh8B"
      },
      "outputs": [],
      "source": [
        "def user_choice():\n",
        "    choice = \"wrong\"\n",
        "    # why do we give brackets\n",
        "    while choice.isdigit() == False:\n",
        "          choice = input(\"please enter a number (0-10): \")\n",
        "          if choice.isdigit() == False:\n",
        "            print('sorry that is not a digit')\n",
        "    return int(choice)\n",
        "\n"
      ]
    },
    {
      "cell_type": "code",
      "execution_count": null,
      "metadata": {
        "colab": {
          "base_uri": "https://localhost:8080/"
        },
        "id": "37eIdFocdpJZ",
        "outputId": "42bc30ce-a6e7-4d0b-f5a9-8cf70798bc70"
      },
      "outputs": [
        {
          "name": "stdout",
          "output_type": "stream",
          "text": [
            "sorry that is not a digit\n",
            "please enter a number (0-10): 9\n"
          ]
        },
        {
          "data": {
            "text/plain": [
              "9"
            ]
          },
          "execution_count": 37,
          "metadata": {},
          "output_type": "execute_result"
        }
      ],
      "source": [
        "user_choice()"
      ]
    },
    {
      "cell_type": "code",
      "execution_count": null,
      "metadata": {
        "colab": {
          "base_uri": "https://localhost:8080/"
        },
        "id": "S09qxcQGeX6J",
        "outputId": "e610aedf-39c3-46c8-97b0-0aa2eea7f8c8"
      },
      "outputs": [
        {
          "data": {
            "text/plain": [
              "False"
            ]
          },
          "execution_count": 40,
          "metadata": {},
          "output_type": "execute_result"
        }
      ],
      "source": [
        "result = \"wrong value\"\n",
        "acceptable_value = [1,2,3]\n",
        "result in acceptable_value"
      ]
    },
    {
      "cell_type": "code",
      "execution_count": null,
      "metadata": {
        "id": "TAM6tfS1bgcp"
      },
      "outputs": [],
      "source": [
        "def user_noise():\n",
        "    noise = \"wrong\"\n",
        "    while noise.isdigit() == False:\n",
        "      noise = input(\"ENTER THE DRAGON(0-10): \")\n",
        "      if noise.isdigit() == False:\n",
        "        print('sorry thats not a digit')\n",
        "    return int(noise)\n",
        "\n"
      ]
    },
    {
      "cell_type": "code",
      "execution_count": null,
      "metadata": {
        "colab": {
          "base_uri": "https://localhost:8080/"
        },
        "id": "8y868Gctc0Af",
        "outputId": "f70df541-1afa-4c49-aef4-a16c4395ac8b"
      },
      "outputs": [
        {
          "name": "stdout",
          "output_type": "stream",
          "text": [
            "ENTER THE DRAGON(0-10): t\n",
            "sorry thats not a digit\n",
            "ENTER THE DRAGON(0-10): 1\n"
          ]
        },
        {
          "data": {
            "text/plain": [
              "1"
            ]
          },
          "execution_count": 7,
          "metadata": {},
          "output_type": "execute_result"
        }
      ],
      "source": [
        "user_noise()\n"
      ]
    },
    {
      "cell_type": "code",
      "execution_count": null,
      "metadata": {
        "id": "lse01t_QdO0M"
      },
      "outputs": [],
      "source": []
    },
    {
      "cell_type": "code",
      "execution_count": null,
      "metadata": {
        "id": "s4kTF6HydS9h"
      },
      "outputs": [],
      "source": [
        "def user_choice():\n",
        "    choice = \"wrong\"\n",
        "    acceptable_range = (0,10)\n",
        "    within_range = False\n",
        "    # two conditions to check, Digits and within the range(0,10) == False\n",
        "    while choice.isdigit() == False:\n",
        "          choice = input(\"please enter a number (0,10): \")\n",
        "          # digit check\n",
        "          if choice.isdigit() == False:\n",
        "            print('sorry that is not a digit')\n",
        "          # Range check\n",
        "          if choice.isdigit() == True:\n",
        "            if int(choice) in acceptable_range:\n",
        "                within_range = True\n",
        "                break\n",
        "          else:\n",
        "              print('sorry you are out of the acceptable range')\n",
        "              within_range = False\n",
        "          \n",
        "    return int(choice)\n",
        "\n"
      ]
    },
    {
      "cell_type": "code",
      "execution_count": null,
      "metadata": {
        "colab": {
          "base_uri": "https://localhost:8080/"
        },
        "id": "-cK2y0eU-_if",
        "outputId": "2f3c8ad3-d6f1-4678-9f13-9fbcaedc6e65"
      },
      "outputs": [
        {
          "name": "stdout",
          "output_type": "stream",
          "text": [
            "please enter a number (0,10): 11\n"
          ]
        },
        {
          "data": {
            "text/plain": [
              "11"
            ]
          },
          "execution_count": 3,
          "metadata": {},
          "output_type": "execute_result"
        }
      ],
      "source": [
        "\n",
        "\n",
        "\n",
        "\n",
        "\n",
        "\n",
        "\n",
        "user_choice()\n"
      ]
    },
    {
      "cell_type": "code",
      "execution_count": null,
      "metadata": {
        "id": "HDkoHrz5_rKF"
      },
      "outputs": [],
      "source": [
        "# game with user input \n",
        "game_list = [0,1,2]\n",
        "def display_game(game_list):\n",
        "    print(\"here is the current list\")\n",
        "    print(game_list)\n",
        "    "
      ]
    },
    {
      "cell_type": "code",
      "execution_count": null,
      "metadata": {
        "colab": {
          "base_uri": "https://localhost:8080/"
        },
        "id": "KW18O38SH1kr",
        "outputId": "bf13702b-44bf-4229-b99c-5449e08ed82f"
      },
      "outputs": [
        {
          "name": "stdout",
          "output_type": "stream",
          "text": [
            "here is the current list\n",
            "[0, 1, 2]\n"
          ]
        }
      ],
      "source": [
        "display_game(game_list)"
      ]
    },
    {
      "cell_type": "code",
      "execution_count": null,
      "metadata": {
        "id": "uAap2puYIs8b"
      },
      "outputs": [],
      "source": [
        "def position_choice():\n",
        "    choice = 'wrong'\n",
        "    while choice not in ['0','1','2']:\n",
        "      choice = input(\"pick a position(0,1,2): \")\n",
        "      if choice not in ('0','1','2'):\n",
        "            print('sorry invalid choice! ')\n",
        "      else:\n",
        "            print(\"right choice\")\n",
        "    return int(choice)\n"
      ]
    },
    {
      "cell_type": "code",
      "execution_count": null,
      "metadata": {
        "colab": {
          "base_uri": "https://localhost:8080/"
        },
        "id": "0WxcoM8MPA3y",
        "outputId": "c9f80eac-760c-459e-dbaf-344253caa4d3"
      },
      "outputs": [
        {
          "name": "stdout",
          "output_type": "stream",
          "text": [
            "pick a position(0,1,2): 0\n",
            "right choice\n"
          ]
        },
        {
          "data": {
            "text/plain": [
              "0"
            ]
          },
          "execution_count": 5,
          "metadata": {},
          "output_type": "execute_result"
        }
      ],
      "source": [
        "position_choice()"
      ]
    },
    {
      "cell_type": "code",
      "execution_count": null,
      "metadata": {
        "id": "pScnFxixgllV"
      },
      "outputs": [],
      "source": [
        "def replacement_choice(game_list,position):\n",
        "    user_placement = input(\"type a string to place at position: \")\n",
        "    game_list[position] = user_placement\n",
        "    return game_list"
      ]
    },
    {
      "cell_type": "code",
      "execution_count": null,
      "metadata": {
        "colab": {
          "base_uri": "https://localhost:8080/"
        },
        "id": "kwg9uABriJNa",
        "outputId": "10a0f474-eb6c-42af-dbc6-232139122b84"
      },
      "outputs": [
        {
          "name": "stdout",
          "output_type": "stream",
          "text": [
            "type a string to place at position: aman\n"
          ]
        },
        {
          "data": {
            "text/plain": [
              "[0, 'aman', 2]"
            ]
          },
          "execution_count": 7,
          "metadata": {},
          "output_type": "execute_result"
        }
      ],
      "source": [
        "replacement_choice(game_list,1)"
      ]
    },
    {
      "cell_type": "code",
      "execution_count": null,
      "metadata": {
        "id": "Of729SheiuhV"
      },
      "outputs": [],
      "source": [
        "def gameon_choice():\n",
        "    choice = 'wrong'\n",
        "    while choice not in ['Y','N']:\n",
        "      choice = input(\"KEEP PLAYING? (Y OR N) \")\n",
        "      if choice not in ('Y','N'):\n",
        "            print('Sorry system  doesnt understand, please choose Y OR N ')\n",
        "    if choice == 'Y':\n",
        "      return True \n",
        "    else:\n",
        "      return False"
      ]
    },
    {
      "cell_type": "code",
      "execution_count": null,
      "metadata": {
        "colab": {
          "base_uri": "https://localhost:8080/"
        },
        "id": "2j3mmRWem8GC",
        "outputId": "9b8b2d4d-03f9-4d91-f0bb-559a168f730f"
      },
      "outputs": [
        {
          "name": "stdout",
          "output_type": "stream",
          "text": [
            "KEEP PLAYING? (Y OR N) y\n",
            "Sorry system  doesnt understand, please choose Y OR N \n",
            "KEEP PLAYING? (Y OR N) n\n",
            "Sorry system  doesnt understand, please choose Y OR N \n",
            "KEEP PLAYING? (Y OR N) N\n"
          ]
        },
        {
          "data": {
            "text/plain": [
              "False"
            ]
          },
          "execution_count": 9,
          "metadata": {},
          "output_type": "execute_result"
        }
      ],
      "source": [
        "gameon_choice()\n",
        "\n"
      ]
    },
    {
      "cell_type": "code",
      "execution_count": null,
      "metadata": {
        "colab": {
          "background_save": true,
          "base_uri": "https://localhost:8080/"
        },
        "id": "30RnhYAPyhzd",
        "outputId": "7b5d2033-b5dd-423a-fe94-f75cc445525c"
      },
      "outputs": [
        {
          "name": "stdout",
          "output_type": "stream",
          "text": [
            "here is the current list\n",
            "[0, 1, 2]\n",
            "right choice\n",
            "here is the current list\n",
            "[0, 'AMAN', 2]\n"
          ]
        }
      ],
      "source": [
        "game_on = True\n",
        "game_list = [0,1,2]\n",
        "while game_on:\n",
        "    display_game(game_list)\n",
        "    position = position_choice()\n",
        "    game_list = replacement_choice(game_list,position)\n",
        "    display_game(game_list)\n",
        "    game_on = gameon_choice()\n",
        "    "
      ]
    },
    {
      "cell_type": "code",
      "execution_count": null,
      "metadata": {
        "id": "1zxrL1f0-A6O"
      },
      "outputs": [],
      "source": [
        "# class attributes \n",
        "class Dog():\n",
        "  def __init__(self,breed,name,spots):\n",
        "    self.breed = breed\n",
        "    self.name = name\n",
        "    self.spots = spots\n",
        "      \n",
        "\n",
        "\n",
        "\n"
      ]
    },
    {
      "cell_type": "code",
      "execution_count": null,
      "metadata": {
        "id": "07wwwOWi1H-g"
      },
      "outputs": [],
      "source": [
        "my_dog = Dog(breed='bully',name = 'june',spots =\"no spots\")\n"
      ]
    },
    {
      "cell_type": "code",
      "execution_count": null,
      "metadata": {
        "colab": {
          "base_uri": "https://localhost:8080/",
          "height": 35
        },
        "id": "Y2JN3F1Ps5mt",
        "outputId": "44341fb6-de57-46b6-f840-a13b34064967"
      },
      "outputs": [
        {
          "data": {
            "application/vnd.google.colaboratory.intrinsic+json": {
              "type": "string"
            },
            "text/plain": [
              "'no spots'"
            ]
          },
          "execution_count": 3,
          "metadata": {},
          "output_type": "execute_result"
        }
      ],
      "source": [
        "my_dog.spots"
      ]
    },
    {
      "cell_type": "code",
      "execution_count": null,
      "metadata": {
        "id": "EtV3a7c4x1QF"
      },
      "outputs": [],
      "source": [
        "class Circle():\n",
        "    #class object attribute\n",
        "    pi = 3.14\n",
        "\n",
        "    \n",
        "    def __init__(self,radius=2):\n",
        "      self.radius = radius\n",
        "      self.area = radius*radius* self.pi\n",
        "    # method \n",
        "    def get_circumference(self):\n",
        "      return  self.radius * self.pi * 2\n",
        "    \n",
        "      \n",
        "\n"
      ]
    },
    {
      "cell_type": "code",
      "execution_count": null,
      "metadata": {
        "id": "EAR-elgyA9eH"
      },
      "outputs": [],
      "source": [
        "my_circle = Circle()"
      ]
    },
    {
      "cell_type": "code",
      "execution_count": null,
      "metadata": {
        "colab": {
          "base_uri": "https://localhost:8080/"
        },
        "id": "OLXVa9-rBeJV",
        "outputId": "9753b781-9535-4a00-cd1a-4b6201f5649e"
      },
      "outputs": [
        {
          "data": {
            "text/plain": [
              "2"
            ]
          },
          "execution_count": 10,
          "metadata": {},
          "output_type": "execute_result"
        }
      ],
      "source": [
        "my_circle.radius"
      ]
    },
    {
      "cell_type": "code",
      "execution_count": null,
      "metadata": {
        "colab": {
          "base_uri": "https://localhost:8080/"
        },
        "id": "ccAon2SsCDja",
        "outputId": "70e2a99d-4aa7-429d-d760-11ebb2541880"
      },
      "outputs": [
        {
          "data": {
            "text/plain": [
              "12.56"
            ]
          },
          "execution_count": 11,
          "metadata": {},
          "output_type": "execute_result"
        }
      ],
      "source": [
        "my_circle.get_circumference()"
      ]
    },
    {
      "cell_type": "code",
      "execution_count": null,
      "metadata": {
        "colab": {
          "base_uri": "https://localhost:8080/"
        },
        "id": "9TdHwZBEG2WP",
        "outputId": "d61f1b5a-12dc-4f09-c026-ad5fd5b644f8"
      },
      "outputs": [
        {
          "data": {
            "text/plain": [
              "12.56"
            ]
          },
          "execution_count": 17,
          "metadata": {},
          "output_type": "execute_result"
        }
      ],
      "source": [
        "my_circle.area"
      ]
    },
    {
      "cell_type": "code",
      "execution_count": null,
      "metadata": {
        "id": "B4UgerB8XEt_"
      },
      "outputs": [],
      "source": [
        "class Animal():\n",
        "  def __init__(self):\n",
        "    print(\"ANIMAL CREATED\")\n",
        "  # add two more methods\n",
        "  def who_am_i(self):\n",
        "    print(\"I AM MR ANIMAL\")\n",
        "  def eat(self):\n",
        "    print(\"I AM EATING\")\n",
        "\n"
      ]
    },
    {
      "cell_type": "code",
      "execution_count": null,
      "metadata": {
        "id": "fszOEDy-afq-"
      },
      "outputs": [],
      "source": [
        "  class Dog(Animal):\n",
        "      def __init__(self):\n",
        "          Animal.__init__(self)\n",
        "          print(\"DOG CREATED\")"
      ]
    },
    {
      "cell_type": "code",
      "execution_count": null,
      "metadata": {
        "colab": {
          "base_uri": "https://localhost:8080/"
        },
        "id": "3K-cbl7-Xf1S",
        "outputId": "98de4d95-ff61-4eb7-a178-7bef76cee4de"
      },
      "outputs": [
        {
          "name": "stdout",
          "output_type": "stream",
          "text": [
            "ANIMAL CREATED\n"
          ]
        }
      ],
      "source": [
        "my_animal = Animal()"
      ]
    },
    {
      "cell_type": "code",
      "execution_count": null,
      "metadata": {
        "colab": {
          "base_uri": "https://localhost:8080/"
        },
        "id": "qj9Zl1E2cTDP",
        "outputId": "de10d11f-7400-4585-d7af-f4f312d44835"
      },
      "outputs": [
        {
          "name": "stdout",
          "output_type": "stream",
          "text": [
            "ANIMAL CREATED\n",
            "DOG CREATED\n"
          ]
        }
      ],
      "source": [
        "my_dog = Dog()"
      ]
    },
    {
      "cell_type": "code",
      "execution_count": null,
      "metadata": {
        "colab": {
          "base_uri": "https://localhost:8080/"
        },
        "id": "WzLiORkrY7wV",
        "outputId": "9df9ed2e-f80c-43fc-b373-cf9031dc9708"
      },
      "outputs": [
        {
          "name": "stdout",
          "output_type": "stream",
          "text": [
            "I AM EATING\n"
          ]
        }
      ],
      "source": [
        "my_animal.eat()"
      ]
    },
    {
      "cell_type": "code",
      "execution_count": null,
      "metadata": {
        "colab": {
          "base_uri": "https://localhost:8080/"
        },
        "id": "4WcHVBphdqXK",
        "outputId": "09f2cd4a-7fea-460c-c08d-9647a627634a"
      },
      "outputs": [
        {
          "name": "stdout",
          "output_type": "stream",
          "text": [
            "I AM EATING\n"
          ]
        }
      ],
      "source": [
        "my_dog.eat()"
      ]
    },
    {
      "cell_type": "code",
      "execution_count": null,
      "metadata": {
        "colab": {
          "base_uri": "https://localhost:8080/"
        },
        "id": "Rm-tmTXbZ0WD",
        "outputId": "eab067be-a131-47b8-a276-41be3104273e"
      },
      "outputs": [
        {
          "name": "stdout",
          "output_type": "stream",
          "text": [
            "I AM MR ANIMAL\n"
          ]
        }
      ],
      "source": [
        "my_animal.who_am_i()"
      ]
    },
    {
      "cell_type": "code",
      "execution_count": null,
      "metadata": {
        "id": "xe-KMUhuQKNP"
      },
      "outputs": [],
      "source": [
        "class Dog():\n",
        "  def __init__(self,name):\n",
        "      self.name = name\n",
        "  #method\n",
        "  def speak(self):\n",
        "      return self.name + \" says woof\"\n"
      ]
    },
    {
      "cell_type": "code",
      "execution_count": null,
      "metadata": {
        "id": "Omn5dY4sZwTx"
      },
      "outputs": [],
      "source": [
        "class cat():\n",
        "  def __init__ (self,name):\n",
        "    self.name = name\n",
        "  #method\n",
        "  def speak(self):\n",
        "      return self.name + \"  says meow\"\n"
      ]
    },
    {
      "cell_type": "code",
      "execution_count": null,
      "metadata": {
        "id": "e1cokFP6c28K"
      },
      "outputs": [],
      "source": [
        "niko = Dog(\"niko\")\n",
        "felix = cat(\"felix\")"
      ]
    },
    {
      "cell_type": "code",
      "execution_count": null,
      "metadata": {
        "colab": {
          "base_uri": "https://localhost:8080/"
        },
        "id": "yES1XIo7dX9j",
        "outputId": "11498b84-3374-4cb4-e9d8-e31cf9a58a07"
      },
      "outputs": [
        {
          "name": "stdout",
          "output_type": "stream",
          "text": [
            "nikosays woof\n"
          ]
        }
      ],
      "source": [
        "print(niko.speak())"
      ]
    },
    {
      "cell_type": "code",
      "execution_count": null,
      "metadata": {
        "colab": {
          "base_uri": "https://localhost:8080/"
        },
        "id": "-TKcxS_neFEW",
        "outputId": "ecd4e528-55c8-412a-ec48-8517c00e76b0"
      },
      "outputs": [
        {
          "name": "stdout",
          "output_type": "stream",
          "text": [
            "felix says meow\n"
          ]
        }
      ],
      "source": [
        "print(felix.speak())"
      ]
    },
    {
      "cell_type": "code",
      "execution_count": null,
      "metadata": {
        "colab": {
          "base_uri": "https://localhost:8080/"
        },
        "id": "uYhE_P3Tec6h",
        "outputId": "064dd8d1-9d60-48f6-a9f9-b1ef84c6f191"
      },
      "outputs": [
        {
          "name": "stdout",
          "output_type": "stream",
          "text": [
            "<class '__main__.Dog'>\n",
            "nikosays woof\n",
            "<class '__main__.cat'>\n",
            "felix says meow\n"
          ]
        }
      ],
      "source": [
        "for pet in [niko,felix]:\n",
        "  print(type(pet))\n",
        "  print(pet.speak())"
      ]
    },
    {
      "cell_type": "code",
      "execution_count": null,
      "metadata": {
        "id": "XTc7aCj7fzAf"
      },
      "outputs": [],
      "source": [
        "def pet_speak(pet):\n",
        "  print(pet.speak())"
      ]
    },
    {
      "cell_type": "code",
      "execution_count": null,
      "metadata": {
        "colab": {
          "base_uri": "https://localhost:8080/"
        },
        "id": "Pwbe49KpgS0W",
        "outputId": "b210e7f8-9b73-46ea-fa3e-8ba768a9b0c0"
      },
      "outputs": [
        {
          "name": "stdout",
          "output_type": "stream",
          "text": [
            "nikosays woof\n"
          ]
        }
      ],
      "source": [
        "pet_speak(niko)"
      ]
    },
    {
      "cell_type": "code",
      "execution_count": null,
      "metadata": {
        "id": "iZ4FXOM8sIw2"
      },
      "outputs": [],
      "source": [
        "class Book():\n",
        "    def __init__(self,title,author,pages):\n",
        "        self.title = title\n",
        "        self.author = author\n",
        "        self.pages = pages\n",
        "    def __str__(self):\n",
        "      return f\"{self.title} by {self.author}\"\n",
        "    def __len__(self):\n",
        "      return (self.pages)\n",
        "\n"
      ]
    },
    {
      "cell_type": "code",
      "execution_count": null,
      "metadata": {
        "id": "WUVto4UYBQ8c"
      },
      "outputs": [],
      "source": [
        "b = Book('python rocks','sid',200)"
      ]
    },
    {
      "cell_type": "code",
      "execution_count": null,
      "metadata": {
        "colab": {
          "base_uri": "https://localhost:8080/"
        },
        "id": "emhVRAcqBlrD",
        "outputId": "ad44d465-d434-42d2-8b6f-7aaa8443c377"
      },
      "outputs": [
        {
          "name": "stdout",
          "output_type": "stream",
          "text": [
            "python rocks by sid\n"
          ]
        }
      ],
      "source": [
        "print(b)"
      ]
    },
    {
      "cell_type": "code",
      "execution_count": null,
      "metadata": {
        "colab": {
          "base_uri": "https://localhost:8080/"
        },
        "id": "aqR8WL7bPTBn",
        "outputId": "a7a34ed3-1190-4cea-c67d-1ff0b0f38f3c"
      },
      "outputs": [
        {
          "data": {
            "text/plain": [
              "200"
            ]
          },
          "execution_count": 15,
          "metadata": {},
          "output_type": "execute_result"
        }
      ],
      "source": [
        "len(b)"
      ]
    },
    {
      "cell_type": "code",
      "execution_count": null,
      "metadata": {
        "id": "fFyyS8zsxhgp"
      },
      "outputs": [],
      "source": [
        "class Account():\n",
        "    def __init__(self,owner,balance=0):\n",
        "        self.owner = owner\n",
        "        self.balance = balance\n",
        "    def deposit (self,dep_amount):\n",
        "        self.balance = self.balance + dep_amount\n",
        "        print(f\" Added {dep_amount} to the balance\")\n",
        "    def withdrawl(self,widr_amount):\n",
        "        if self.balance > widr_amount:\n",
        "          self.balance = self.balance - widr_amount\n",
        "          print(\"Withdrawl accepted\")\n",
        "        else:\n",
        "          print(\"not enough funds\")\n",
        "    def __str__(self):\n",
        "      return f\"owner: {self.owner} \\nbalance: {self.balance}\""
      ]
    },
    {
      "cell_type": "code",
      "execution_count": null,
      "metadata": {
        "id": "4QXT9u0kDVXT"
      },
      "outputs": [],
      "source": [
        "a = Account(\"sam\",500)"
      ]
    },
    {
      "cell_type": "code",
      "execution_count": null,
      "metadata": {
        "colab": {
          "base_uri": "https://localhost:8080/",
          "height": 35
        },
        "id": "yV_gwn-vD3XO",
        "outputId": "23e9448e-efd9-4f96-dcb8-b6cab84b2b90"
      },
      "outputs": [
        {
          "data": {
            "application/vnd.google.colaboratory.intrinsic+json": {
              "type": "string"
            },
            "text/plain": [
              "'sam'"
            ]
          },
          "execution_count": 12,
          "metadata": {},
          "output_type": "execute_result"
        }
      ],
      "source": [
        "a.owner"
      ]
    },
    {
      "cell_type": "code",
      "execution_count": null,
      "metadata": {
        "colab": {
          "base_uri": "https://localhost:8080/"
        },
        "id": "aoXETVxsD7jv",
        "outputId": "a6ae4d60-7cce-453c-f6b3-51d72984e285"
      },
      "outputs": [
        {
          "data": {
            "text/plain": [
              "500"
            ]
          },
          "execution_count": 13,
          "metadata": {},
          "output_type": "execute_result"
        }
      ],
      "source": [
        "a.balance"
      ]
    },
    {
      "cell_type": "code",
      "execution_count": null,
      "metadata": {
        "colab": {
          "base_uri": "https://localhost:8080/"
        },
        "id": "3ayyvTY0LQq5",
        "outputId": "5346f564-dcbb-4fba-8d19-937d2d26d844"
      },
      "outputs": [
        {
          "name": "stdout",
          "output_type": "stream",
          "text": [
            "owner: sam balance: 500\n"
          ]
        }
      ],
      "source": [
        "print(a)"
      ]
    },
    {
      "cell_type": "code",
      "execution_count": null,
      "metadata": {
        "colab": {
          "base_uri": "https://localhost:8080/"
        },
        "id": "1dpafD1QKMYi",
        "outputId": "7cf8ddcc-0cf1-41e5-8717-6ed80dec8c28"
      },
      "outputs": [
        {
          "name": "stdout",
          "output_type": "stream",
          "text": [
            " Added 500 to the balance\n"
          ]
        }
      ],
      "source": [
        "a.deposit(500)"
      ]
    },
    {
      "cell_type": "code",
      "execution_count": null,
      "metadata": {
        "colab": {
          "base_uri": "https://localhost:8080/"
        },
        "id": "TuV53BIsKWLr",
        "outputId": "12e4cd06-9a9e-4517-a3d1-09b3032d4eaa"
      },
      "outputs": [
        {
          "name": "stdout",
          "output_type": "stream",
          "text": [
            "owner: sam balance: 500\n"
          ]
        }
      ],
      "source": [
        "print(a)"
      ]
    },
    {
      "cell_type": "code",
      "execution_count": null,
      "metadata": {
        "colab": {
          "base_uri": "https://localhost:8080/"
        },
        "id": "rHjanXMnLUWQ",
        "outputId": "1e9f6014-1f3a-4059-db83-8cb818ea0136"
      },
      "outputs": [
        {
          "name": "stdout",
          "output_type": "stream",
          "text": [
            " Added 100 to the balance\n"
          ]
        }
      ],
      "source": [
        "a.deposit(100)"
      ]
    },
    {
      "cell_type": "code",
      "execution_count": null,
      "metadata": {
        "colab": {
          "base_uri": "https://localhost:8080/"
        },
        "id": "DGa0D5piLamP",
        "outputId": "ec151b1d-0122-4f18-f1ae-dda6309077b3"
      },
      "outputs": [
        {
          "name": "stdout",
          "output_type": "stream",
          "text": [
            "owner: sam balance: 600\n"
          ]
        }
      ],
      "source": [
        "print(a)"
      ]
    },
    {
      "cell_type": "code",
      "execution_count": null,
      "metadata": {
        "colab": {
          "base_uri": "https://localhost:8080/"
        },
        "id": "q9vfL3uDLevQ",
        "outputId": "ec5dbf80-a69b-4e2c-8371-8040cb039371"
      },
      "outputs": [
        {
          "name": "stdout",
          "output_type": "stream",
          "text": [
            "Withdrawl accepted\n"
          ]
        }
      ],
      "source": [
        "a.withdrawl(300)"
      ]
    },
    {
      "cell_type": "code",
      "execution_count": null,
      "metadata": {
        "colab": {
          "base_uri": "https://localhost:8080/"
        },
        "id": "X7V7vDKAMoMZ",
        "outputId": "f9898509-31ce-47d4-f06e-5e85e30c337e"
      },
      "outputs": [
        {
          "name": "stdout",
          "output_type": "stream",
          "text": [
            "owner: sam balance: 300\n"
          ]
        }
      ],
      "source": [
        "print(a)"
      ]
    },
    {
      "cell_type": "code",
      "execution_count": null,
      "metadata": {
        "id": "cDKr3T2u3VJm"
      },
      "outputs": [],
      "source": [
        "def ask_for_int():\n",
        "    while True:\n",
        "      try:\n",
        "            result = int(input(\"please enter a number: \"))\n",
        "      except:\n",
        "            print(\"thats not a number\")\n",
        "            continue\n",
        "      else:\n",
        "            print(\"thank you\")\n",
        "            break\n",
        "      \n",
        "\n",
        "\n",
        "      \n"
      ]
    },
    {
      "cell_type": "code",
      "execution_count": null,
      "metadata": {
        "colab": {
          "base_uri": "https://localhost:8080/"
        },
        "id": "wWXmlt-SYh5g",
        "outputId": "31ad9b01-905b-4032-e350-7d904188cb80"
      },
      "outputs": [
        {
          "name": "stdout",
          "output_type": "stream",
          "text": [
            "please enter a number: we\n",
            "thats not a number\n",
            "please enter a number: 1\n",
            "thank you\n"
          ]
        }
      ],
      "source": [
        "ask_for_int()"
      ]
    },
    {
      "cell_type": "code",
      "execution_count": null,
      "metadata": {
        "colab": {
          "base_uri": "https://localhost:8080/"
        },
        "id": "8AsxAVoofqQf",
        "outputId": "3cfb7ab4-47c4-4667-ca00-ff8c50b4cb82"
      },
      "outputs": [
        {
          "name": "stdout",
          "output_type": "stream",
          "text": [
            "watch out nigga\n"
          ]
        }
      ],
      "source": [
        "try:\n",
        "    for i in ['a','b','c']:\n",
        "        print(i**2)\n",
        "except:\n",
        "      print('watch out nigga')"
      ]
    },
    {
      "cell_type": "code",
      "execution_count": null,
      "metadata": {
        "colab": {
          "base_uri": "https://localhost:8080/"
        },
        "id": "Nfgzge1Pg2IW",
        "outputId": "42b39260-f98e-4834-9199-b8ffacc3416c"
      },
      "outputs": [
        {
          "name": "stdout",
          "output_type": "stream",
          "text": [
            "all good\n"
          ]
        }
      ],
      "source": [
        "try:\n",
        "    x = 5\n",
        "    y = 0\n",
        "    z = x/y\n",
        "except:\n",
        "        print('all good')"
      ]
    },
    {
      "cell_type": "code",
      "execution_count": null,
      "metadata": {
        "id": "bUGGOkvdo0CZ"
      },
      "outputs": [],
      "source": [
        "\n",
        "# result with square number\n",
        "def ask():\n",
        "    waiting = True\n",
        "    while waiting:\n",
        "      try:\n",
        "        n = int(input(\"please enter a number\"))\n",
        "      except:\n",
        "        print(\"enter a valid input\")\n",
        "        continue\n",
        "      else:\n",
        "        break\n",
        "    print(\"you square number is : \")\n",
        "    print(n**2)\n",
        "      \n",
        "\n"
      ]
    },
    {
      "cell_type": "code",
      "execution_count": null,
      "metadata": {
        "colab": {
          "base_uri": "https://localhost:8080/"
        },
        "id": "OYSxJDcxtSFT",
        "outputId": "881669cf-42ce-4c46-8a68-6f1debbcf0da"
      },
      "outputs": [
        {
          "name": "stdout",
          "output_type": "stream",
          "text": [
            "please enter a numbera\n",
            "enter a valid input\n",
            "please enter a number1\n",
            "you square number is : \n",
            "1\n"
          ]
        }
      ],
      "source": [
        "ask()"
      ]
    },
    {
      "cell_type": "code",
      "execution_count": null,
      "metadata": {
        "id": "R0IGN30MtvrC"
      },
      "outputs": [],
      "source": [
        "def ask():\n",
        "  while True:\n",
        "    try:\n",
        "       n = int(input(\"please enter a number\"))\n",
        "    except:\n",
        "        print(\"enter a valid number\")\n",
        "        continue\n",
        "    else:\n",
        "        break\n",
        "  print(\"the square of your number is: \")\n",
        "  print(n**2)\n",
        "\n",
        "\n",
        "\n",
        "\n"
      ]
    },
    {
      "cell_type": "code",
      "execution_count": null,
      "metadata": {
        "colab": {
          "base_uri": "https://localhost:8080/"
        },
        "id": "LPN-v0U5xl5X",
        "outputId": "b296ffb5-8cd4-4bd0-e797-68f7de682c37"
      },
      "outputs": [
        {
          "name": "stdout",
          "output_type": "stream",
          "text": [
            "please enter a numberq\n",
            "enter a valid number\n",
            "please enter a numberw\n",
            "enter a valid number\n",
            "please enter a numbere\n",
            "enter a valid number\n",
            "please enter a number2\n",
            "the square of your number is: \n",
            "4\n"
          ]
        }
      ],
      "source": [
        "ask()"
      ]
    },
    {
      "cell_type": "code",
      "execution_count": null,
      "metadata": {
        "colab": {
          "base_uri": "https://localhost:8080/"
        },
        "id": "AL7KANkecx7B",
        "outputId": "7ec4eb58-2c28-43c4-d5e5-6e38d5f7818d"
      },
      "outputs": [
        {
          "data": {
            "text/plain": [
              "requests.models.Response"
            ]
          },
          "execution_count": 3,
          "metadata": {},
          "output_type": "execute_result"
        }
      ],
      "source": [
        "import requests\n",
        "result = requests.get(\"http://www.example.com\")\n",
        "type(result)"
      ]
    },
    {
      "cell_type": "code",
      "execution_count": null,
      "metadata": {
        "colab": {
          "base_uri": "https://localhost:8080/",
          "height": 162
        },
        "id": "AmwXLyzhdaVy",
        "outputId": "1f9e2ac2-05dd-4777-f655-d7abe6bd1545"
      },
      "outputs": [
        {
          "data": {
            "application/vnd.google.colaboratory.intrinsic+json": {
              "type": "string"
            },
            "text/plain": [
              "'<!doctype html>\\n<html>\\n<head>\\n    <title>Example Domain</title>\\n\\n    <meta charset=\"utf-8\" />\\n    <meta http-equiv=\"Content-type\" content=\"text/html; charset=utf-8\" />\\n    <meta name=\"viewport\" content=\"width=device-width, initial-scale=1\" />\\n    <style type=\"text/css\">\\n    body {\\n        background-color: #f0f0f2;\\n        margin: 0;\\n        padding: 0;\\n        font-family: -apple-system, system-ui, BlinkMacSystemFont, \"Segoe UI\", \"Open Sans\", \"Helvetica Neue\", Helvetica, Arial, sans-serif;\\n        \\n    }\\n    div {\\n        width: 600px;\\n        margin: 5em auto;\\n        padding: 2em;\\n        background-color: #fdfdff;\\n        border-radius: 0.5em;\\n        box-shadow: 2px 3px 7px 2px rgba(0,0,0,0.02);\\n    }\\n    a:link, a:visited {\\n        color: #38488f;\\n        text-decoration: none;\\n    }\\n    @media (max-width: 700px) {\\n        div {\\n            margin: 0 auto;\\n            width: auto;\\n        }\\n    }\\n    </style>    \\n</head>\\n\\n<body>\\n<div>\\n    <h1>Example Domain</h1>\\n    <p>This domain is for use in illustrative examples in documents. You may use this\\n    domain in literature without prior coordination or asking for permission.</p>\\n    <p><a href=\"https://www.iana.org/domains/example\">More information...</a></p>\\n</div>\\n</body>\\n</html>\\n'"
            ]
          },
          "execution_count": 4,
          "metadata": {},
          "output_type": "execute_result"
        }
      ],
      "source": [
        "result.text"
      ]
    },
    {
      "cell_type": "code",
      "execution_count": null,
      "metadata": {
        "colab": {
          "base_uri": "https://localhost:8080/",
          "height": 332
        },
        "id": "RBbLwcuVdt6g",
        "outputId": "57387e54-ec7f-4106-f4cd-19e087ec6998"
      },
      "outputs": [
        {
          "ename": "FeatureNotFound",
          "evalue": "ignored",
          "output_type": "error",
          "traceback": [
            "\u001b[0;31m---------------------------------------------------------------------------\u001b[0m",
            "\u001b[0;31mFeatureNotFound\u001b[0m                           Traceback (most recent call last)",
            "\u001b[0;32m<ipython-input-8-3761125ebb38>\u001b[0m in \u001b[0;36m<module>\u001b[0;34m\u001b[0m\n\u001b[1;32m      1\u001b[0m \u001b[0;32mimport\u001b[0m \u001b[0mbs4\u001b[0m\u001b[0;34m\u001b[0m\u001b[0;34m\u001b[0m\u001b[0m\n\u001b[0;32m----> 2\u001b[0;31m \u001b[0msoup\u001b[0m \u001b[0;34m=\u001b[0m \u001b[0mbs4\u001b[0m\u001b[0;34m.\u001b[0m\u001b[0mBeautifulSoup\u001b[0m\u001b[0;34m(\u001b[0m\u001b[0mresult\u001b[0m\u001b[0;34m.\u001b[0m\u001b[0mtext\u001b[0m\u001b[0;34m,\u001b[0m\u001b[0;34m\"lmxl\"\u001b[0m\u001b[0;34m)\u001b[0m\u001b[0;34m\u001b[0m\u001b[0;34m\u001b[0m\u001b[0m\n\u001b[0m",
            "\u001b[0;32m/usr/local/lib/python3.8/dist-packages/bs4/__init__.py\u001b[0m in \u001b[0;36m__init__\u001b[0;34m(self, markup, features, builder, parse_only, from_encoding, exclude_encodings, **kwargs)\u001b[0m\n\u001b[1;32m    193\u001b[0m             \u001b[0mbuilder_class\u001b[0m \u001b[0;34m=\u001b[0m \u001b[0mbuilder_registry\u001b[0m\u001b[0;34m.\u001b[0m\u001b[0mlookup\u001b[0m\u001b[0;34m(\u001b[0m\u001b[0;34m*\u001b[0m\u001b[0mfeatures\u001b[0m\u001b[0;34m)\u001b[0m\u001b[0;34m\u001b[0m\u001b[0;34m\u001b[0m\u001b[0m\n\u001b[1;32m    194\u001b[0m             \u001b[0;32mif\u001b[0m \u001b[0mbuilder_class\u001b[0m \u001b[0;32mis\u001b[0m \u001b[0;32mNone\u001b[0m\u001b[0;34m:\u001b[0m\u001b[0;34m\u001b[0m\u001b[0;34m\u001b[0m\u001b[0m\n\u001b[0;32m--> 195\u001b[0;31m                 raise FeatureNotFound(\n\u001b[0m\u001b[1;32m    196\u001b[0m                     \u001b[0;34m\"Couldn't find a tree builder with the features you \"\u001b[0m\u001b[0;34m\u001b[0m\u001b[0;34m\u001b[0m\u001b[0m\n\u001b[1;32m    197\u001b[0m                     \u001b[0;34m\"requested: %s. Do you need to install a parser library?\"\u001b[0m\u001b[0;34m\u001b[0m\u001b[0;34m\u001b[0m\u001b[0m\n",
            "\u001b[0;31mFeatureNotFound\u001b[0m: Couldn't find a tree builder with the features you requested: lmxl. Do you need to install a parser library?"
          ]
        }
      ],
      "source": [
        "import bs4\n",
        "soup = bs4.BeautifulSoup(result.text,\"lmxl\")"
      ]
    },
    {
      "cell_type": "code",
      "execution_count": null,
      "metadata": {
        "colab": {
          "base_uri": "https://localhost:8080/",
          "height": 169
        },
        "id": "ENvAuxf5ecjB",
        "outputId": "5dcbf178-2ba8-4d9b-efbc-d40cf6f97a64"
      },
      "outputs": [
        {
          "ename": "NameError",
          "evalue": "ignored",
          "output_type": "error",
          "traceback": [
            "\u001b[0;31m---------------------------------------------------------------------------\u001b[0m",
            "\u001b[0;31mNameError\u001b[0m                                 Traceback (most recent call last)",
            "\u001b[0;32m<ipython-input-9-468935a8f34d>\u001b[0m in \u001b[0;36m<module>\u001b[0;34m\u001b[0m\n\u001b[0;32m----> 1\u001b[0;31m \u001b[0msoup\u001b[0m\u001b[0;34m\u001b[0m\u001b[0;34m\u001b[0m\u001b[0m\n\u001b[0m",
            "\u001b[0;31mNameError\u001b[0m: name 'soup' is not defined"
          ]
        }
      ],
      "source": [
        "soup"
      ]
    },
    {
      "cell_type": "code",
      "execution_count": null,
      "metadata": {
        "colab": {
          "base_uri": "https://localhost:8080/",
          "height": 350
        },
        "id": "kmtXZgUwH-SI",
        "outputId": "5cb817dd-6203-491c-9054-9ca69190df80"
      },
      "outputs": [
        {
          "ename": "ModuleNotFoundError",
          "evalue": "ignored",
          "output_type": "error",
          "traceback": [
            "\u001b[0;31m---------------------------------------------------------------------------\u001b[0m",
            "\u001b[0;31mModuleNotFoundError\u001b[0m                       Traceback (most recent call last)",
            "\u001b[0;32m<ipython-input-7-a4ee3856c73b>\u001b[0m in \u001b[0;36m<module>\u001b[0;34m\u001b[0m\n\u001b[0;32m----> 1\u001b[0;31m \u001b[0;32mimport\u001b[0m \u001b[0mrequest\u001b[0m\u001b[0;34m\u001b[0m\u001b[0;34m\u001b[0m\u001b[0m\n\u001b[0m\u001b[1;32m      2\u001b[0m \u001b[0mres\u001b[0m \u001b[0;34m=\u001b[0m \u001b[0mrequests\u001b[0m\u001b[0;34m.\u001b[0m\u001b[0mget\u001b[0m\u001b[0;34m(\u001b[0m\u001b[0;34m\"https://en.wikipedia.org/wiki/Grace_Hopper\"\u001b[0m\u001b[0;34m)\u001b[0m\u001b[0;34m\u001b[0m\u001b[0;34m\u001b[0m\u001b[0m\n\u001b[1;32m      3\u001b[0m \u001b[0msoup\u001b[0m \u001b[0;34m=\u001b[0m \u001b[0msoup\u001b[0m\u001b[0;34m.\u001b[0m\u001b[0mBeautifulSoup\u001b[0m\u001b[0;34m(\u001b[0m\u001b[0mres\u001b[0m\u001b[0;34m.\u001b[0m\u001b[0mtext\u001b[0m\u001b[0;34m,\u001b[0m\u001b[0;34m\"lxml\"\u001b[0m\u001b[0;34m)\u001b[0m\u001b[0;34m\u001b[0m\u001b[0;34m\u001b[0m\u001b[0m\n",
            "\u001b[0;31mModuleNotFoundError\u001b[0m: No module named 'request'",
            "",
            "\u001b[0;31m---------------------------------------------------------------------------\u001b[0;32m\nNOTE: If your import is failing due to a missing package, you can\nmanually install dependencies using either !pip or !apt.\n\nTo view examples of installing some common dependencies, click the\n\"Open Examples\" button below.\n\u001b[0;31m---------------------------------------------------------------------------\u001b[0m\n"
          ]
        }
      ],
      "source": [
        "import request\n",
        "res = requests.get(\"https://en.wikipedia.org/wiki/Grace_Hopper\")\n",
        "soup = soup.BeautifulSoup(res.text,\"lxml\")"
      ]
    }
  ],
  "metadata": {
    "colab": {
      "provenance": [],
      "include_colab_link": true
    },
    "kernelspec": {
      "display_name": "Python 3",
      "name": "python3"
    },
    "language_info": {
      "name": "python"
    }
  },
  "nbformat": 4,
  "nbformat_minor": 0
}