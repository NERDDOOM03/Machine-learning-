{
  "cells": [
    {
      "cell_type": "code",
      "source": [],
      "outputs": [],
      "execution_count": null,
      "metadata": {
        "jupyter": {
          "outputs_hidden": false,
          "source_hidden": false
        },
        "noteable": {
          "cell_type": "code"
        }
      },
      "id": "60b1ec8d-2236-4884-9fd4-46471859ac93"
    },
    {
      "cell_type": "markdown",
      "source": [
        "# Table of Contents\n",
        "1. [Introduction](#introduction)\n",
        "2. [Objective of the Project](#objective)\n",
        "3. [Prepare Data for Consumption](#data_preparation)\n",
        "4. [Data Cleaning](#data_cleaning)\n",
        "5. [Data Visualization](#data_visualization)\n",
        "6. [Feature Engineering](#feature_engineering)\n",
        "7. [Model Building](#model_building)\n",
        "8. [Model Evaluation](#model_evaluation)\n",
        "9. [Insights & Recommendations](#insights_recommendations)\n",
        "\n",
        "<a id='introduction'></a>\n",
        "# Introduction\n",
        "In this project, we are working as a Data Analyst for XYZ Consultancy Ltd. We have been approached by ABC Portugal Bank to create a classification algorithm that can automatically categorize their prospective leads on the likelihood of having a term deposit with their bank.\n",
        "\n",
        "<a id='objective'></a>\n",
        "# Objective of the Project\n",
        "The main objective of this project is to create a classification model that can predict whether a lead will make a term deposit or not. In addition, we will also provide insights derived from the dataset to help the bank narrow down their leads into the marketing funnel, ultimately leading to a term deposit.\n",
        "\n",
        "<a id='data_preparation'></a>\n",
        "# Prepare Data for Consumption\n",
        "In this section, we will load the dataset and perform initial exploration to understand the structure of the dataset, the types of variables we have, and the basic statistics of the variables.\n",
        "\n",
        "<a id='data_cleaning'></a>\n",
        "# Data Cleaning\n",
        "Data cleaning involves handling missing values, outliers, and any inconsistencies in the dataset. This is a crucial step as the quality of data and the useful information that can be derived from it directly affects the ability of our model to learn effectively.\n",
        "\n",
        "<a id='data_visualization'></a>\n",
        "# Data Visualization\n",
        "Data visualization is an integral part of data analysis. By creating interactive charts, we can understand the distributions of variables and find patterns within the data. We will use various visualization techniques to explore our data and gain valuable insights."
      ],
      "metadata": {
        "noteable": {
          "cell_type": "markdown"
        }
      },
      "id": "0ff1f0fb-a0fd-4711-b9a9-09a162b6ceda"
    },
    {
      "cell_type": "code",
      "source": [
        "# Import necessary libraries\n",
        "import pandas as pd\n",
        "\n",
        "# Load the dataset\n",
        "data = pd.read_csv('banking_dataAnalysis.csv')\n",
        "\n",
        "# Display the first few rows of the dataframe\n",
        "data.head()"
      ],
      "outputs": [
        {
          "output_type": "error",
          "ename": "FileNotFoundError",
          "evalue": "[Errno 2] No such file or directory: 'banking_dataAnalysis.csv'",
          "traceback": [
            "\u001b[0;31m---------------------------------------------------------------------------\u001b[0m",
            "\u001b[0;31mFileNotFoundError\u001b[0m                         Traceback (most recent call last)",
            "Cell \u001b[0;32mIn[1], line 5\u001b[0m\n\u001b[1;32m      2\u001b[0m \u001b[38;5;28;01mimport\u001b[39;00m \u001b[38;5;21;01mpandas\u001b[39;00m \u001b[38;5;28;01mas\u001b[39;00m \u001b[38;5;21;01mpd\u001b[39;00m\n\u001b[1;32m      4\u001b[0m \u001b[38;5;66;03m# Load the dataset\u001b[39;00m\n\u001b[0;32m----> 5\u001b[0m data \u001b[38;5;241m=\u001b[39m \u001b[43mpd\u001b[49m\u001b[38;5;241;43m.\u001b[39;49m\u001b[43mread_csv\u001b[49m\u001b[43m(\u001b[49m\u001b[38;5;124;43m'\u001b[39;49m\u001b[38;5;124;43mbanking_dataAnalysis.csv\u001b[39;49m\u001b[38;5;124;43m'\u001b[39;49m\u001b[43m)\u001b[49m\n\u001b[1;32m      7\u001b[0m \u001b[38;5;66;03m# Display the first few rows of the dataframe\u001b[39;00m\n\u001b[1;32m      8\u001b[0m data\u001b[38;5;241m.\u001b[39mhead()\n",
            "File \u001b[0;32m/opt/conda/lib/python3.9/site-packages/pandas/util/_decorators.py:211\u001b[0m, in \u001b[0;36mdeprecate_kwarg.<locals>._deprecate_kwarg.<locals>.wrapper\u001b[0;34m(*args, **kwargs)\u001b[0m\n\u001b[1;32m    209\u001b[0m     \u001b[38;5;28;01melse\u001b[39;00m:\n\u001b[1;32m    210\u001b[0m         kwargs[new_arg_name] \u001b[38;5;241m=\u001b[39m new_arg_value\n\u001b[0;32m--> 211\u001b[0m \u001b[38;5;28;01mreturn\u001b[39;00m \u001b[43mfunc\u001b[49m\u001b[43m(\u001b[49m\u001b[38;5;241;43m*\u001b[39;49m\u001b[43margs\u001b[49m\u001b[43m,\u001b[49m\u001b[43m \u001b[49m\u001b[38;5;241;43m*\u001b[39;49m\u001b[38;5;241;43m*\u001b[39;49m\u001b[43mkwargs\u001b[49m\u001b[43m)\u001b[49m\n",
            "File \u001b[0;32m/opt/conda/lib/python3.9/site-packages/pandas/util/_decorators.py:331\u001b[0m, in \u001b[0;36mdeprecate_nonkeyword_arguments.<locals>.decorate.<locals>.wrapper\u001b[0;34m(*args, **kwargs)\u001b[0m\n\u001b[1;32m    325\u001b[0m \u001b[38;5;28;01mif\u001b[39;00m \u001b[38;5;28mlen\u001b[39m(args) \u001b[38;5;241m>\u001b[39m num_allow_args:\n\u001b[1;32m    326\u001b[0m     warnings\u001b[38;5;241m.\u001b[39mwarn(\n\u001b[1;32m    327\u001b[0m         msg\u001b[38;5;241m.\u001b[39mformat(arguments\u001b[38;5;241m=\u001b[39m_format_argument_list(allow_args)),\n\u001b[1;32m    328\u001b[0m         \u001b[38;5;167;01mFutureWarning\u001b[39;00m,\n\u001b[1;32m    329\u001b[0m         stacklevel\u001b[38;5;241m=\u001b[39mfind_stack_level(),\n\u001b[1;32m    330\u001b[0m     )\n\u001b[0;32m--> 331\u001b[0m \u001b[38;5;28;01mreturn\u001b[39;00m \u001b[43mfunc\u001b[49m\u001b[43m(\u001b[49m\u001b[38;5;241;43m*\u001b[39;49m\u001b[43margs\u001b[49m\u001b[43m,\u001b[49m\u001b[43m \u001b[49m\u001b[38;5;241;43m*\u001b[39;49m\u001b[38;5;241;43m*\u001b[39;49m\u001b[43mkwargs\u001b[49m\u001b[43m)\u001b[49m\n",
            "File \u001b[0;32m/opt/conda/lib/python3.9/site-packages/pandas/io/parsers/readers.py:950\u001b[0m, in \u001b[0;36mread_csv\u001b[0;34m(filepath_or_buffer, sep, delimiter, header, names, index_col, usecols, squeeze, prefix, mangle_dupe_cols, dtype, engine, converters, true_values, false_values, skipinitialspace, skiprows, skipfooter, nrows, na_values, keep_default_na, na_filter, verbose, skip_blank_lines, parse_dates, infer_datetime_format, keep_date_col, date_parser, dayfirst, cache_dates, iterator, chunksize, compression, thousands, decimal, lineterminator, quotechar, quoting, doublequote, escapechar, comment, encoding, encoding_errors, dialect, error_bad_lines, warn_bad_lines, on_bad_lines, delim_whitespace, low_memory, memory_map, float_precision, storage_options)\u001b[0m\n\u001b[1;32m    935\u001b[0m kwds_defaults \u001b[38;5;241m=\u001b[39m _refine_defaults_read(\n\u001b[1;32m    936\u001b[0m     dialect,\n\u001b[1;32m    937\u001b[0m     delimiter,\n\u001b[0;32m   (...)\u001b[0m\n\u001b[1;32m    946\u001b[0m     defaults\u001b[38;5;241m=\u001b[39m{\u001b[38;5;124m\"\u001b[39m\u001b[38;5;124mdelimiter\u001b[39m\u001b[38;5;124m\"\u001b[39m: \u001b[38;5;124m\"\u001b[39m\u001b[38;5;124m,\u001b[39m\u001b[38;5;124m\"\u001b[39m},\n\u001b[1;32m    947\u001b[0m )\n\u001b[1;32m    948\u001b[0m kwds\u001b[38;5;241m.\u001b[39mupdate(kwds_defaults)\n\u001b[0;32m--> 950\u001b[0m \u001b[38;5;28;01mreturn\u001b[39;00m \u001b[43m_read\u001b[49m\u001b[43m(\u001b[49m\u001b[43mfilepath_or_buffer\u001b[49m\u001b[43m,\u001b[49m\u001b[43m \u001b[49m\u001b[43mkwds\u001b[49m\u001b[43m)\u001b[49m\n",
            "File \u001b[0;32m/opt/conda/lib/python3.9/site-packages/pandas/io/parsers/readers.py:605\u001b[0m, in \u001b[0;36m_read\u001b[0;34m(filepath_or_buffer, kwds)\u001b[0m\n\u001b[1;32m    602\u001b[0m _validate_names(kwds\u001b[38;5;241m.\u001b[39mget(\u001b[38;5;124m\"\u001b[39m\u001b[38;5;124mnames\u001b[39m\u001b[38;5;124m\"\u001b[39m, \u001b[38;5;28;01mNone\u001b[39;00m))\n\u001b[1;32m    604\u001b[0m \u001b[38;5;66;03m# Create the parser.\u001b[39;00m\n\u001b[0;32m--> 605\u001b[0m parser \u001b[38;5;241m=\u001b[39m \u001b[43mTextFileReader\u001b[49m\u001b[43m(\u001b[49m\u001b[43mfilepath_or_buffer\u001b[49m\u001b[43m,\u001b[49m\u001b[43m \u001b[49m\u001b[38;5;241;43m*\u001b[39;49m\u001b[38;5;241;43m*\u001b[39;49m\u001b[43mkwds\u001b[49m\u001b[43m)\u001b[49m\n\u001b[1;32m    607\u001b[0m \u001b[38;5;28;01mif\u001b[39;00m chunksize \u001b[38;5;129;01mor\u001b[39;00m iterator:\n\u001b[1;32m    608\u001b[0m     \u001b[38;5;28;01mreturn\u001b[39;00m parser\n",
            "File \u001b[0;32m/opt/conda/lib/python3.9/site-packages/pandas/io/parsers/readers.py:1442\u001b[0m, in \u001b[0;36mTextFileReader.__init__\u001b[0;34m(self, f, engine, **kwds)\u001b[0m\n\u001b[1;32m   1439\u001b[0m     \u001b[38;5;28mself\u001b[39m\u001b[38;5;241m.\u001b[39moptions[\u001b[38;5;124m\"\u001b[39m\u001b[38;5;124mhas_index_names\u001b[39m\u001b[38;5;124m\"\u001b[39m] \u001b[38;5;241m=\u001b[39m kwds[\u001b[38;5;124m\"\u001b[39m\u001b[38;5;124mhas_index_names\u001b[39m\u001b[38;5;124m\"\u001b[39m]\n\u001b[1;32m   1441\u001b[0m \u001b[38;5;28mself\u001b[39m\u001b[38;5;241m.\u001b[39mhandles: IOHandles \u001b[38;5;241m|\u001b[39m \u001b[38;5;28;01mNone\u001b[39;00m \u001b[38;5;241m=\u001b[39m \u001b[38;5;28;01mNone\u001b[39;00m\n\u001b[0;32m-> 1442\u001b[0m \u001b[38;5;28mself\u001b[39m\u001b[38;5;241m.\u001b[39m_engine \u001b[38;5;241m=\u001b[39m \u001b[38;5;28;43mself\u001b[39;49m\u001b[38;5;241;43m.\u001b[39;49m\u001b[43m_make_engine\u001b[49m\u001b[43m(\u001b[49m\u001b[43mf\u001b[49m\u001b[43m,\u001b[49m\u001b[43m \u001b[49m\u001b[38;5;28;43mself\u001b[39;49m\u001b[38;5;241;43m.\u001b[39;49m\u001b[43mengine\u001b[49m\u001b[43m)\u001b[49m\n",
            "File \u001b[0;32m/opt/conda/lib/python3.9/site-packages/pandas/io/parsers/readers.py:1735\u001b[0m, in \u001b[0;36mTextFileReader._make_engine\u001b[0;34m(self, f, engine)\u001b[0m\n\u001b[1;32m   1733\u001b[0m     \u001b[38;5;28;01mif\u001b[39;00m \u001b[38;5;124m\"\u001b[39m\u001b[38;5;124mb\u001b[39m\u001b[38;5;124m\"\u001b[39m \u001b[38;5;129;01mnot\u001b[39;00m \u001b[38;5;129;01min\u001b[39;00m mode:\n\u001b[1;32m   1734\u001b[0m         mode \u001b[38;5;241m+\u001b[39m\u001b[38;5;241m=\u001b[39m \u001b[38;5;124m\"\u001b[39m\u001b[38;5;124mb\u001b[39m\u001b[38;5;124m\"\u001b[39m\n\u001b[0;32m-> 1735\u001b[0m \u001b[38;5;28mself\u001b[39m\u001b[38;5;241m.\u001b[39mhandles \u001b[38;5;241m=\u001b[39m \u001b[43mget_handle\u001b[49m\u001b[43m(\u001b[49m\n\u001b[1;32m   1736\u001b[0m \u001b[43m    \u001b[49m\u001b[43mf\u001b[49m\u001b[43m,\u001b[49m\n\u001b[1;32m   1737\u001b[0m \u001b[43m    \u001b[49m\u001b[43mmode\u001b[49m\u001b[43m,\u001b[49m\n\u001b[1;32m   1738\u001b[0m \u001b[43m    \u001b[49m\u001b[43mencoding\u001b[49m\u001b[38;5;241;43m=\u001b[39;49m\u001b[38;5;28;43mself\u001b[39;49m\u001b[38;5;241;43m.\u001b[39;49m\u001b[43moptions\u001b[49m\u001b[38;5;241;43m.\u001b[39;49m\u001b[43mget\u001b[49m\u001b[43m(\u001b[49m\u001b[38;5;124;43m\"\u001b[39;49m\u001b[38;5;124;43mencoding\u001b[39;49m\u001b[38;5;124;43m\"\u001b[39;49m\u001b[43m,\u001b[49m\u001b[43m \u001b[49m\u001b[38;5;28;43;01mNone\u001b[39;49;00m\u001b[43m)\u001b[49m\u001b[43m,\u001b[49m\n\u001b[1;32m   1739\u001b[0m \u001b[43m    \u001b[49m\u001b[43mcompression\u001b[49m\u001b[38;5;241;43m=\u001b[39;49m\u001b[38;5;28;43mself\u001b[39;49m\u001b[38;5;241;43m.\u001b[39;49m\u001b[43moptions\u001b[49m\u001b[38;5;241;43m.\u001b[39;49m\u001b[43mget\u001b[49m\u001b[43m(\u001b[49m\u001b[38;5;124;43m\"\u001b[39;49m\u001b[38;5;124;43mcompression\u001b[39;49m\u001b[38;5;124;43m\"\u001b[39;49m\u001b[43m,\u001b[49m\u001b[43m \u001b[49m\u001b[38;5;28;43;01mNone\u001b[39;49;00m\u001b[43m)\u001b[49m\u001b[43m,\u001b[49m\n\u001b[1;32m   1740\u001b[0m \u001b[43m    \u001b[49m\u001b[43mmemory_map\u001b[49m\u001b[38;5;241;43m=\u001b[39;49m\u001b[38;5;28;43mself\u001b[39;49m\u001b[38;5;241;43m.\u001b[39;49m\u001b[43moptions\u001b[49m\u001b[38;5;241;43m.\u001b[39;49m\u001b[43mget\u001b[49m\u001b[43m(\u001b[49m\u001b[38;5;124;43m\"\u001b[39;49m\u001b[38;5;124;43mmemory_map\u001b[39;49m\u001b[38;5;124;43m\"\u001b[39;49m\u001b[43m,\u001b[49m\u001b[43m \u001b[49m\u001b[38;5;28;43;01mFalse\u001b[39;49;00m\u001b[43m)\u001b[49m\u001b[43m,\u001b[49m\n\u001b[1;32m   1741\u001b[0m \u001b[43m    \u001b[49m\u001b[43mis_text\u001b[49m\u001b[38;5;241;43m=\u001b[39;49m\u001b[43mis_text\u001b[49m\u001b[43m,\u001b[49m\n\u001b[1;32m   1742\u001b[0m \u001b[43m    \u001b[49m\u001b[43merrors\u001b[49m\u001b[38;5;241;43m=\u001b[39;49m\u001b[38;5;28;43mself\u001b[39;49m\u001b[38;5;241;43m.\u001b[39;49m\u001b[43moptions\u001b[49m\u001b[38;5;241;43m.\u001b[39;49m\u001b[43mget\u001b[49m\u001b[43m(\u001b[49m\u001b[38;5;124;43m\"\u001b[39;49m\u001b[38;5;124;43mencoding_errors\u001b[39;49m\u001b[38;5;124;43m\"\u001b[39;49m\u001b[43m,\u001b[49m\u001b[43m \u001b[49m\u001b[38;5;124;43m\"\u001b[39;49m\u001b[38;5;124;43mstrict\u001b[39;49m\u001b[38;5;124;43m\"\u001b[39;49m\u001b[43m)\u001b[49m\u001b[43m,\u001b[49m\n\u001b[1;32m   1743\u001b[0m \u001b[43m    \u001b[49m\u001b[43mstorage_options\u001b[49m\u001b[38;5;241;43m=\u001b[39;49m\u001b[38;5;28;43mself\u001b[39;49m\u001b[38;5;241;43m.\u001b[39;49m\u001b[43moptions\u001b[49m\u001b[38;5;241;43m.\u001b[39;49m\u001b[43mget\u001b[49m\u001b[43m(\u001b[49m\u001b[38;5;124;43m\"\u001b[39;49m\u001b[38;5;124;43mstorage_options\u001b[39;49m\u001b[38;5;124;43m\"\u001b[39;49m\u001b[43m,\u001b[49m\u001b[43m \u001b[49m\u001b[38;5;28;43;01mNone\u001b[39;49;00m\u001b[43m)\u001b[49m\u001b[43m,\u001b[49m\n\u001b[1;32m   1744\u001b[0m \u001b[43m\u001b[49m\u001b[43m)\u001b[49m\n\u001b[1;32m   1745\u001b[0m \u001b[38;5;28;01massert\u001b[39;00m \u001b[38;5;28mself\u001b[39m\u001b[38;5;241m.\u001b[39mhandles \u001b[38;5;129;01mis\u001b[39;00m \u001b[38;5;129;01mnot\u001b[39;00m \u001b[38;5;28;01mNone\u001b[39;00m\n\u001b[1;32m   1746\u001b[0m f \u001b[38;5;241m=\u001b[39m \u001b[38;5;28mself\u001b[39m\u001b[38;5;241m.\u001b[39mhandles\u001b[38;5;241m.\u001b[39mhandle\n",
            "File \u001b[0;32m/opt/conda/lib/python3.9/site-packages/pandas/io/common.py:856\u001b[0m, in \u001b[0;36mget_handle\u001b[0;34m(path_or_buf, mode, encoding, compression, memory_map, is_text, errors, storage_options)\u001b[0m\n\u001b[1;32m    851\u001b[0m \u001b[38;5;28;01melif\u001b[39;00m \u001b[38;5;28misinstance\u001b[39m(handle, \u001b[38;5;28mstr\u001b[39m):\n\u001b[1;32m    852\u001b[0m     \u001b[38;5;66;03m# Check whether the filename is to be opened in binary mode.\u001b[39;00m\n\u001b[1;32m    853\u001b[0m     \u001b[38;5;66;03m# Binary mode does not support 'encoding' and 'newline'.\u001b[39;00m\n\u001b[1;32m    854\u001b[0m     \u001b[38;5;28;01mif\u001b[39;00m ioargs\u001b[38;5;241m.\u001b[39mencoding \u001b[38;5;129;01mand\u001b[39;00m \u001b[38;5;124m\"\u001b[39m\u001b[38;5;124mb\u001b[39m\u001b[38;5;124m\"\u001b[39m \u001b[38;5;129;01mnot\u001b[39;00m \u001b[38;5;129;01min\u001b[39;00m ioargs\u001b[38;5;241m.\u001b[39mmode:\n\u001b[1;32m    855\u001b[0m         \u001b[38;5;66;03m# Encoding\u001b[39;00m\n\u001b[0;32m--> 856\u001b[0m         handle \u001b[38;5;241m=\u001b[39m \u001b[38;5;28;43mopen\u001b[39;49m\u001b[43m(\u001b[49m\n\u001b[1;32m    857\u001b[0m \u001b[43m            \u001b[49m\u001b[43mhandle\u001b[49m\u001b[43m,\u001b[49m\n\u001b[1;32m    858\u001b[0m \u001b[43m            \u001b[49m\u001b[43mioargs\u001b[49m\u001b[38;5;241;43m.\u001b[39;49m\u001b[43mmode\u001b[49m\u001b[43m,\u001b[49m\n\u001b[1;32m    859\u001b[0m \u001b[43m            \u001b[49m\u001b[43mencoding\u001b[49m\u001b[38;5;241;43m=\u001b[39;49m\u001b[43mioargs\u001b[49m\u001b[38;5;241;43m.\u001b[39;49m\u001b[43mencoding\u001b[49m\u001b[43m,\u001b[49m\n\u001b[1;32m    860\u001b[0m \u001b[43m            \u001b[49m\u001b[43merrors\u001b[49m\u001b[38;5;241;43m=\u001b[39;49m\u001b[43merrors\u001b[49m\u001b[43m,\u001b[49m\n\u001b[1;32m    861\u001b[0m \u001b[43m            \u001b[49m\u001b[43mnewline\u001b[49m\u001b[38;5;241;43m=\u001b[39;49m\u001b[38;5;124;43m\"\u001b[39;49m\u001b[38;5;124;43m\"\u001b[39;49m\u001b[43m,\u001b[49m\n\u001b[1;32m    862\u001b[0m \u001b[43m        \u001b[49m\u001b[43m)\u001b[49m\n\u001b[1;32m    863\u001b[0m     \u001b[38;5;28;01melse\u001b[39;00m:\n\u001b[1;32m    864\u001b[0m         \u001b[38;5;66;03m# Binary mode\u001b[39;00m\n\u001b[1;32m    865\u001b[0m         handle \u001b[38;5;241m=\u001b[39m \u001b[38;5;28mopen\u001b[39m(handle, ioargs\u001b[38;5;241m.\u001b[39mmode)\n",
            "\u001b[0;31mFileNotFoundError\u001b[0m: [Errno 2] No such file or directory: 'banking_dataAnalysis.csv'"
          ]
        }
      ],
      "execution_count": null,
      "metadata": {
        "noteable": {
          "cell_type": "code"
        },
        "ExecuteTime": {
          "end_time": "2023-07-24T11:53:50.684330+00:00",
          "start_time": "2023-07-24T11:53:49.536753+00:00"
        }
      },
      "id": "9ce962df-0c78-439f-90b9-7e35a7b2428b"
    },
    {
      "cell_type": "code",
      "source": [
        "# Load the dataset\n",
        "data = pd.read_csv('bank-additional-full.csv')\n",
        "\n",
        "# Display the first few rows of the dataframe\n",
        "data.head()"
      ],
      "outputs": [
        {
          "output_type": "display_data",
          "data": {
            "application/vnd.dataresource+json": {
              "schema": {
                "fields": [
                  {
                    "name": "index",
                    "type": "integer"
                  },
                  {
                    "name": "age;\"job\";\"marital\";\"education\";\"default\";\"housing\";\"loan\";\"contact\";\"month\";\"day_of_week\";\"duration\";\"campaign\";\"pdays\";\"previous\";\"poutcome\";\"emp.var.rate\";\"cons.price.idx\";\"cons.conf.idx\";\"euribor3m\";\"nr.employed\";\"y\"",
                    "type": "string"
                  }
                ],
                "primaryKey": [
                  "index"
                ],
                "pandas_version": "1.4.0"
              },
              "data": [
                {
                  "index": 0,
                  "age;\"job\";\"marital\";\"education\";\"default\";\"housing\";\"loan\";\"contact\";\"month\";\"day_of_week\";\"duration\";\"campaign\";\"pdays\";\"previous\";\"poutcome\";\"emp.var.rate\";\"cons.price.idx\";\"cons.conf.idx\";\"euribor3m\";\"nr.employed\";\"y\"": "56;\"housemaid\";\"married\";\"basic.4y\";\"no\";\"no\";\"no\";\"telephone\";\"may\";\"mon\";261;1;999;0;\"nonexistent\";1.1;93.994;-36.4;4.857;5191;\"no\""
                },
                {
                  "index": 1,
                  "age;\"job\";\"marital\";\"education\";\"default\";\"housing\";\"loan\";\"contact\";\"month\";\"day_of_week\";\"duration\";\"campaign\";\"pdays\";\"previous\";\"poutcome\";\"emp.var.rate\";\"cons.price.idx\";\"cons.conf.idx\";\"euribor3m\";\"nr.employed\";\"y\"": "57;\"services\";\"married\";\"high.school\";\"unknown\";\"no\";\"no\";\"telephone\";\"may\";\"mon\";149;1;999;0;\"nonexistent\";1.1;93.994;-36.4;4.857;5191;\"no\""
                },
                {
                  "index": 2,
                  "age;\"job\";\"marital\";\"education\";\"default\";\"housing\";\"loan\";\"contact\";\"month\";\"day_of_week\";\"duration\";\"campaign\";\"pdays\";\"previous\";\"poutcome\";\"emp.var.rate\";\"cons.price.idx\";\"cons.conf.idx\";\"euribor3m\";\"nr.employed\";\"y\"": "37;\"services\";\"married\";\"high.school\";\"no\";\"yes\";\"no\";\"telephone\";\"may\";\"mon\";226;1;999;0;\"nonexistent\";1.1;93.994;-36.4;4.857;5191;\"no\""
                },
                {
                  "index": 3,
                  "age;\"job\";\"marital\";\"education\";\"default\";\"housing\";\"loan\";\"contact\";\"month\";\"day_of_week\";\"duration\";\"campaign\";\"pdays\";\"previous\";\"poutcome\";\"emp.var.rate\";\"cons.price.idx\";\"cons.conf.idx\";\"euribor3m\";\"nr.employed\";\"y\"": "40;\"admin.\";\"married\";\"basic.6y\";\"no\";\"no\";\"no\";\"telephone\";\"may\";\"mon\";151;1;999;0;\"nonexistent\";1.1;93.994;-36.4;4.857;5191;\"no\""
                },
                {
                  "index": 4,
                  "age;\"job\";\"marital\";\"education\";\"default\";\"housing\";\"loan\";\"contact\";\"month\";\"day_of_week\";\"duration\";\"campaign\";\"pdays\";\"previous\";\"poutcome\";\"emp.var.rate\";\"cons.price.idx\";\"cons.conf.idx\";\"euribor3m\";\"nr.employed\";\"y\"": "56;\"services\";\"married\";\"high.school\";\"no\";\"no\";\"yes\";\"telephone\";\"may\";\"mon\";307;1;999;0;\"nonexistent\";1.1;93.994;-36.4;4.857;5191;\"no\""
                }
              ],
              "datalink": {
                "display_id": "01070c9f-b721-49ad-a5d5-bff07737a4be"
              }
            }
          },
          "metadata": {
            "application/vnd.dataresource+json": {
              "datalink": {
                "dataframe_info": {
                  "default_index_used": true,
                  "orig_size_bytes": 80,
                  "orig_num_rows": 5,
                  "orig_num_cols": 1,
                  "truncated_string_columns": [],
                  "truncated_size_bytes": 80,
                  "truncated_num_rows": 5,
                  "truncated_num_cols": 1
                },
                "dx_settings": {
                  "NUM_PAST_SAMPLES_TRACKED": 3,
                  "ENABLE_DATALINK": true,
                  "DISPLAY_MODE": "simple",
                  "GENERATE_DEX_METADATA": false,
                  "STRINGIFY_INDEX_VALUES": false,
                  "ALLOW_NOTEABLE_ATTRS": true,
                  "DISPLAY_MAX_COLUMNS": 100,
                  "HTML_TABLE_SCHEMA": false,
                  "SAMPLING_FACTOR": 0.1,
                  "LOG_LEVEL": 30,
                  "ENABLE_ASSIGNMENT": true,
                  "FLATTEN_INDEX_VALUES": false,
                  "DEV_MODE": false,
                  "COLUMN_SAMPLING_METHOD": "outer",
                  "FLATTEN_COLUMN_VALUES": true,
                  "DISPLAY_MAX_ROWS": 50000,
                  "ROW_SAMPLING_METHOD": "random",
                  "RANDOM_STATE": 12648430,
                  "DB_LOCATION": ":memory:",
                  "STRINGIFY_COLUMN_VALUES": true,
                  "SAMPLING_METHOD": "random",
                  "MAX_STRING_LENGTH": 250,
                  "MAX_RENDER_SIZE_BYTES": 104857600,
                  "RESET_INDEX_VALUES": false
                },
                "display_id": "01070c9f-b721-49ad-a5d5-bff07737a4be",
                "applied_filters": [],
                "sample_history": [],
                "sampling_time": "2023-07-24T11:55:45.961133",
                "variable_name": "unk_dataframe_bb84010a141644d28a4ba5f653523778",
                "user_variable_name": null
              },
              "display_id": "01070c9f-b721-49ad-a5d5-bff07737a4be"
            }
          }
        }
      ],
      "execution_count": null,
      "metadata": {
        "noteable": {
          "cell_type": "code"
        },
        "ExecuteTime": {
          "end_time": "2023-07-24T11:55:46.117620+00:00",
          "start_time": "2023-07-24T11:55:45.836844+00:00"
        },
        "datalink": {
          "01070c9f-b721-49ad-a5d5-bff07737a4be": {
            "applied_filters": [],
            "dataframe_info": {
              "default_index_used": true,
              "orig_num_cols": 1,
              "orig_num_rows": 5,
              "orig_size_bytes": 80,
              "truncated_num_cols": 1,
              "truncated_num_rows": 5,
              "truncated_size_bytes": 80,
              "truncated_string_columns": []
            },
            "display_id": "01070c9f-b721-49ad-a5d5-bff07737a4be",
            "dx_settings": {
              "ALLOW_NOTEABLE_ATTRS": true,
              "COLUMN_SAMPLING_METHOD": "outer",
              "DB_LOCATION": ":memory:",
              "DEV_MODE": false,
              "DISPLAY_MAX_COLUMNS": 100,
              "DISPLAY_MAX_ROWS": 50000,
              "DISPLAY_MODE": "simple",
              "ENABLE_ASSIGNMENT": true,
              "ENABLE_DATALINK": true,
              "FLATTEN_COLUMN_VALUES": true,
              "FLATTEN_INDEX_VALUES": false,
              "GENERATE_DEX_METADATA": false,
              "HTML_TABLE_SCHEMA": false,
              "LOG_LEVEL": 30,
              "MAX_RENDER_SIZE_BYTES": 104857600,
              "MAX_STRING_LENGTH": 250,
              "NUM_PAST_SAMPLES_TRACKED": 3,
              "RANDOM_STATE": 12648430,
              "RESET_INDEX_VALUES": false,
              "ROW_SAMPLING_METHOD": "random",
              "SAMPLING_FACTOR": 0.1,
              "SAMPLING_METHOD": "random",
              "STRINGIFY_COLUMN_VALUES": true,
              "STRINGIFY_INDEX_VALUES": false
            },
            "sample_history": [],
            "sampling_time": "2023-07-24T11:55:45.961133",
            "user_variable_name": null,
            "variable_name": "unk_dataframe_bb84010a141644d28a4ba5f653523778"
          }
        }
      },
      "id": "12a96f13-cd7c-49d3-8be9-a0eeba952d16"
    },
    {
      "cell_type": "code",
      "source": [
        "# Load the dataset with correct separator\n",
        "data = pd.read_csv('bank-additional-full.csv', sep=';')\n",
        "\n",
        "# Display the first few rows of the dataframe\n",
        "data.head()"
      ],
      "outputs": [
        {
          "output_type": "display_data",
          "data": {
            "application/vnd.dataresource+json": {
              "schema": {
                "fields": [
                  {
                    "name": "index",
                    "type": "integer"
                  },
                  {
                    "name": "age",
                    "type": "integer"
                  },
                  {
                    "name": "job",
                    "type": "string"
                  },
                  {
                    "name": "marital",
                    "type": "string"
                  },
                  {
                    "name": "education",
                    "type": "string"
                  },
                  {
                    "name": "default",
                    "type": "string"
                  },
                  {
                    "name": "housing",
                    "type": "string"
                  },
                  {
                    "name": "loan",
                    "type": "string"
                  },
                  {
                    "name": "contact",
                    "type": "string"
                  },
                  {
                    "name": "month",
                    "type": "string"
                  },
                  {
                    "name": "day_of_week",
                    "type": "string"
                  },
                  {
                    "name": "duration",
                    "type": "integer"
                  },
                  {
                    "name": "campaign",
                    "type": "integer"
                  },
                  {
                    "name": "pdays",
                    "type": "integer"
                  },
                  {
                    "name": "previous",
                    "type": "integer"
                  },
                  {
                    "name": "poutcome",
                    "type": "string"
                  },
                  {
                    "name": "emp.var.rate",
                    "type": "number"
                  },
                  {
                    "name": "cons.price.idx",
                    "type": "number"
                  },
                  {
                    "name": "cons.conf.idx",
                    "type": "number"
                  },
                  {
                    "name": "euribor3m",
                    "type": "number"
                  },
                  {
                    "name": "nr.employed",
                    "type": "number"
                  },
                  {
                    "name": "y",
                    "type": "string"
                  }
                ],
                "primaryKey": [
                  "index"
                ],
                "pandas_version": "1.4.0"
              },
              "data": [
                {
                  "index": 0,
                  "age": 56,
                  "job": "housemaid",
                  "marital": "married",
                  "education": "basic.4y",
                  "default": "no",
                  "housing": "no",
                  "loan": "no",
                  "contact": "telephone",
                  "month": "may",
                  "day_of_week": "mon",
                  "duration": 261,
                  "campaign": 1,
                  "pdays": 999,
                  "previous": 0,
                  "poutcome": "nonexistent",
                  "emp.var.rate": 1.1,
                  "cons.price.idx": 93.994,
                  "cons.conf.idx": -36.4,
                  "euribor3m": 4.857,
                  "nr.employed": 5191,
                  "y": "no"
                },
                {
                  "index": 1,
                  "age": 57,
                  "job": "services",
                  "marital": "married",
                  "education": "high.school",
                  "default": "unknown",
                  "housing": "no",
                  "loan": "no",
                  "contact": "telephone",
                  "month": "may",
                  "day_of_week": "mon",
                  "duration": 149,
                  "campaign": 1,
                  "pdays": 999,
                  "previous": 0,
                  "poutcome": "nonexistent",
                  "emp.var.rate": 1.1,
                  "cons.price.idx": 93.994,
                  "cons.conf.idx": -36.4,
                  "euribor3m": 4.857,
                  "nr.employed": 5191,
                  "y": "no"
                },
                {
                  "index": 2,
                  "age": 37,
                  "job": "services",
                  "marital": "married",
                  "education": "high.school",
                  "default": "no",
                  "housing": "yes",
                  "loan": "no",
                  "contact": "telephone",
                  "month": "may",
                  "day_of_week": "mon",
                  "duration": 226,
                  "campaign": 1,
                  "pdays": 999,
                  "previous": 0,
                  "poutcome": "nonexistent",
                  "emp.var.rate": 1.1,
                  "cons.price.idx": 93.994,
                  "cons.conf.idx": -36.4,
                  "euribor3m": 4.857,
                  "nr.employed": 5191,
                  "y": "no"
                },
                {
                  "index": 3,
                  "age": 40,
                  "job": "admin.",
                  "marital": "married",
                  "education": "basic.6y",
                  "default": "no",
                  "housing": "no",
                  "loan": "no",
                  "contact": "telephone",
                  "month": "may",
                  "day_of_week": "mon",
                  "duration": 151,
                  "campaign": 1,
                  "pdays": 999,
                  "previous": 0,
                  "poutcome": "nonexistent",
                  "emp.var.rate": 1.1,
                  "cons.price.idx": 93.994,
                  "cons.conf.idx": -36.4,
                  "euribor3m": 4.857,
                  "nr.employed": 5191,
                  "y": "no"
                },
                {
                  "index": 4,
                  "age": 56,
                  "job": "services",
                  "marital": "married",
                  "education": "high.school",
                  "default": "no",
                  "housing": "no",
                  "loan": "yes",
                  "contact": "telephone",
                  "month": "may",
                  "day_of_week": "mon",
                  "duration": 307,
                  "campaign": 1,
                  "pdays": 999,
                  "previous": 0,
                  "poutcome": "nonexistent",
                  "emp.var.rate": 1.1,
                  "cons.price.idx": 93.994,
                  "cons.conf.idx": -36.4,
                  "euribor3m": 4.857,
                  "nr.employed": 5191,
                  "y": "no"
                }
              ],
              "datalink": {
                "display_id": "86f96c29-ba26-4b5a-ac50-55297fc85b84"
              }
            }
          },
          "metadata": {
            "application/vnd.dataresource+json": {
              "datalink": {
                "dataframe_info": {
                  "default_index_used": true,
                  "orig_size_bytes": 880,
                  "orig_num_rows": 5,
                  "orig_num_cols": 21,
                  "truncated_string_columns": [],
                  "truncated_size_bytes": 880,
                  "truncated_num_rows": 5,
                  "truncated_num_cols": 21
                },
                "dx_settings": {
                  "NUM_PAST_SAMPLES_TRACKED": 3,
                  "ENABLE_DATALINK": true,
                  "DISPLAY_MODE": "simple",
                  "GENERATE_DEX_METADATA": false,
                  "STRINGIFY_INDEX_VALUES": false,
                  "ALLOW_NOTEABLE_ATTRS": true,
                  "DISPLAY_MAX_COLUMNS": 100,
                  "HTML_TABLE_SCHEMA": false,
                  "SAMPLING_FACTOR": 0.1,
                  "LOG_LEVEL": 30,
                  "ENABLE_ASSIGNMENT": true,
                  "FLATTEN_INDEX_VALUES": false,
                  "DEV_MODE": false,
                  "COLUMN_SAMPLING_METHOD": "outer",
                  "FLATTEN_COLUMN_VALUES": true,
                  "DISPLAY_MAX_ROWS": 50000,
                  "ROW_SAMPLING_METHOD": "random",
                  "RANDOM_STATE": 12648430,
                  "DB_LOCATION": ":memory:",
                  "STRINGIFY_COLUMN_VALUES": true,
                  "SAMPLING_METHOD": "random",
                  "MAX_STRING_LENGTH": 250,
                  "MAX_RENDER_SIZE_BYTES": 104857600,
                  "RESET_INDEX_VALUES": false
                },
                "display_id": "86f96c29-ba26-4b5a-ac50-55297fc85b84",
                "applied_filters": [],
                "sample_history": [],
                "sampling_time": "2023-07-24T11:56:00.520108",
                "variable_name": "unk_dataframe_0433e22b9e1e476a81d238db284adc6f",
                "user_variable_name": null
              },
              "display_id": "86f96c29-ba26-4b5a-ac50-55297fc85b84"
            }
          }
        }
      ],
      "execution_count": null,
      "metadata": {
        "noteable": {
          "cell_type": "code"
        },
        "ExecuteTime": {
          "end_time": "2023-07-24T11:56:00.683001+00:00",
          "start_time": "2023-07-24T11:56:00.303194+00:00"
        },
        "datalink": {
          "86f96c29-ba26-4b5a-ac50-55297fc85b84": {
            "applied_filters": [],
            "dataframe_info": {
              "default_index_used": true,
              "orig_num_cols": 21,
              "orig_num_rows": 5,
              "orig_size_bytes": 880,
              "truncated_num_cols": 21,
              "truncated_num_rows": 5,
              "truncated_size_bytes": 880,
              "truncated_string_columns": []
            },
            "display_id": "86f96c29-ba26-4b5a-ac50-55297fc85b84",
            "dx_settings": {
              "ALLOW_NOTEABLE_ATTRS": true,
              "COLUMN_SAMPLING_METHOD": "outer",
              "DB_LOCATION": ":memory:",
              "DEV_MODE": false,
              "DISPLAY_MAX_COLUMNS": 100,
              "DISPLAY_MAX_ROWS": 50000,
              "DISPLAY_MODE": "simple",
              "ENABLE_ASSIGNMENT": true,
              "ENABLE_DATALINK": true,
              "FLATTEN_COLUMN_VALUES": true,
              "FLATTEN_INDEX_VALUES": false,
              "GENERATE_DEX_METADATA": false,
              "HTML_TABLE_SCHEMA": false,
              "LOG_LEVEL": 30,
              "MAX_RENDER_SIZE_BYTES": 104857600,
              "MAX_STRING_LENGTH": 250,
              "NUM_PAST_SAMPLES_TRACKED": 3,
              "RANDOM_STATE": 12648430,
              "RESET_INDEX_VALUES": false,
              "ROW_SAMPLING_METHOD": "random",
              "SAMPLING_FACTOR": 0.1,
              "SAMPLING_METHOD": "random",
              "STRINGIFY_COLUMN_VALUES": true,
              "STRINGIFY_INDEX_VALUES": false
            },
            "sample_history": [],
            "sampling_time": "2023-07-24T11:56:00.520108",
            "user_variable_name": null,
            "variable_name": "unk_dataframe_0433e22b9e1e476a81d238db284adc6f"
          }
        }
      },
      "id": "40b94f3f-bb68-4d22-adce-e65fe8a854e9"
    },
    {
      "cell_type": "code",
      "source": [
        "# Check for missing values\n",
        "data.isnull().sum()"
      ],
      "outputs": [
        {
          "output_type": "display_data",
          "data": {
            "application/vnd.dataresource+json": {
              "schema": {
                "fields": [
                  {
                    "name": "index",
                    "type": "string"
                  },
                  {
                    "name": "0",
                    "type": "integer"
                  }
                ],
                "primaryKey": [
                  "index"
                ],
                "pandas_version": "1.4.0"
              },
              "data": [
                {
                  "0": 0,
                  "index": "age"
                },
                {
                  "0": 0,
                  "index": "job"
                },
                {
                  "0": 0,
                  "index": "marital"
                },
                {
                  "0": 0,
                  "index": "education"
                },
                {
                  "0": 0,
                  "index": "default"
                },
                {
                  "0": 0,
                  "index": "housing"
                },
                {
                  "0": 0,
                  "index": "loan"
                },
                {
                  "0": 0,
                  "index": "contact"
                },
                {
                  "0": 0,
                  "index": "month"
                },
                {
                  "0": 0,
                  "index": "day_of_week"
                },
                {
                  "0": 0,
                  "index": "duration"
                },
                {
                  "0": 0,
                  "index": "campaign"
                },
                {
                  "0": 0,
                  "index": "pdays"
                },
                {
                  "0": 0,
                  "index": "previous"
                },
                {
                  "0": 0,
                  "index": "poutcome"
                },
                {
                  "0": 0,
                  "index": "emp.var.rate"
                },
                {
                  "0": 0,
                  "index": "cons.price.idx"
                },
                {
                  "0": 0,
                  "index": "cons.conf.idx"
                },
                {
                  "0": 0,
                  "index": "euribor3m"
                },
                {
                  "0": 0,
                  "index": "nr.employed"
                },
                {
                  "0": 0,
                  "index": "y"
                }
              ],
              "datalink": {
                "display_id": "b356bfad-ee2c-4c32-b23d-0e18491ec788"
              }
            }
          },
          "metadata": {
            "application/vnd.dataresource+json": {
              "datalink": {
                "dataframe_info": {
                  "default_index_used": false,
                  "orig_size_bytes": 336,
                  "orig_num_rows": 21,
                  "orig_num_cols": 1,
                  "truncated_string_columns": [],
                  "truncated_size_bytes": 336,
                  "truncated_num_rows": 21,
                  "truncated_num_cols": 1
                },
                "dx_settings": {
                  "NUM_PAST_SAMPLES_TRACKED": 3,
                  "ENABLE_DATALINK": true,
                  "DISPLAY_MODE": "simple",
                  "GENERATE_DEX_METADATA": false,
                  "STRINGIFY_INDEX_VALUES": false,
                  "ALLOW_NOTEABLE_ATTRS": true,
                  "DISPLAY_MAX_COLUMNS": 100,
                  "HTML_TABLE_SCHEMA": false,
                  "SAMPLING_FACTOR": 0.1,
                  "LOG_LEVEL": 30,
                  "ENABLE_ASSIGNMENT": true,
                  "FLATTEN_INDEX_VALUES": false,
                  "DEV_MODE": false,
                  "COLUMN_SAMPLING_METHOD": "outer",
                  "FLATTEN_COLUMN_VALUES": true,
                  "DISPLAY_MAX_ROWS": 50000,
                  "ROW_SAMPLING_METHOD": "random",
                  "RANDOM_STATE": 12648430,
                  "DB_LOCATION": ":memory:",
                  "STRINGIFY_COLUMN_VALUES": true,
                  "SAMPLING_METHOD": "random",
                  "MAX_STRING_LENGTH": 250,
                  "MAX_RENDER_SIZE_BYTES": 104857600,
                  "RESET_INDEX_VALUES": false
                },
                "display_id": "b356bfad-ee2c-4c32-b23d-0e18491ec788",
                "applied_filters": [],
                "sample_history": [],
                "sampling_time": "2023-07-24T11:56:14.444538",
                "variable_name": "unk_dataframe_0364b6b7ad6c4a5c9cba01bb1b10e262",
                "user_variable_name": null
              },
              "display_id": "b356bfad-ee2c-4c32-b23d-0e18491ec788"
            }
          }
        }
      ],
      "execution_count": null,
      "metadata": {
        "noteable": {
          "cell_type": "code"
        },
        "ExecuteTime": {
          "end_time": "2023-07-24T11:56:14.601436+00:00",
          "start_time": "2023-07-24T11:56:14.336850+00:00"
        },
        "datalink": {
          "b356bfad-ee2c-4c32-b23d-0e18491ec788": {
            "applied_filters": [],
            "dataframe_info": {
              "default_index_used": false,
              "orig_num_cols": 1,
              "orig_num_rows": 21,
              "orig_size_bytes": 336,
              "truncated_num_cols": 1,
              "truncated_num_rows": 21,
              "truncated_size_bytes": 336,
              "truncated_string_columns": []
            },
            "display_id": "b356bfad-ee2c-4c32-b23d-0e18491ec788",
            "dx_settings": {
              "ALLOW_NOTEABLE_ATTRS": true,
              "COLUMN_SAMPLING_METHOD": "outer",
              "DB_LOCATION": ":memory:",
              "DEV_MODE": false,
              "DISPLAY_MAX_COLUMNS": 100,
              "DISPLAY_MAX_ROWS": 50000,
              "DISPLAY_MODE": "simple",
              "ENABLE_ASSIGNMENT": true,
              "ENABLE_DATALINK": true,
              "FLATTEN_COLUMN_VALUES": true,
              "FLATTEN_INDEX_VALUES": false,
              "GENERATE_DEX_METADATA": false,
              "HTML_TABLE_SCHEMA": false,
              "LOG_LEVEL": 30,
              "MAX_RENDER_SIZE_BYTES": 104857600,
              "MAX_STRING_LENGTH": 250,
              "NUM_PAST_SAMPLES_TRACKED": 3,
              "RANDOM_STATE": 12648430,
              "RESET_INDEX_VALUES": false,
              "ROW_SAMPLING_METHOD": "random",
              "SAMPLING_FACTOR": 0.1,
              "SAMPLING_METHOD": "random",
              "STRINGIFY_COLUMN_VALUES": true,
              "STRINGIFY_INDEX_VALUES": false
            },
            "sample_history": [],
            "sampling_time": "2023-07-24T11:56:14.444538",
            "user_variable_name": null,
            "variable_name": "unk_dataframe_0364b6b7ad6c4a5c9cba01bb1b10e262"
          }
        }
      },
      "id": "49ee9d2c-d039-44c5-900c-d3f463cc0b78"
    },
    {
      "cell_type": "code",
      "source": [
        "# Get a summary of the dataset\n",
        "data.info()\n",
        "data.describe(include='all')"
      ],
      "outputs": [
        {
          "output_type": "stream",
          "name": "stdout",
          "text": [
            "<class 'pandas.core.frame.DataFrame'>\n",
            "RangeIndex: 41188 entries, 0 to 41187\n",
            "Data columns (total 21 columns):\n",
            " #   Column          Non-Null Count  Dtype  \n",
            "---  ------          --------------  -----  \n",
            " 0   age             41188 non-null  int64  \n",
            " 1   job             41188 non-null  object \n",
            " 2   marital         41188 non-null  object \n",
            " 3   education       41188 non-null  object \n",
            " 4   default         41188 non-null  object \n",
            " 5   housing         41188 non-null  object \n",
            " 6   loan            41188 non-null  object \n",
            " 7   contact         41188 non-null  object \n",
            " 8   month           41188 non-null  object \n",
            " 9   day_of_week     41188 non-null  object \n",
            " 10  duration        41188 non-null  int64  \n",
            " 11  campaign        41188 non-null  int64  \n",
            " 12  pdays           41188 non-null  int64  \n",
            " 13  previous        41188 non-null  int64  \n",
            " 14  poutcome        41188 non-null  object \n",
            " 15  emp.var.rate    41188 non-null  float64\n",
            " 16  cons.price.idx  41188 non-null  float64\n",
            " 17  cons.conf.idx   41188 non-null  float64\n",
            " 18  euribor3m       41188 non-null  float64\n",
            " 19  nr.employed     41188 non-null  float64\n",
            " 20  y               41188 non-null  object \n",
            "dtypes: float64(5), int64(5), object(11)\n",
            "memory usage: 6.6+ MB\n"
          ]
        },
        {
          "output_type": "display_data",
          "data": {
            "application/vnd.dataresource+json": {
              "schema": {
                "fields": [
                  {
                    "name": "index",
                    "type": "string"
                  },
                  {
                    "name": "age",
                    "type": "number"
                  },
                  {
                    "name": "job",
                    "type": "string"
                  },
                  {
                    "name": "marital",
                    "type": "string"
                  },
                  {
                    "name": "education",
                    "type": "string"
                  },
                  {
                    "name": "default",
                    "type": "string"
                  },
                  {
                    "name": "housing",
                    "type": "string"
                  },
                  {
                    "name": "loan",
                    "type": "string"
                  },
                  {
                    "name": "contact",
                    "type": "string"
                  },
                  {
                    "name": "month",
                    "type": "string"
                  },
                  {
                    "name": "day_of_week",
                    "type": "string"
                  },
                  {
                    "name": "duration",
                    "type": "number"
                  },
                  {
                    "name": "campaign",
                    "type": "number"
                  },
                  {
                    "name": "pdays",
                    "type": "number"
                  },
                  {
                    "name": "previous",
                    "type": "number"
                  },
                  {
                    "name": "poutcome",
                    "type": "string"
                  },
                  {
                    "name": "emp.var.rate",
                    "type": "number"
                  },
                  {
                    "name": "cons.price.idx",
                    "type": "number"
                  },
                  {
                    "name": "cons.conf.idx",
                    "type": "number"
                  },
                  {
                    "name": "euribor3m",
                    "type": "number"
                  },
                  {
                    "name": "nr.employed",
                    "type": "number"
                  },
                  {
                    "name": "y",
                    "type": "string"
                  }
                ],
                "primaryKey": [
                  "index"
                ],
                "pandas_version": "1.4.0"
              },
              "data": [
                {
                  "index": "count",
                  "age": 41188,
                  "job": "41188",
                  "marital": "41188",
                  "education": "41188",
                  "default": "41188",
                  "housing": "41188",
                  "loan": "41188",
                  "contact": "41188",
                  "month": "41188",
                  "day_of_week": "41188",
                  "duration": 41188,
                  "campaign": 41188,
                  "pdays": 41188,
                  "previous": 41188,
                  "poutcome": "41188",
                  "emp.var.rate": 41188,
                  "cons.price.idx": 41188,
                  "cons.conf.idx": 41188,
                  "euribor3m": 41188,
                  "nr.employed": 41188,
                  "y": "41188"
                },
                {
                  "index": "unique",
                  "age": null,
                  "job": "12",
                  "marital": "4",
                  "education": "8",
                  "default": "3",
                  "housing": "3",
                  "loan": "3",
                  "contact": "2",
                  "month": "10",
                  "day_of_week": "5",
                  "duration": null,
                  "campaign": null,
                  "pdays": null,
                  "previous": null,
                  "poutcome": "3",
                  "emp.var.rate": null,
                  "cons.price.idx": null,
                  "cons.conf.idx": null,
                  "euribor3m": null,
                  "nr.employed": null,
                  "y": "2"
                },
                {
                  "index": "top",
                  "age": null,
                  "job": "admin.",
                  "marital": "married",
                  "education": "university.degree",
                  "default": "no",
                  "housing": "yes",
                  "loan": "no",
                  "contact": "cellular",
                  "month": "may",
                  "day_of_week": "thu",
                  "duration": null,
                  "campaign": null,
                  "pdays": null,
                  "previous": null,
                  "poutcome": "nonexistent",
                  "emp.var.rate": null,
                  "cons.price.idx": null,
                  "cons.conf.idx": null,
                  "euribor3m": null,
                  "nr.employed": null,
                  "y": "no"
                },
                {
                  "index": "freq",
                  "age": null,
                  "job": "10422",
                  "marital": "24928",
                  "education": "12168",
                  "default": "32588",
                  "housing": "21576",
                  "loan": "33950",
                  "contact": "26144",
                  "month": "13769",
                  "day_of_week": "8623",
                  "duration": null,
                  "campaign": null,
                  "pdays": null,
                  "previous": null,
                  "poutcome": "35563",
                  "emp.var.rate": null,
                  "cons.price.idx": null,
                  "cons.conf.idx": null,
                  "euribor3m": null,
                  "nr.employed": null,
                  "y": "36548"
                },
                {
                  "index": "mean",
                  "age": 40.02406040594348,
                  "job": "nan",
                  "marital": "nan",
                  "education": "nan",
                  "default": "nan",
                  "housing": "nan",
                  "loan": "nan",
                  "contact": "nan",
                  "month": "nan",
                  "day_of_week": "nan",
                  "duration": 258.2850101971448,
                  "campaign": 2.567592502670681,
                  "pdays": 962.4754540157328,
                  "previous": 0.17296299893172767,
                  "poutcome": "nan",
                  "emp.var.rate": 0.08188550063125165,
                  "cons.price.idx": 93.57566436826262,
                  "cons.conf.idx": -40.50260027192386,
                  "euribor3m": 3.621290812858114,
                  "nr.employed": 5167.035910944936,
                  "y": "nan"
                },
                {
                  "index": "std",
                  "age": 10.421249980934235,
                  "job": "nan",
                  "marital": "nan",
                  "education": "nan",
                  "default": "nan",
                  "housing": "nan",
                  "loan": "nan",
                  "contact": "nan",
                  "month": "nan",
                  "day_of_week": "nan",
                  "duration": 259.2792488364648,
                  "campaign": 2.7700135429021127,
                  "pdays": 186.9109073447436,
                  "previous": 0.4949010798393183,
                  "poutcome": "nan",
                  "emp.var.rate": 1.5709597405172309,
                  "cons.price.idx": 0.5788400489541813,
                  "cons.conf.idx": 4.628197856174375,
                  "euribor3m": 1.7344474048511707,
                  "nr.employed": 72.25152766826527,
                  "y": "nan"
                },
                {
                  "index": "min",
                  "age": 17,
                  "job": "nan",
                  "marital": "nan",
                  "education": "nan",
                  "default": "nan",
                  "housing": "nan",
                  "loan": "nan",
                  "contact": "nan",
                  "month": "nan",
                  "day_of_week": "nan",
                  "duration": 0,
                  "campaign": 1,
                  "pdays": 0,
                  "previous": 0,
                  "poutcome": "nan",
                  "emp.var.rate": -3.4,
                  "cons.price.idx": 92.201,
                  "cons.conf.idx": -50.8,
                  "euribor3m": 0.634,
                  "nr.employed": 4963.6,
                  "y": "nan"
                },
                {
                  "index": "25%",
                  "age": 32,
                  "job": "nan",
                  "marital": "nan",
                  "education": "nan",
                  "default": "nan",
                  "housing": "nan",
                  "loan": "nan",
                  "contact": "nan",
                  "month": "nan",
                  "day_of_week": "nan",
                  "duration": 102,
                  "campaign": 1,
                  "pdays": 999,
                  "previous": 0,
                  "poutcome": "nan",
                  "emp.var.rate": -1.8,
                  "cons.price.idx": 93.075,
                  "cons.conf.idx": -42.7,
                  "euribor3m": 1.344,
                  "nr.employed": 5099.1,
                  "y": "nan"
                },
                {
                  "index": "50%",
                  "age": 38,
                  "job": "nan",
                  "marital": "nan",
                  "education": "nan",
                  "default": "nan",
                  "housing": "nan",
                  "loan": "nan",
                  "contact": "nan",
                  "month": "nan",
                  "day_of_week": "nan",
                  "duration": 180,
                  "campaign": 2,
                  "pdays": 999,
                  "previous": 0,
                  "poutcome": "nan",
                  "emp.var.rate": 1.1,
                  "cons.price.idx": 93.749,
                  "cons.conf.idx": -41.8,
                  "euribor3m": 4.857,
                  "nr.employed": 5191,
                  "y": "nan"
                },
                {
                  "index": "75%",
                  "age": 47,
                  "job": "nan",
                  "marital": "nan",
                  "education": "nan",
                  "default": "nan",
                  "housing": "nan",
                  "loan": "nan",
                  "contact": "nan",
                  "month": "nan",
                  "day_of_week": "nan",
                  "duration": 319,
                  "campaign": 3,
                  "pdays": 999,
                  "previous": 0,
                  "poutcome": "nan",
                  "emp.var.rate": 1.4,
                  "cons.price.idx": 93.994,
                  "cons.conf.idx": -36.4,
                  "euribor3m": 4.961,
                  "nr.employed": 5228.1,
                  "y": "nan"
                },
                {
                  "index": "max",
                  "age": 98,
                  "job": "nan",
                  "marital": "nan",
                  "education": "nan",
                  "default": "nan",
                  "housing": "nan",
                  "loan": "nan",
                  "contact": "nan",
                  "month": "nan",
                  "day_of_week": "nan",
                  "duration": 4918,
                  "campaign": 56,
                  "pdays": 999,
                  "previous": 7,
                  "poutcome": "nan",
                  "emp.var.rate": 1.4,
                  "cons.price.idx": 94.767,
                  "cons.conf.idx": -26.9,
                  "euribor3m": 5.045,
                  "nr.employed": 5228.1,
                  "y": "nan"
                }
              ],
              "datalink": {
                "display_id": "ccc226df-bbf8-4196-8b11-e17af28e594c"
              }
            }
          },
          "metadata": {
            "application/vnd.dataresource+json": {
              "datalink": {
                "dataframe_info": {
                  "default_index_used": false,
                  "orig_size_bytes": 1936,
                  "orig_num_rows": 11,
                  "orig_num_cols": 21,
                  "truncated_string_columns": [],
                  "truncated_size_bytes": 1936,
                  "truncated_num_rows": 11,
                  "truncated_num_cols": 21
                },
                "dx_settings": {
                  "NUM_PAST_SAMPLES_TRACKED": 3,
                  "ENABLE_DATALINK": true,
                  "DISPLAY_MODE": "simple",
                  "GENERATE_DEX_METADATA": false,
                  "STRINGIFY_INDEX_VALUES": false,
                  "ALLOW_NOTEABLE_ATTRS": true,
                  "DISPLAY_MAX_COLUMNS": 100,
                  "HTML_TABLE_SCHEMA": false,
                  "SAMPLING_FACTOR": 0.1,
                  "LOG_LEVEL": 30,
                  "ENABLE_ASSIGNMENT": true,
                  "FLATTEN_INDEX_VALUES": false,
                  "DEV_MODE": false,
                  "COLUMN_SAMPLING_METHOD": "outer",
                  "FLATTEN_COLUMN_VALUES": true,
                  "DISPLAY_MAX_ROWS": 50000,
                  "ROW_SAMPLING_METHOD": "random",
                  "RANDOM_STATE": 12648430,
                  "DB_LOCATION": ":memory:",
                  "STRINGIFY_COLUMN_VALUES": true,
                  "SAMPLING_METHOD": "random",
                  "MAX_STRING_LENGTH": 250,
                  "MAX_RENDER_SIZE_BYTES": 104857600,
                  "RESET_INDEX_VALUES": false
                },
                "display_id": "ccc226df-bbf8-4196-8b11-e17af28e594c",
                "applied_filters": [],
                "sample_history": [],
                "sampling_time": "2023-07-24T11:56:30.861486",
                "variable_name": "unk_dataframe_1a805fa0ac8d4aa1bbb03b47b11fc342",
                "user_variable_name": null
              },
              "display_id": "ccc226df-bbf8-4196-8b11-e17af28e594c"
            }
          }
        }
      ],
      "execution_count": null,
      "metadata": {
        "noteable": {
          "cell_type": "code"
        },
        "ExecuteTime": {
          "end_time": "2023-07-24T11:56:31.022744+00:00",
          "start_time": "2023-07-24T11:56:30.557510+00:00"
        },
        "datalink": {
          "ccc226df-bbf8-4196-8b11-e17af28e594c": {
            "applied_filters": [],
            "dataframe_info": {
              "default_index_used": false,
              "orig_num_cols": 21,
              "orig_num_rows": 11,
              "orig_size_bytes": 1936,
              "truncated_num_cols": 21,
              "truncated_num_rows": 11,
              "truncated_size_bytes": 1936,
              "truncated_string_columns": []
            },
            "display_id": "ccc226df-bbf8-4196-8b11-e17af28e594c",
            "dx_settings": {
              "ALLOW_NOTEABLE_ATTRS": true,
              "COLUMN_SAMPLING_METHOD": "outer",
              "DB_LOCATION": ":memory:",
              "DEV_MODE": false,
              "DISPLAY_MAX_COLUMNS": 100,
              "DISPLAY_MAX_ROWS": 50000,
              "DISPLAY_MODE": "simple",
              "ENABLE_ASSIGNMENT": true,
              "ENABLE_DATALINK": true,
              "FLATTEN_COLUMN_VALUES": true,
              "FLATTEN_INDEX_VALUES": false,
              "GENERATE_DEX_METADATA": false,
              "HTML_TABLE_SCHEMA": false,
              "LOG_LEVEL": 30,
              "MAX_RENDER_SIZE_BYTES": 104857600,
              "MAX_STRING_LENGTH": 250,
              "NUM_PAST_SAMPLES_TRACKED": 3,
              "RANDOM_STATE": 12648430,
              "RESET_INDEX_VALUES": false,
              "ROW_SAMPLING_METHOD": "random",
              "SAMPLING_FACTOR": 0.1,
              "SAMPLING_METHOD": "random",
              "STRINGIFY_COLUMN_VALUES": true,
              "STRINGIFY_INDEX_VALUES": false
            },
            "sample_history": [],
            "sampling_time": "2023-07-24T11:56:30.861486",
            "user_variable_name": null,
            "variable_name": "unk_dataframe_1a805fa0ac8d4aa1bbb03b47b11fc342"
          }
        }
      },
      "id": "b8b916dd-033b-4fce-8913-fc57c9a8d9ce"
    },
    {
      "cell_type": "code",
      "source": [
        "# Import necessary libraries for visualization\n",
        "import matplotlib.pyplot as plt\n",
        "import seaborn as sns\n",
        "\n",
        "# Set the style of the seaborn plot\n",
        "sns.set(style='whitegrid')\n",
        "\n",
        "# Create a countplot of the 'y' column\n",
        "plt.figure(figsize=(8, 6))\n",
        "sns.countplot(x='y', data=data)\n",
        "plt.title('Distribution of Term Deposits')\n",
        "plt.show()"
      ],
      "outputs": [
        {
          "output_type": "display_data",
          "data": {
            "image/png": "[encoded data removed]"
          },
          "metadata": {}
        }
      ],
      "execution_count": null,
      "metadata": {
        "noteable": {
          "cell_type": "code"
        },
        "ExecuteTime": {
          "end_time": "2023-07-24T11:56:56.865578+00:00",
          "start_time": "2023-07-24T11:56:55.637570+00:00"
        }
      },
      "id": "b58bf0f5-32dc-4d74-a099-8c9bb0d48962"
    },
    {
      "cell_type": "code",
      "source": [
        "# Create a countplot of the 'job' column with hue 'y'\n",
        "plt.figure(figsize=(15, 8))\n",
        "sns.countplot(x='job', hue='y', data=data)\n",
        "plt.title('Job Distribution vs Term Deposit Subscription')\n",
        "plt.xticks(rotation=45)\n",
        "plt.show()"
      ],
      "outputs": [
        {
          "output_type": "display_data",
          "data": {
            "image/png": "[encoded data removed]"
          },
          "metadata": {}
        }
      ],
      "execution_count": null,
      "metadata": {
        "noteable": {
          "cell_type": "code"
        },
        "ExecuteTime": {
          "end_time": "2023-07-24T11:57:20.700435+00:00",
          "start_time": "2023-07-24T11:57:19.837196+00:00"
        }
      },
      "id": "7e3b2767-f18d-435b-922c-a24ebca45ddb"
    },
    {
      "cell_type": "code",
      "source": [
        "# Create a countplot of the 'marital' column with hue 'y'\n",
        "plt.figure(figsize=(10, 6))\n",
        "sns.countplot(x='marital', hue='y', data=data)\n",
        "plt.title('Marital Status Distribution vs Term Deposit Subscription')\n",
        "plt.show()"
      ],
      "outputs": [
        {
          "output_type": "display_data",
          "data": {
            "image/png": "[encoded data removed]"
          },
          "metadata": {}
        }
      ],
      "execution_count": null,
      "metadata": {
        "noteable": {
          "cell_type": "code"
        },
        "ExecuteTime": {
          "end_time": "2023-07-24T11:57:47.055734+00:00",
          "start_time": "2023-07-24T11:57:46.436338+00:00"
        }
      },
      "id": "436e4e2f-f5da-4804-9f38-121511a37fa3"
    },
    {
      "cell_type": "code",
      "source": [
        "# Create a countplot of the 'education' column with hue 'y'\n",
        "plt.figure(figsize=(15, 8))\n",
        "sns.countplot(x='education', hue='y', data=data)\n",
        "plt.title('Education Level Distribution vs Term Deposit Subscription')\n",
        "plt.xticks(rotation=45)\n",
        "plt.show()"
      ],
      "outputs": [
        {
          "output_type": "display_data",
          "data": {
            "image/png": "[encoded data removed]"
          },
          "metadata": {}
        }
      ],
      "execution_count": null,
      "metadata": {
        "noteable": {
          "cell_type": "code"
        },
        "ExecuteTime": {
          "end_time": "2023-07-24T11:58:09.859328+00:00",
          "start_time": "2023-07-24T11:58:09.185687+00:00"
        }
      },
      "id": "fba1bad0-ee8c-4e3f-9d17-8b50ab0face4"
    },
    {
      "cell_type": "code",
      "source": [
        "# Create a boxplot of the 'age' column with respect to 'y'\n",
        "plt.figure(figsize=(10, 6))\n",
        "sns.boxplot(x='y', y='age', data=data)\n",
        "plt.title('Age Distribution vs Term Deposit Subscription')\n",
        "plt.show()"
      ],
      "outputs": [
        {
          "output_type": "display_data",
          "data": {
            "image/png": "[encoded data removed]"
          },
          "metadata": {}
        }
      ],
      "execution_count": null,
      "metadata": {
        "noteable": {
          "cell_type": "code"
        },
        "ExecuteTime": {
          "end_time": "2023-07-24T12:04:21.635340+00:00",
          "start_time": "2023-07-24T12:04:21.136329+00:00"
        }
      },
      "id": "7042cd50-2b44-41be-a09b-08f44fcfe59f"
    },
    {
      "cell_type": "code",
      "source": [
        "# Create a boxplot of the 'duration' column with respect to 'y'\n",
        "plt.figure(figsize=(10, 6))\n",
        "sns.boxplot(x='y', y='duration', data=data)\n",
        "plt.title('Last Contact Duration vs Term Deposit Subscription')\n",
        "plt.show()"
      ],
      "outputs": [
        {
          "output_type": "display_data",
          "data": {
            "image/png": "[encoded data removed]"
          },
          "metadata": {}
        }
      ],
      "execution_count": null,
      "metadata": {
        "noteable": {
          "cell_type": "code"
        },
        "ExecuteTime": {
          "end_time": "2023-07-24T12:04:45.985475+00:00",
          "start_time": "2023-07-24T12:04:45.477298+00:00"
        }
      },
      "id": "758e3b9e-6e6a-4790-bff1-ee430179a1f1"
    },
    {
      "cell_type": "code",
      "source": [
        "# Create a boxplot of the 'campaign' column with respect to 'y'\n",
        "plt.figure(figsize=(10, 6))\n",
        "sns.boxplot(x='y', y='campaign', data=data)\n",
        "plt.title('Number of Contacts vs Term Deposit Subscription')\n",
        "plt.show()"
      ],
      "outputs": [
        {
          "output_type": "display_data",
          "data": {
            "image/png": "[encoded data removed]"
          },
          "metadata": {}
        }
      ],
      "execution_count": null,
      "metadata": {
        "noteable": {
          "cell_type": "code"
        },
        "ExecuteTime": {
          "end_time": "2023-07-24T12:05:10.911201+00:00",
          "start_time": "2023-07-24T12:05:10.436134+00:00"
        }
      },
      "id": "bda196cc-ec6e-4b8d-aba6-92e3f97f2884"
    },
    {
      "cell_type": "markdown",
      "source": [
        "**Insight 1 - Distribution of Term Deposits:**\n",
        "The number of clients who have not subscribed to a term deposit is significantly higher than those who have. This indicates that we are dealing with an imbalanced dataset."
      ],
      "metadata": {
        "noteable": {
          "cell_type": "markdown"
        }
      },
      "id": "5a415518-4de2-427d-8b2b-ebcf9139c5b5"
    },
    {
      "cell_type": "markdown",
      "source": [
        "**Insight 2 - Job Distribution vs Term Deposit Subscription:**\n",
        "Clients with different jobs have different rates of term deposit subscription. For example, clients with 'admin' jobs seem to have a higher rate of subscription compared to others."
      ],
      "metadata": {
        "noteable": {
          "cell_type": "markdown"
        }
      },
      "id": "3bf2a1d9-dff3-4530-b73f-ddfaa223a121"
    },
    {
      "cell_type": "markdown",
      "source": [
        "**Insight 3 - Marital Status Distribution vs Term Deposit Subscription:**\n",
        "Marital status also seems to have an impact on term deposit subscription. Married clients seem to have a higher rate of subscription compared to others."
      ],
      "metadata": {
        "noteable": {
          "cell_type": "markdown"
        }
      },
      "id": "ed01b6ee-56eb-41e3-81af-3591c1816ca9"
    },
    {
      "cell_type": "markdown",
      "source": [
        "**Insight 4 - Education Level Distribution vs Term Deposit Subscription:**\n",
        "The level of education also seems to have an impact on term deposit subscription. Clients with a university degree seem to have a higher rate of subscription compared to others."
      ],
      "metadata": {
        "noteable": {
          "cell_type": "markdown"
        }
      },
      "id": "152f0521-7fe9-405f-8ed1-92b455e75f33"
    },
    {
      "cell_type": "markdown",
      "source": [
        "**Insight 5 - Age Distribution vs Term Deposit Subscription:**\n",
        "The age distribution is slightly different for clients who have subscribed to a term deposit compared to those who have not. The median age of clients who have subscribed is slightly higher."
      ],
      "metadata": {
        "noteable": {
          "cell_type": "markdown"
        }
      },
      "id": "8425cc07-81c6-4a88-b2b7-2969e4ccf9c1"
    },
    {
      "cell_type": "markdown",
      "source": [
        "**Insight 6 - Last Contact Duration vs Term Deposit Subscription:**\n",
        "The duration of the last contact is significantly different for clients who have subscribed to a term deposit compared to those who have not. Clients who have subscribed tend to have a longer last contact duration."
      ],
      "metadata": {
        "noteable": {
          "cell_type": "markdown"
        }
      },
      "id": "91bf5543-7513-46e2-82c4-e2b803185211"
    },
    {
      "cell_type": "markdown",
      "source": [
        "**Insight 7 - Number of Contacts vs Term Deposit Subscription:**\n",
        "The number of contacts performed during the campaign is slightly different for clients who have subscribed to a term deposit compared to those who have not. Clients who have not subscribed tend to have a higher number of contacts."
      ],
      "metadata": {
        "noteable": {
          "cell_type": "markdown"
        }
      },
      "id": "9fa2aa27-59cd-4018-be27-86099c970286"
    },
    {
      "cell_type": "code",
      "source": [
        "# Import necessary libraries\n",
        "from sklearn.preprocessing import OneHotEncoder\n",
        "from sklearn.compose import ColumnTransformer\n",
        "\n",
        "# Identify the categorical columns\n",
        "categorical_cols = data.select_dtypes(include=['object']).columns\n",
        "\n",
        "# Instantiate the one-hot encoder\n",
        "encoder = OneHotEncoder(drop='first')\n",
        "\n",
        "# Apply the encoder to the categorical columns\n",
        "data_encoded = pd.DataFrame(encoder.fit_transform(data[categorical_cols]).toarray(),\n",
        "                            columns=encoder.get_feature_names(categorical_cols))\n",
        "\n",
        "# Drop the original categorical columns\n",
        "data.drop(columns=categorical_cols, inplace=True)\n",
        "\n",
        "# Concatenate the original dataframe and the one-hot encoded columns\n",
        "data = pd.concat([data, data_encoded], axis=1)\n",
        "\n",
        "# Display the first few rows of the dataframe\n",
        "data.head()"
      ],
      "outputs": [
        {
          "output_type": "display_data",
          "data": {
            "application/vnd.dataresource+json": {
              "schema": {
                "fields": [
                  {
                    "name": "index",
                    "type": "integer"
                  },
                  {
                    "name": "age",
                    "type": "integer"
                  },
                  {
                    "name": "duration",
                    "type": "integer"
                  },
                  {
                    "name": "campaign",
                    "type": "integer"
                  },
                  {
                    "name": "pdays",
                    "type": "integer"
                  },
                  {
                    "name": "previous",
                    "type": "integer"
                  },
                  {
                    "name": "emp.var.rate",
                    "type": "number"
                  },
                  {
                    "name": "cons.price.idx",
                    "type": "number"
                  },
                  {
                    "name": "cons.conf.idx",
                    "type": "number"
                  },
                  {
                    "name": "euribor3m",
                    "type": "number"
                  },
                  {
                    "name": "nr.employed",
                    "type": "number"
                  },
                  {
                    "name": "job_blue-collar",
                    "type": "number"
                  },
                  {
                    "name": "job_entrepreneur",
                    "type": "number"
                  },
                  {
                    "name": "job_housemaid",
                    "type": "number"
                  },
                  {
                    "name": "job_management",
                    "type": "number"
                  },
                  {
                    "name": "job_retired",
                    "type": "number"
                  },
                  {
                    "name": "job_self-employed",
                    "type": "number"
                  },
                  {
                    "name": "job_services",
                    "type": "number"
                  },
                  {
                    "name": "job_student",
                    "type": "number"
                  },
                  {
                    "name": "job_technician",
                    "type": "number"
                  },
                  {
                    "name": "job_unemployed",
                    "type": "number"
                  },
                  {
                    "name": "job_unknown",
                    "type": "number"
                  },
                  {
                    "name": "marital_married",
                    "type": "number"
                  },
                  {
                    "name": "marital_single",
                    "type": "number"
                  },
                  {
                    "name": "marital_unknown",
                    "type": "number"
                  },
                  {
                    "name": "education_basic.6y",
                    "type": "number"
                  },
                  {
                    "name": "education_basic.9y",
                    "type": "number"
                  },
                  {
                    "name": "education_high.school",
                    "type": "number"
                  },
                  {
                    "name": "education_illiterate",
                    "type": "number"
                  },
                  {
                    "name": "education_professional.course",
                    "type": "number"
                  },
                  {
                    "name": "education_university.degree",
                    "type": "number"
                  },
                  {
                    "name": "education_unknown",
                    "type": "number"
                  },
                  {
                    "name": "default_unknown",
                    "type": "number"
                  },
                  {
                    "name": "default_yes",
                    "type": "number"
                  },
                  {
                    "name": "housing_unknown",
                    "type": "number"
                  },
                  {
                    "name": "housing_yes",
                    "type": "number"
                  },
                  {
                    "name": "loan_unknown",
                    "type": "number"
                  },
                  {
                    "name": "loan_yes",
                    "type": "number"
                  },
                  {
                    "name": "contact_telephone",
                    "type": "number"
                  },
                  {
                    "name": "month_aug",
                    "type": "number"
                  },
                  {
                    "name": "month_dec",
                    "type": "number"
                  },
                  {
                    "name": "month_jul",
                    "type": "number"
                  },
                  {
                    "name": "month_jun",
                    "type": "number"
                  },
                  {
                    "name": "month_mar",
                    "type": "number"
                  },
                  {
                    "name": "month_may",
                    "type": "number"
                  },
                  {
                    "name": "month_nov",
                    "type": "number"
                  },
                  {
                    "name": "month_oct",
                    "type": "number"
                  },
                  {
                    "name": "month_sep",
                    "type": "number"
                  },
                  {
                    "name": "day_of_week_mon",
                    "type": "number"
                  },
                  {
                    "name": "day_of_week_thu",
                    "type": "number"
                  },
                  {
                    "name": "day_of_week_tue",
                    "type": "number"
                  },
                  {
                    "name": "day_of_week_wed",
                    "type": "number"
                  },
                  {
                    "name": "poutcome_nonexistent",
                    "type": "number"
                  },
                  {
                    "name": "poutcome_success",
                    "type": "number"
                  },
                  {
                    "name": "y_yes",
                    "type": "number"
                  }
                ],
                "primaryKey": [
                  "index"
                ],
                "pandas_version": "1.4.0"
              },
              "data": [
                {
                  "index": 0,
                  "age": 56,
                  "duration": 261,
                  "campaign": 1,
                  "pdays": 999,
                  "previous": 0,
                  "emp.var.rate": 1.1,
                  "cons.price.idx": 93.994,
                  "cons.conf.idx": -36.4,
                  "euribor3m": 4.857,
                  "nr.employed": 5191,
                  "job_blue-collar": 0,
                  "job_entrepreneur": 0,
                  "job_housemaid": 1,
                  "job_management": 0,
                  "job_retired": 0,
                  "job_self-employed": 0,
                  "job_services": 0,
                  "job_student": 0,
                  "job_technician": 0,
                  "job_unemployed": 0,
                  "job_unknown": 0,
                  "marital_married": 1,
                  "marital_single": 0,
                  "marital_unknown": 0,
                  "education_basic.6y": 0,
                  "education_basic.9y": 0,
                  "education_high.school": 0,
                  "education_illiterate": 0,
                  "education_professional.course": 0,
                  "education_university.degree": 0,
                  "education_unknown": 0,
                  "default_unknown": 0,
                  "default_yes": 0,
                  "housing_unknown": 0,
                  "housing_yes": 0,
                  "loan_unknown": 0,
                  "loan_yes": 0,
                  "contact_telephone": 1,
                  "month_aug": 0,
                  "month_dec": 0,
                  "month_jul": 0,
                  "month_jun": 0,
                  "month_mar": 0,
                  "month_may": 1,
                  "month_nov": 0,
                  "month_oct": 0,
                  "month_sep": 0,
                  "day_of_week_mon": 1,
                  "day_of_week_thu": 0,
                  "day_of_week_tue": 0,
                  "day_of_week_wed": 0,
                  "poutcome_nonexistent": 1,
                  "poutcome_success": 0,
                  "y_yes": 0
                },
                {
                  "index": 1,
                  "age": 57,
                  "duration": 149,
                  "campaign": 1,
                  "pdays": 999,
                  "previous": 0,
                  "emp.var.rate": 1.1,
                  "cons.price.idx": 93.994,
                  "cons.conf.idx": -36.4,
                  "euribor3m": 4.857,
                  "nr.employed": 5191,
                  "job_blue-collar": 0,
                  "job_entrepreneur": 0,
                  "job_housemaid": 0,
                  "job_management": 0,
                  "job_retired": 0,
                  "job_self-employed": 0,
                  "job_services": 1,
                  "job_student": 0,
                  "job_technician": 0,
                  "job_unemployed": 0,
                  "job_unknown": 0,
                  "marital_married": 1,
                  "marital_single": 0,
                  "marital_unknown": 0,
                  "education_basic.6y": 0,
                  "education_basic.9y": 0,
                  "education_high.school": 1,
                  "education_illiterate": 0,
                  "education_professional.course": 0,
                  "education_university.degree": 0,
                  "education_unknown": 0,
                  "default_unknown": 1,
                  "default_yes": 0,
                  "housing_unknown": 0,
                  "housing_yes": 0,
                  "loan_unknown": 0,
                  "loan_yes": 0,
                  "contact_telephone": 1,
                  "month_aug": 0,
                  "month_dec": 0,
                  "month_jul": 0,
                  "month_jun": 0,
                  "month_mar": 0,
                  "month_may": 1,
                  "month_nov": 0,
                  "month_oct": 0,
                  "month_sep": 0,
                  "day_of_week_mon": 1,
                  "day_of_week_thu": 0,
                  "day_of_week_tue": 0,
                  "day_of_week_wed": 0,
                  "poutcome_nonexistent": 1,
                  "poutcome_success": 0,
                  "y_yes": 0
                },
                {
                  "index": 2,
                  "age": 37,
                  "duration": 226,
                  "campaign": 1,
                  "pdays": 999,
                  "previous": 0,
                  "emp.var.rate": 1.1,
                  "cons.price.idx": 93.994,
                  "cons.conf.idx": -36.4,
                  "euribor3m": 4.857,
                  "nr.employed": 5191,
                  "job_blue-collar": 0,
                  "job_entrepreneur": 0,
                  "job_housemaid": 0,
                  "job_management": 0,
                  "job_retired": 0,
                  "job_self-employed": 0,
                  "job_services": 1,
                  "job_student": 0,
                  "job_technician": 0,
                  "job_unemployed": 0,
                  "job_unknown": 0,
                  "marital_married": 1,
                  "marital_single": 0,
                  "marital_unknown": 0,
                  "education_basic.6y": 0,
                  "education_basic.9y": 0,
                  "education_high.school": 1,
                  "education_illiterate": 0,
                  "education_professional.course": 0,
                  "education_university.degree": 0,
                  "education_unknown": 0,
                  "default_unknown": 0,
                  "default_yes": 0,
                  "housing_unknown": 0,
                  "housing_yes": 1,
                  "loan_unknown": 0,
                  "loan_yes": 0,
                  "contact_telephone": 1,
                  "month_aug": 0,
                  "month_dec": 0,
                  "month_jul": 0,
                  "month_jun": 0,
                  "month_mar": 0,
                  "month_may": 1,
                  "month_nov": 0,
                  "month_oct": 0,
                  "month_sep": 0,
                  "day_of_week_mon": 1,
                  "day_of_week_thu": 0,
                  "day_of_week_tue": 0,
                  "day_of_week_wed": 0,
                  "poutcome_nonexistent": 1,
                  "poutcome_success": 0,
                  "y_yes": 0
                },
                {
                  "index": 3,
                  "age": 40,
                  "duration": 151,
                  "campaign": 1,
                  "pdays": 999,
                  "previous": 0,
                  "emp.var.rate": 1.1,
                  "cons.price.idx": 93.994,
                  "cons.conf.idx": -36.4,
                  "euribor3m": 4.857,
                  "nr.employed": 5191,
                  "job_blue-collar": 0,
                  "job_entrepreneur": 0,
                  "job_housemaid": 0,
                  "job_management": 0,
                  "job_retired": 0,
                  "job_self-employed": 0,
                  "job_services": 0,
                  "job_student": 0,
                  "job_technician": 0,
                  "job_unemployed": 0,
                  "job_unknown": 0,
                  "marital_married": 1,
                  "marital_single": 0,
                  "marital_unknown": 0,
                  "education_basic.6y": 1,
                  "education_basic.9y": 0,
                  "education_high.school": 0,
                  "education_illiterate": 0,
                  "education_professional.course": 0,
                  "education_university.degree": 0,
                  "education_unknown": 0,
                  "default_unknown": 0,
                  "default_yes": 0,
                  "housing_unknown": 0,
                  "housing_yes": 0,
                  "loan_unknown": 0,
                  "loan_yes": 0,
                  "contact_telephone": 1,
                  "month_aug": 0,
                  "month_dec": 0,
                  "month_jul": 0,
                  "month_jun": 0,
                  "month_mar": 0,
                  "month_may": 1,
                  "month_nov": 0,
                  "month_oct": 0,
                  "month_sep": 0,
                  "day_of_week_mon": 1,
                  "day_of_week_thu": 0,
                  "day_of_week_tue": 0,
                  "day_of_week_wed": 0,
                  "poutcome_nonexistent": 1,
                  "poutcome_success": 0,
                  "y_yes": 0
                },
                {
                  "index": 4,
                  "age": 56,
                  "duration": 307,
                  "campaign": 1,
                  "pdays": 999,
                  "previous": 0,
                  "emp.var.rate": 1.1,
                  "cons.price.idx": 93.994,
                  "cons.conf.idx": -36.4,
                  "euribor3m": 4.857,
                  "nr.employed": 5191,
                  "job_blue-collar": 0,
                  "job_entrepreneur": 0,
                  "job_housemaid": 0,
                  "job_management": 0,
                  "job_retired": 0,
                  "job_self-employed": 0,
                  "job_services": 1,
                  "job_student": 0,
                  "job_technician": 0,
                  "job_unemployed": 0,
                  "job_unknown": 0,
                  "marital_married": 1,
                  "marital_single": 0,
                  "marital_unknown": 0,
                  "education_basic.6y": 0,
                  "education_basic.9y": 0,
                  "education_high.school": 1,
                  "education_illiterate": 0,
                  "education_professional.course": 0,
                  "education_university.degree": 0,
                  "education_unknown": 0,
                  "default_unknown": 0,
                  "default_yes": 0,
                  "housing_unknown": 0,
                  "housing_yes": 0,
                  "loan_unknown": 0,
                  "loan_yes": 1,
                  "contact_telephone": 1,
                  "month_aug": 0,
                  "month_dec": 0,
                  "month_jul": 0,
                  "month_jun": 0,
                  "month_mar": 0,
                  "month_may": 1,
                  "month_nov": 0,
                  "month_oct": 0,
                  "month_sep": 0,
                  "day_of_week_mon": 1,
                  "day_of_week_thu": 0,
                  "day_of_week_tue": 0,
                  "day_of_week_wed": 0,
                  "poutcome_nonexistent": 1,
                  "poutcome_success": 0,
                  "y_yes": 0
                }
              ],
              "datalink": {
                "display_id": "720aef1c-d230-4542-bd52-76f3eadae4b9"
              }
            }
          },
          "metadata": {
            "application/vnd.dataresource+json": {
              "datalink": {
                "dataframe_info": {
                  "default_index_used": true,
                  "orig_size_bytes": 2200,
                  "orig_num_rows": 5,
                  "orig_num_cols": 54,
                  "truncated_string_columns": [],
                  "truncated_size_bytes": 2200,
                  "truncated_num_rows": 5,
                  "truncated_num_cols": 54
                },
                "dx_settings": {
                  "NUM_PAST_SAMPLES_TRACKED": 3,
                  "ENABLE_DATALINK": true,
                  "DISPLAY_MODE": "simple",
                  "GENERATE_DEX_METADATA": false,
                  "STRINGIFY_INDEX_VALUES": false,
                  "ALLOW_NOTEABLE_ATTRS": true,
                  "DISPLAY_MAX_COLUMNS": 100,
                  "HTML_TABLE_SCHEMA": false,
                  "SAMPLING_FACTOR": 0.1,
                  "LOG_LEVEL": 30,
                  "ENABLE_ASSIGNMENT": true,
                  "FLATTEN_INDEX_VALUES": false,
                  "DEV_MODE": false,
                  "COLUMN_SAMPLING_METHOD": "outer",
                  "FLATTEN_COLUMN_VALUES": true,
                  "DISPLAY_MAX_ROWS": 50000,
                  "ROW_SAMPLING_METHOD": "random",
                  "RANDOM_STATE": 12648430,
                  "DB_LOCATION": ":memory:",
                  "STRINGIFY_COLUMN_VALUES": true,
                  "SAMPLING_METHOD": "random",
                  "MAX_STRING_LENGTH": 250,
                  "MAX_RENDER_SIZE_BYTES": 104857600,
                  "RESET_INDEX_VALUES": false
                },
                "display_id": "720aef1c-d230-4542-bd52-76f3eadae4b9",
                "applied_filters": [],
                "sample_history": [],
                "sampling_time": "2023-07-24T12:13:11.103640",
                "variable_name": "unk_dataframe_56b8f32773f54ff18af9aa733043d9a3",
                "user_variable_name": null
              },
              "display_id": "720aef1c-d230-4542-bd52-76f3eadae4b9"
            }
          }
        }
      ],
      "execution_count": null,
      "metadata": {
        "noteable": {
          "cell_type": "code"
        },
        "ExecuteTime": {
          "end_time": "2023-07-24T12:13:11.269729+00:00",
          "start_time": "2023-07-24T12:13:10.636717+00:00"
        },
        "datalink": {
          "720aef1c-d230-4542-bd52-76f3eadae4b9": {
            "applied_filters": [],
            "dataframe_info": {
              "default_index_used": true,
              "orig_num_cols": 54,
              "orig_num_rows": 5,
              "orig_size_bytes": 2200,
              "truncated_num_cols": 54,
              "truncated_num_rows": 5,
              "truncated_size_bytes": 2200,
              "truncated_string_columns": []
            },
            "display_id": "720aef1c-d230-4542-bd52-76f3eadae4b9",
            "dx_settings": {
              "ALLOW_NOTEABLE_ATTRS": true,
              "COLUMN_SAMPLING_METHOD": "outer",
              "DB_LOCATION": ":memory:",
              "DEV_MODE": false,
              "DISPLAY_MAX_COLUMNS": 100,
              "DISPLAY_MAX_ROWS": 50000,
              "DISPLAY_MODE": "simple",
              "ENABLE_ASSIGNMENT": true,
              "ENABLE_DATALINK": true,
              "FLATTEN_COLUMN_VALUES": true,
              "FLATTEN_INDEX_VALUES": false,
              "GENERATE_DEX_METADATA": false,
              "HTML_TABLE_SCHEMA": false,
              "LOG_LEVEL": 30,
              "MAX_RENDER_SIZE_BYTES": 104857600,
              "MAX_STRING_LENGTH": 250,
              "NUM_PAST_SAMPLES_TRACKED": 3,
              "RANDOM_STATE": 12648430,
              "RESET_INDEX_VALUES": false,
              "ROW_SAMPLING_METHOD": "random",
              "SAMPLING_FACTOR": 0.1,
              "SAMPLING_METHOD": "random",
              "STRINGIFY_COLUMN_VALUES": true,
              "STRINGIFY_INDEX_VALUES": false
            },
            "sample_history": [],
            "sampling_time": "2023-07-24T12:13:11.103640",
            "user_variable_name": null,
            "variable_name": "unk_dataframe_56b8f32773f54ff18af9aa733043d9a3"
          }
        }
      },
      "id": "c0dd6f73-81fd-43ce-86b9-d5c49e538aff"
    },
    {
      "cell_type": "code",
      "source": [
        "# Import necessary libraries\n",
        "from sklearn.preprocessing import StandardScaler\n",
        "\n",
        "# Identify the numerical columns\n",
        "numerical_cols = data.select_dtypes(include=['int64', 'float64']).columns\n",
        "\n",
        "# Instantiate the scaler\n",
        "scaler = StandardScaler()\n",
        "\n",
        "# Apply the scaler to the numerical columns\n",
        "data[numerical_cols] = scaler.fit_transform(data[numerical_cols])\n",
        "\n",
        "# Display the first few rows of the dataframe\n",
        "data.head()"
      ],
      "outputs": [
        {
          "output_type": "display_data",
          "data": {
            "application/vnd.dataresource+json": {
              "schema": {
                "fields": [
                  {
                    "name": "index",
                    "type": "integer"
                  },
                  {
                    "name": "age",
                    "type": "number"
                  },
                  {
                    "name": "duration",
                    "type": "number"
                  },
                  {
                    "name": "campaign",
                    "type": "number"
                  },
                  {
                    "name": "pdays",
                    "type": "number"
                  },
                  {
                    "name": "previous",
                    "type": "number"
                  },
                  {
                    "name": "emp.var.rate",
                    "type": "number"
                  },
                  {
                    "name": "cons.price.idx",
                    "type": "number"
                  },
                  {
                    "name": "cons.conf.idx",
                    "type": "number"
                  },
                  {
                    "name": "euribor3m",
                    "type": "number"
                  },
                  {
                    "name": "nr.employed",
                    "type": "number"
                  },
                  {
                    "name": "job_blue-collar",
                    "type": "number"
                  },
                  {
                    "name": "job_entrepreneur",
                    "type": "number"
                  },
                  {
                    "name": "job_housemaid",
                    "type": "number"
                  },
                  {
                    "name": "job_management",
                    "type": "number"
                  },
                  {
                    "name": "job_retired",
                    "type": "number"
                  },
                  {
                    "name": "job_self-employed",
                    "type": "number"
                  },
                  {
                    "name": "job_services",
                    "type": "number"
                  },
                  {
                    "name": "job_student",
                    "type": "number"
                  },
                  {
                    "name": "job_technician",
                    "type": "number"
                  },
                  {
                    "name": "job_unemployed",
                    "type": "number"
                  },
                  {
                    "name": "job_unknown",
                    "type": "number"
                  },
                  {
                    "name": "marital_married",
                    "type": "number"
                  },
                  {
                    "name": "marital_single",
                    "type": "number"
                  },
                  {
                    "name": "marital_unknown",
                    "type": "number"
                  },
                  {
                    "name": "education_basic.6y",
                    "type": "number"
                  },
                  {
                    "name": "education_basic.9y",
                    "type": "number"
                  },
                  {
                    "name": "education_high.school",
                    "type": "number"
                  },
                  {
                    "name": "education_illiterate",
                    "type": "number"
                  },
                  {
                    "name": "education_professional.course",
                    "type": "number"
                  },
                  {
                    "name": "education_university.degree",
                    "type": "number"
                  },
                  {
                    "name": "education_unknown",
                    "type": "number"
                  },
                  {
                    "name": "default_unknown",
                    "type": "number"
                  },
                  {
                    "name": "default_yes",
                    "type": "number"
                  },
                  {
                    "name": "housing_unknown",
                    "type": "number"
                  },
                  {
                    "name": "housing_yes",
                    "type": "number"
                  },
                  {
                    "name": "loan_unknown",
                    "type": "number"
                  },
                  {
                    "name": "loan_yes",
                    "type": "number"
                  },
                  {
                    "name": "contact_telephone",
                    "type": "number"
                  },
                  {
                    "name": "month_aug",
                    "type": "number"
                  },
                  {
                    "name": "month_dec",
                    "type": "number"
                  },
                  {
                    "name": "month_jul",
                    "type": "number"
                  },
                  {
                    "name": "month_jun",
                    "type": "number"
                  },
                  {
                    "name": "month_mar",
                    "type": "number"
                  },
                  {
                    "name": "month_may",
                    "type": "number"
                  },
                  {
                    "name": "month_nov",
                    "type": "number"
                  },
                  {
                    "name": "month_oct",
                    "type": "number"
                  },
                  {
                    "name": "month_sep",
                    "type": "number"
                  },
                  {
                    "name": "day_of_week_mon",
                    "type": "number"
                  },
                  {
                    "name": "day_of_week_thu",
                    "type": "number"
                  },
                  {
                    "name": "day_of_week_tue",
                    "type": "number"
                  },
                  {
                    "name": "day_of_week_wed",
                    "type": "number"
                  },
                  {
                    "name": "poutcome_nonexistent",
                    "type": "number"
                  },
                  {
                    "name": "poutcome_success",
                    "type": "number"
                  },
                  {
                    "name": "y_yes",
                    "type": "number"
                  }
                ],
                "primaryKey": [
                  "index"
                ],
                "pandas_version": "1.4.0"
              },
              "data": [
                {
                  "index": 0,
                  "age": 1.533034287255948,
                  "duration": 0.010471423278739693,
                  "campaign": -0.5659219741930245,
                  "pdays": 0.1954139001271294,
                  "previous": -0.34949428419757467,
                  "emp.var.rate": 0.6480922665892298,
                  "cons.price.idx": 0.7227224704883503,
                  "cons.conf.idx": 0.8864465616355264,
                  "euribor3m": 0.7124598790361739,
                  "nr.employed": 0.3316799069141756,
                  "job_blue-collar": -0.5383169901997769,
                  "job_entrepreneur": -0.19143020926075913,
                  "job_housemaid": 6.152772039787019,
                  "job_management": -0.2764352998726475,
                  "job_retired": -0.2087572963922461,
                  "job_self-employed": -0.18903212841462297,
                  "job_services": -0.32655639970639744,
                  "job_student": -0.14732670207853607,
                  "job_technician": -0.44244927244573823,
                  "job_unemployed": -0.15887166238124772,
                  "job_unknown": -0.08987076073194847,
                  "marital_married": 0.8076376429187203,
                  "marital_single": -0.6249375390801222,
                  "marital_unknown": -0.044114546556267994,
                  "education_basic.6y": -0.24274753912222705,
                  "education_basic.9y": -0.4147426863589376,
                  "education_high.school": -0.5480999922370262,
                  "education_illiterate": -0.02090960453516175,
                  "education_professional.course": -0.38191849026134533,
                  "education_university.degree": -0.64753149462133,
                  "education_unknown": -0.20945296038970745,
                  "default_unknown": -0.5135995330780768,
                  "default_yes": -0.008534755658243937,
                  "housing_unknown": -0.15693339654069333,
                  "housing_yes": -1.0488769087613745,
                  "loan_unknown": -0.15693339654069333,
                  "loan_yes": -0.4228721269111673,
                  "contact_telephone": 1.3182699579370942,
                  "month_aug": -0.4200760258172777,
                  "month_dec": -0.06662112932073393,
                  "month_jul": -0.45925282079419,
                  "month_jun": -0.38504233128009924,
                  "month_mar": -0.11590676524438877,
                  "month_may": 1.4111546325797704,
                  "month_nov": -0.3325324503062017,
                  "month_oct": -0.13319736086328401,
                  "month_sep": -0.1184617544057203,
                  "day_of_week_mon": 1.9589995193335001,
                  "day_of_week_thu": -0.5145808876582869,
                  "day_of_week_tue": -0.4943942202879012,
                  "day_of_week_wed": -0.4960666977057004,
                  "poutcome_nonexistent": 0.3977059317567977,
                  "poutcome_success": -0.1857000020727258,
                  "y_yes": -0.3563093198329269
                },
                {
                  "index": 1,
                  "age": 1.628993230905577,
                  "duration": -0.4215005148793629,
                  "campaign": -0.5659219741930245,
                  "pdays": 0.1954139001271294,
                  "previous": -0.34949428419757467,
                  "emp.var.rate": 0.6480922665892298,
                  "cons.price.idx": 0.7227224704883503,
                  "cons.conf.idx": 0.8864465616355264,
                  "euribor3m": 0.7124598790361739,
                  "nr.employed": 0.3316799069141756,
                  "job_blue-collar": -0.5383169901997769,
                  "job_entrepreneur": -0.19143020926075913,
                  "job_housemaid": -0.16252836827587322,
                  "job_management": -0.2764352998726475,
                  "job_retired": -0.2087572963922461,
                  "job_self-employed": -0.18903212841462297,
                  "job_services": 3.062258160915195,
                  "job_student": -0.14732670207853607,
                  "job_technician": -0.44244927244573823,
                  "job_unemployed": -0.15887166238124772,
                  "job_unknown": -0.08987076073194847,
                  "marital_married": 0.8076376429187203,
                  "marital_single": -0.6249375390801222,
                  "marital_unknown": -0.044114546556267994,
                  "education_basic.6y": -0.24274753912222705,
                  "education_basic.9y": -0.4147426863589376,
                  "education_high.school": 1.824484608946225,
                  "education_illiterate": -0.02090960453516175,
                  "education_professional.course": -0.38191849026134533,
                  "education_university.degree": -0.64753149462133,
                  "education_unknown": -0.20945296038970745,
                  "default_unknown": 1.9470422685294406,
                  "default_yes": -0.008534755658243937,
                  "housing_unknown": -0.15693339654069333,
                  "housing_yes": -1.0488769087613745,
                  "loan_unknown": -0.15693339654069333,
                  "loan_yes": -0.4228721269111673,
                  "contact_telephone": 1.3182699579370942,
                  "month_aug": -0.4200760258172777,
                  "month_dec": -0.06662112932073393,
                  "month_jul": -0.45925282079419,
                  "month_jun": -0.38504233128009924,
                  "month_mar": -0.11590676524438877,
                  "month_may": 1.4111546325797704,
                  "month_nov": -0.3325324503062017,
                  "month_oct": -0.13319736086328401,
                  "month_sep": -0.1184617544057203,
                  "day_of_week_mon": 1.9589995193335001,
                  "day_of_week_thu": -0.5145808876582869,
                  "day_of_week_tue": -0.4943942202879012,
                  "day_of_week_wed": -0.4960666977057004,
                  "poutcome_nonexistent": 0.3977059317567977,
                  "poutcome_success": -0.1857000020727258,
                  "y_yes": -0.3563093198329269
                },
                {
                  "index": 2,
                  "age": -0.2901856420870049,
                  "duration": -0.12451980739566737,
                  "campaign": -0.5659219741930245,
                  "pdays": 0.1954139001271294,
                  "previous": -0.34949428419757467,
                  "emp.var.rate": 0.6480922665892298,
                  "cons.price.idx": 0.7227224704883503,
                  "cons.conf.idx": 0.8864465616355264,
                  "euribor3m": 0.7124598790361739,
                  "nr.employed": 0.3316799069141756,
                  "job_blue-collar": -0.5383169901997769,
                  "job_entrepreneur": -0.19143020926075913,
                  "job_housemaid": -0.16252836827587322,
                  "job_management": -0.2764352998726475,
                  "job_retired": -0.2087572963922461,
                  "job_self-employed": -0.18903212841462297,
                  "job_services": 3.062258160915195,
                  "job_student": -0.14732670207853607,
                  "job_technician": -0.44244927244573823,
                  "job_unemployed": -0.15887166238124772,
                  "job_unknown": -0.08987076073194847,
                  "marital_married": 0.8076376429187203,
                  "marital_single": -0.6249375390801222,
                  "marital_unknown": -0.044114546556267994,
                  "education_basic.6y": -0.24274753912222705,
                  "education_basic.9y": -0.4147426863589376,
                  "education_high.school": 1.824484608946225,
                  "education_illiterate": -0.02090960453516175,
                  "education_professional.course": -0.38191849026134533,
                  "education_university.degree": -0.64753149462133,
                  "education_unknown": -0.20945296038970745,
                  "default_unknown": -0.5135995330780768,
                  "default_yes": -0.008534755658243937,
                  "housing_unknown": -0.15693339654069333,
                  "housing_yes": 0.9534007199957396,
                  "loan_unknown": -0.15693339654069333,
                  "loan_yes": -0.4228721269111673,
                  "contact_telephone": 1.3182699579370942,
                  "month_aug": -0.4200760258172777,
                  "month_dec": -0.06662112932073393,
                  "month_jul": -0.45925282079419,
                  "month_jun": -0.38504233128009924,
                  "month_mar": -0.11590676524438877,
                  "month_may": 1.4111546325797704,
                  "month_nov": -0.3325324503062017,
                  "month_oct": -0.13319736086328401,
                  "month_sep": -0.1184617544057203,
                  "day_of_week_mon": 1.9589995193335001,
                  "day_of_week_thu": -0.5145808876582869,
                  "day_of_week_tue": -0.4943942202879012,
                  "day_of_week_wed": -0.4960666977057004,
                  "poutcome_nonexistent": 0.3977059317567977,
                  "poutcome_success": -0.1857000020727258,
                  "y_yes": -0.3563093198329269
                },
                {
                  "index": 3,
                  "age": -0.002308811138117611,
                  "duration": -0.4137867302693968,
                  "campaign": -0.5659219741930245,
                  "pdays": 0.1954139001271294,
                  "previous": -0.34949428419757467,
                  "emp.var.rate": 0.6480922665892298,
                  "cons.price.idx": 0.7227224704883503,
                  "cons.conf.idx": 0.8864465616355264,
                  "euribor3m": 0.7124598790361739,
                  "nr.employed": 0.3316799069141756,
                  "job_blue-collar": -0.5383169901997769,
                  "job_entrepreneur": -0.19143020926075913,
                  "job_housemaid": -0.16252836827587322,
                  "job_management": -0.2764352998726475,
                  "job_retired": -0.2087572963922461,
                  "job_self-employed": -0.18903212841462297,
                  "job_services": -0.32655639970639744,
                  "job_student": -0.14732670207853607,
                  "job_technician": -0.44244927244573823,
                  "job_unemployed": -0.15887166238124772,
                  "job_unknown": -0.08987076073194847,
                  "marital_married": 0.8076376429187203,
                  "marital_single": -0.6249375390801222,
                  "marital_unknown": -0.044114546556267994,
                  "education_basic.6y": 4.119506231107392,
                  "education_basic.9y": -0.4147426863589376,
                  "education_high.school": -0.5480999922370262,
                  "education_illiterate": -0.02090960453516175,
                  "education_professional.course": -0.38191849026134533,
                  "education_university.degree": -0.64753149462133,
                  "education_unknown": -0.20945296038970745,
                  "default_unknown": -0.5135995330780768,
                  "default_yes": -0.008534755658243937,
                  "housing_unknown": -0.15693339654069333,
                  "housing_yes": -1.0488769087613745,
                  "loan_unknown": -0.15693339654069333,
                  "loan_yes": -0.4228721269111673,
                  "contact_telephone": 1.3182699579370942,
                  "month_aug": -0.4200760258172777,
                  "month_dec": -0.06662112932073393,
                  "month_jul": -0.45925282079419,
                  "month_jun": -0.38504233128009924,
                  "month_mar": -0.11590676524438877,
                  "month_may": 1.4111546325797704,
                  "month_nov": -0.3325324503062017,
                  "month_oct": -0.13319736086328401,
                  "month_sep": -0.1184617544057203,
                  "day_of_week_mon": 1.9589995193335001,
                  "day_of_week_thu": -0.5145808876582869,
                  "day_of_week_tue": -0.4943942202879012,
                  "day_of_week_wed": -0.4960666977057004,
                  "poutcome_nonexistent": 0.3977059317567977,
                  "poutcome_success": -0.1857000020727258,
                  "y_yes": -0.3563093198329269
                },
                {
                  "index": 4,
                  "age": 1.533034287255948,
                  "duration": 0.1878884693079604,
                  "campaign": -0.5659219741930245,
                  "pdays": 0.1954139001271294,
                  "previous": -0.34949428419757467,
                  "emp.var.rate": 0.6480922665892298,
                  "cons.price.idx": 0.7227224704883503,
                  "cons.conf.idx": 0.8864465616355264,
                  "euribor3m": 0.7124598790361739,
                  "nr.employed": 0.3316799069141756,
                  "job_blue-collar": -0.5383169901997769,
                  "job_entrepreneur": -0.19143020926075913,
                  "job_housemaid": -0.16252836827587322,
                  "job_management": -0.2764352998726475,
                  "job_retired": -0.2087572963922461,
                  "job_self-employed": -0.18903212841462297,
                  "job_services": 3.062258160915195,
                  "job_student": -0.14732670207853607,
                  "job_technician": -0.44244927244573823,
                  "job_unemployed": -0.15887166238124772,
                  "job_unknown": -0.08987076073194847,
                  "marital_married": 0.8076376429187203,
                  "marital_single": -0.6249375390801222,
                  "marital_unknown": -0.044114546556267994,
                  "education_basic.6y": -0.24274753912222705,
                  "education_basic.9y": -0.4147426863589376,
                  "education_high.school": 1.824484608946225,
                  "education_illiterate": -0.02090960453516175,
                  "education_professional.course": -0.38191849026134533,
                  "education_university.degree": -0.64753149462133,
                  "education_unknown": -0.20945296038970745,
                  "default_unknown": -0.5135995330780768,
                  "default_yes": -0.008534755658243937,
                  "housing_unknown": -0.15693339654069333,
                  "housing_yes": -1.0488769087613745,
                  "loan_unknown": -0.15693339654069333,
                  "loan_yes": 2.364781068226022,
                  "contact_telephone": 1.3182699579370942,
                  "month_aug": -0.4200760258172777,
                  "month_dec": -0.06662112932073393,
                  "month_jul": -0.45925282079419,
                  "month_jun": -0.38504233128009924,
                  "month_mar": -0.11590676524438877,
                  "month_may": 1.4111546325797704,
                  "month_nov": -0.3325324503062017,
                  "month_oct": -0.13319736086328401,
                  "month_sep": -0.1184617544057203,
                  "day_of_week_mon": 1.9589995193335001,
                  "day_of_week_thu": -0.5145808876582869,
                  "day_of_week_tue": -0.4943942202879012,
                  "day_of_week_wed": -0.4960666977057004,
                  "poutcome_nonexistent": 0.3977059317567977,
                  "poutcome_success": -0.1857000020727258,
                  "y_yes": -0.3563093198329269
                }
              ],
              "datalink": {
                "display_id": "e126909f-0dc4-4e25-83d3-595fcf2fc5ae"
              }
            }
          },
          "metadata": {
            "application/vnd.dataresource+json": {
              "datalink": {
                "dataframe_info": {
                  "default_index_used": true,
                  "orig_size_bytes": 2200,
                  "orig_num_rows": 5,
                  "orig_num_cols": 54,
                  "truncated_string_columns": [],
                  "truncated_size_bytes": 2200,
                  "truncated_num_rows": 5,
                  "truncated_num_cols": 54
                },
                "dx_settings": {
                  "NUM_PAST_SAMPLES_TRACKED": 3,
                  "ENABLE_DATALINK": true,
                  "DISPLAY_MODE": "simple",
                  "GENERATE_DEX_METADATA": false,
                  "STRINGIFY_INDEX_VALUES": false,
                  "ALLOW_NOTEABLE_ATTRS": true,
                  "DISPLAY_MAX_COLUMNS": 100,
                  "HTML_TABLE_SCHEMA": false,
                  "SAMPLING_FACTOR": 0.1,
                  "LOG_LEVEL": 30,
                  "ENABLE_ASSIGNMENT": true,
                  "FLATTEN_INDEX_VALUES": false,
                  "DEV_MODE": false,
                  "COLUMN_SAMPLING_METHOD": "outer",
                  "FLATTEN_COLUMN_VALUES": true,
                  "DISPLAY_MAX_ROWS": 50000,
                  "ROW_SAMPLING_METHOD": "random",
                  "RANDOM_STATE": 12648430,
                  "DB_LOCATION": ":memory:",
                  "STRINGIFY_COLUMN_VALUES": true,
                  "SAMPLING_METHOD": "random",
                  "MAX_STRING_LENGTH": 250,
                  "MAX_RENDER_SIZE_BYTES": 104857600,
                  "RESET_INDEX_VALUES": false
                },
                "display_id": "e126909f-0dc4-4e25-83d3-595fcf2fc5ae",
                "applied_filters": [],
                "sample_history": [],
                "sampling_time": "2023-07-24T12:13:38.772840",
                "variable_name": "unk_dataframe_1fb55cf77bd244079d536b0359cda6b6",
                "user_variable_name": null
              },
              "display_id": "e126909f-0dc4-4e25-83d3-595fcf2fc5ae"
            }
          }
        }
      ],
      "execution_count": null,
      "metadata": {
        "noteable": {
          "cell_type": "code"
        },
        "ExecuteTime": {
          "end_time": "2023-07-24T12:13:38.938733+00:00",
          "start_time": "2023-07-24T12:13:38.452176+00:00"
        },
        "datalink": {
          "e126909f-0dc4-4e25-83d3-595fcf2fc5ae": {
            "applied_filters": [],
            "dataframe_info": {
              "default_index_used": true,
              "orig_num_cols": 54,
              "orig_num_rows": 5,
              "orig_size_bytes": 2200,
              "truncated_num_cols": 54,
              "truncated_num_rows": 5,
              "truncated_size_bytes": 2200,
              "truncated_string_columns": []
            },
            "display_id": "e126909f-0dc4-4e25-83d3-595fcf2fc5ae",
            "dx_settings": {
              "ALLOW_NOTEABLE_ATTRS": true,
              "COLUMN_SAMPLING_METHOD": "outer",
              "DB_LOCATION": ":memory:",
              "DEV_MODE": false,
              "DISPLAY_MAX_COLUMNS": 100,
              "DISPLAY_MAX_ROWS": 50000,
              "DISPLAY_MODE": "simple",
              "ENABLE_ASSIGNMENT": true,
              "ENABLE_DATALINK": true,
              "FLATTEN_COLUMN_VALUES": true,
              "FLATTEN_INDEX_VALUES": false,
              "GENERATE_DEX_METADATA": false,
              "HTML_TABLE_SCHEMA": false,
              "LOG_LEVEL": 30,
              "MAX_RENDER_SIZE_BYTES": 104857600,
              "MAX_STRING_LENGTH": 250,
              "NUM_PAST_SAMPLES_TRACKED": 3,
              "RANDOM_STATE": 12648430,
              "RESET_INDEX_VALUES": false,
              "ROW_SAMPLING_METHOD": "random",
              "SAMPLING_FACTOR": 0.1,
              "SAMPLING_METHOD": "random",
              "STRINGIFY_COLUMN_VALUES": true,
              "STRINGIFY_INDEX_VALUES": false
            },
            "sample_history": [],
            "sampling_time": "2023-07-24T12:13:38.772840",
            "user_variable_name": null,
            "variable_name": "unk_dataframe_1fb55cf77bd244079d536b0359cda6b6"
          }
        }
      },
      "id": "7a114c6e-0fd7-4683-adfb-c6a595ebdf41"
    },
    {
      "cell_type": "code",
      "source": [
        "# Import necessary libraries\n",
        "from sklearn.model_selection import train_test_split\n",
        "\n",
        "# Separate the features (X) and the target variable (y)\n",
        "X = data.drop(columns='y_yes')\n",
        "y = data['y_yes']\n",
        "\n",
        "# Split the data into training and test sets\n",
        "X_train, X_test, y_train, y_test = train_test_split(X, y, test_size=0.2, random_state=42)\n",
        "\n",
        "# Display the shapes of the training and test sets\n",
        "X_train.shape, X_test.shape, y_train.shape, y_test.shape"
      ],
      "outputs": [
        {
          "output_type": "execute_result",
          "execution_count": null,
          "data": {
            "text/plain": "((32950, 53), (8238, 53), (32950,), (8238,))"
          },
          "metadata": {}
        }
      ],
      "execution_count": null,
      "metadata": {
        "noteable": {
          "cell_type": "code"
        },
        "ExecuteTime": {
          "end_time": "2023-07-24T12:14:06.252071+00:00",
          "start_time": "2023-07-24T12:14:06.036398+00:00"
        }
      },
      "id": "b85ba4dd-e2ab-4e67-a291-add6aa7515ab"
    },
    {
      "cell_type": "code",
      "source": [
        "# Import necessary libraries\n",
        "from sklearn.ensemble import RandomForestClassifier\n",
        "\n",
        "# Instantiate the classifier\n",
        "clf = RandomForestClassifier(random_state=42)\n",
        "\n",
        "# Fit the classifier to the training data\n",
        "clf.fit(X_train, y_train)\n",
        "\n",
        "# Get the feature importances\n",
        "importances = clf.feature_importances_\n",
        "\n",
        "# Create a dataframe of the features and their respective importances\n",
        "feature_importances = pd.DataFrame({'Feature': X.columns, 'Importance': importances})\n",
        "\n",
        "# Sort the dataframe by importance\n",
        "feature_importances.sort_values(by='Importance', ascending=False, inplace=True)\n",
        "\n",
        "# Display the feature importances\n",
        "feature_importances"
      ],
      "outputs": [
        {
          "output_type": "error",
          "ename": "ValueError",
          "evalue": "Unknown label type: 'continuous'",
          "traceback": [
            "\u001b[0;31m---------------------------------------------------------------------------\u001b[0m",
            "\u001b[0;31mValueError\u001b[0m                                Traceback (most recent call last)",
            "Cell \u001b[0;32mIn[16], line 8\u001b[0m\n\u001b[1;32m      5\u001b[0m clf \u001b[38;5;241m=\u001b[39m RandomForestClassifier(random_state\u001b[38;5;241m=\u001b[39m\u001b[38;5;241m42\u001b[39m)\n\u001b[1;32m      7\u001b[0m \u001b[38;5;66;03m# Fit the classifier to the training data\u001b[39;00m\n\u001b[0;32m----> 8\u001b[0m \u001b[43mclf\u001b[49m\u001b[38;5;241;43m.\u001b[39;49m\u001b[43mfit\u001b[49m\u001b[43m(\u001b[49m\u001b[43mX_train\u001b[49m\u001b[43m,\u001b[49m\u001b[43m \u001b[49m\u001b[43my_train\u001b[49m\u001b[43m)\u001b[49m\n\u001b[1;32m     10\u001b[0m \u001b[38;5;66;03m# Get the feature importances\u001b[39;00m\n\u001b[1;32m     11\u001b[0m importances \u001b[38;5;241m=\u001b[39m clf\u001b[38;5;241m.\u001b[39mfeature_importances_\n",
            "File \u001b[0;32m/opt/conda/lib/python3.9/site-packages/sklearn/ensemble/_forest.py:371\u001b[0m, in \u001b[0;36mBaseForest.fit\u001b[0;34m(self, X, y, sample_weight)\u001b[0m\n\u001b[1;32m    364\u001b[0m         \u001b[38;5;28;01mraise\u001b[39;00m \u001b[38;5;167;01mValueError\u001b[39;00m(\n\u001b[1;32m    365\u001b[0m             \u001b[38;5;124m\"\u001b[39m\u001b[38;5;124mSum of y is not strictly positive which \u001b[39m\u001b[38;5;124m\"\u001b[39m\n\u001b[1;32m    366\u001b[0m             \u001b[38;5;124m\"\u001b[39m\u001b[38;5;124mis necessary for Poisson regression.\u001b[39m\u001b[38;5;124m\"\u001b[39m\n\u001b[1;32m    367\u001b[0m         )\n\u001b[1;32m    369\u001b[0m \u001b[38;5;28mself\u001b[39m\u001b[38;5;241m.\u001b[39mn_outputs_ \u001b[38;5;241m=\u001b[39m y\u001b[38;5;241m.\u001b[39mshape[\u001b[38;5;241m1\u001b[39m]\n\u001b[0;32m--> 371\u001b[0m y, expanded_class_weight \u001b[38;5;241m=\u001b[39m \u001b[38;5;28;43mself\u001b[39;49m\u001b[38;5;241;43m.\u001b[39;49m\u001b[43m_validate_y_class_weight\u001b[49m\u001b[43m(\u001b[49m\u001b[43my\u001b[49m\u001b[43m)\u001b[49m\n\u001b[1;32m    373\u001b[0m \u001b[38;5;28;01mif\u001b[39;00m \u001b[38;5;28mgetattr\u001b[39m(y, \u001b[38;5;124m\"\u001b[39m\u001b[38;5;124mdtype\u001b[39m\u001b[38;5;124m\"\u001b[39m, \u001b[38;5;28;01mNone\u001b[39;00m) \u001b[38;5;241m!=\u001b[39m DOUBLE \u001b[38;5;129;01mor\u001b[39;00m \u001b[38;5;129;01mnot\u001b[39;00m y\u001b[38;5;241m.\u001b[39mflags\u001b[38;5;241m.\u001b[39mcontiguous:\n\u001b[1;32m    374\u001b[0m     y \u001b[38;5;241m=\u001b[39m np\u001b[38;5;241m.\u001b[39mascontiguousarray(y, dtype\u001b[38;5;241m=\u001b[39mDOUBLE)\n",
            "File \u001b[0;32m/opt/conda/lib/python3.9/site-packages/sklearn/ensemble/_forest.py:758\u001b[0m, in \u001b[0;36mForestClassifier._validate_y_class_weight\u001b[0;34m(self, y)\u001b[0m\n\u001b[1;32m    757\u001b[0m \u001b[38;5;28;01mdef\u001b[39;00m \u001b[38;5;21m_validate_y_class_weight\u001b[39m(\u001b[38;5;28mself\u001b[39m, y):\n\u001b[0;32m--> 758\u001b[0m     \u001b[43mcheck_classification_targets\u001b[49m\u001b[43m(\u001b[49m\u001b[43my\u001b[49m\u001b[43m)\u001b[49m\n\u001b[1;32m    760\u001b[0m     y \u001b[38;5;241m=\u001b[39m np\u001b[38;5;241m.\u001b[39mcopy(y)\n\u001b[1;32m    761\u001b[0m     expanded_class_weight \u001b[38;5;241m=\u001b[39m \u001b[38;5;28;01mNone\u001b[39;00m\n",
            "File \u001b[0;32m/opt/conda/lib/python3.9/site-packages/sklearn/utils/multiclass.py:200\u001b[0m, in \u001b[0;36mcheck_classification_targets\u001b[0;34m(y)\u001b[0m\n\u001b[1;32m    192\u001b[0m y_type \u001b[38;5;241m=\u001b[39m type_of_target(y, input_name\u001b[38;5;241m=\u001b[39m\u001b[38;5;124m\"\u001b[39m\u001b[38;5;124my\u001b[39m\u001b[38;5;124m\"\u001b[39m)\n\u001b[1;32m    193\u001b[0m \u001b[38;5;28;01mif\u001b[39;00m y_type \u001b[38;5;129;01mnot\u001b[39;00m \u001b[38;5;129;01min\u001b[39;00m [\n\u001b[1;32m    194\u001b[0m     \u001b[38;5;124m\"\u001b[39m\u001b[38;5;124mbinary\u001b[39m\u001b[38;5;124m\"\u001b[39m,\n\u001b[1;32m    195\u001b[0m     \u001b[38;5;124m\"\u001b[39m\u001b[38;5;124mmulticlass\u001b[39m\u001b[38;5;124m\"\u001b[39m,\n\u001b[0;32m   (...)\u001b[0m\n\u001b[1;32m    198\u001b[0m     \u001b[38;5;124m\"\u001b[39m\u001b[38;5;124mmultilabel-sequences\u001b[39m\u001b[38;5;124m\"\u001b[39m,\n\u001b[1;32m    199\u001b[0m ]:\n\u001b[0;32m--> 200\u001b[0m     \u001b[38;5;28;01mraise\u001b[39;00m \u001b[38;5;167;01mValueError\u001b[39;00m(\u001b[38;5;124m\"\u001b[39m\u001b[38;5;124mUnknown label type: \u001b[39m\u001b[38;5;132;01m%r\u001b[39;00m\u001b[38;5;124m\"\u001b[39m \u001b[38;5;241m%\u001b[39m y_type)\n",
            "\u001b[0;31mValueError\u001b[0m: Unknown label type: 'continuous'"
          ]
        }
      ],
      "execution_count": null,
      "metadata": {
        "noteable": {
          "cell_type": "code"
        },
        "ExecuteTime": {
          "end_time": "2023-07-24T12:16:21.769292+00:00",
          "start_time": "2023-07-24T12:16:21.275697+00:00"
        }
      },
      "id": "ac7fed6d-d23b-491c-ba93-3cbdf0844f11"
    },
    {
      "cell_type": "code",
      "source": [
        "# Convert the target variable back to its original form\n",
        "y_train = y_train.astype('int')\n",
        "\n",
        "# Fit the classifier to the training data\n",
        "clf.fit(X_train, y_train)\n",
        "\n",
        "# Get the feature importances\n",
        "importances = clf.feature_importances_\n",
        "\n",
        "# Create a dataframe of the features and their respective importances\n",
        "feature_importances = pd.DataFrame({'Feature': X.columns, 'Importance': importances})\n",
        "\n",
        "# Sort the dataframe by importance\n",
        "feature_importances.sort_values(by='Importance', ascending=False, inplace=True)\n",
        "\n",
        "# Display the feature importances\n",
        "feature_importances"
      ],
      "outputs": [
        {
          "output_type": "display_data",
          "data": {
            "application/vnd.dataresource+json": {
              "schema": {
                "fields": [
                  {
                    "name": "index",
                    "type": "integer"
                  },
                  {
                    "name": "Feature",
                    "type": "string"
                  },
                  {
                    "name": "Importance",
                    "type": "number"
                  }
                ],
                "primaryKey": [
                  "index"
                ],
                "pandas_version": "1.4.0"
              },
              "data": [
                {
                  "index": 1,
                  "Feature": "duration",
                  "Importance": 0.29438743481056323
                },
                {
                  "index": 8,
                  "Feature": "euribor3m",
                  "Importance": 0.09639424662067775
                },
                {
                  "index": 0,
                  "Feature": "age",
                  "Importance": 0.0866279122636095
                },
                {
                  "index": 9,
                  "Feature": "nr.employed",
                  "Importance": 0.054298786638349215
                },
                {
                  "index": 2,
                  "Feature": "campaign",
                  "Importance": 0.04134765727924588
                },
                {
                  "index": 3,
                  "Feature": "pdays",
                  "Importance": 0.03189887696702823
                },
                {
                  "index": 7,
                  "Feature": "cons.conf.idx",
                  "Importance": 0.03185056076723955
                },
                {
                  "index": 5,
                  "Feature": "emp.var.rate",
                  "Importance": 0.023205265309154108
                },
                {
                  "index": 6,
                  "Feature": "cons.price.idx",
                  "Importance": 0.022315278558564522
                },
                {
                  "index": 52,
                  "Feature": "poutcome_success",
                  "Importance": 0.021833078325375985
                },
                {
                  "index": 34,
                  "Feature": "housing_yes",
                  "Importance": 0.01960093921228588
                },
                {
                  "index": 4,
                  "Feature": "previous",
                  "Importance": 0.014383479847577154
                },
                {
                  "index": 36,
                  "Feature": "loan_yes",
                  "Importance": 0.013184512433209181
                },
                {
                  "index": 21,
                  "Feature": "marital_married",
                  "Importance": 0.012999420059385224
                },
                {
                  "index": 29,
                  "Feature": "education_university.degree",
                  "Importance": 0.012870956735316774
                },
                {
                  "index": 48,
                  "Feature": "day_of_week_thu",
                  "Importance": 0.012173865071999856
                },
                {
                  "index": 49,
                  "Feature": "day_of_week_tue",
                  "Importance": 0.011854954494023205
                },
                {
                  "index": 47,
                  "Feature": "day_of_week_mon",
                  "Importance": 0.01178769302502003
                },
                {
                  "index": 50,
                  "Feature": "day_of_week_wed",
                  "Importance": 0.011764225341864007
                },
                {
                  "index": 22,
                  "Feature": "marital_single",
                  "Importance": 0.011740749288705232
                },
                {
                  "index": 26,
                  "Feature": "education_high.school",
                  "Importance": 0.011491496781564208
                },
                {
                  "index": 37,
                  "Feature": "contact_telephone",
                  "Importance": 0.0113150896422868
                },
                {
                  "index": 18,
                  "Feature": "job_technician",
                  "Importance": 0.010841899215051338
                },
                {
                  "index": 51,
                  "Feature": "poutcome_nonexistent",
                  "Importance": 0.009357192253462878
                },
                {
                  "index": 31,
                  "Feature": "default_unknown",
                  "Importance": 0.00912684081718582
                },
                {
                  "index": 10,
                  "Feature": "job_blue-collar",
                  "Importance": 0.008928306570042783
                },
                {
                  "index": 28,
                  "Feature": "education_professional.course",
                  "Importance": 0.00883291159214506
                },
                {
                  "index": 25,
                  "Feature": "education_basic.9y",
                  "Importance": 0.008300793681651486
                },
                {
                  "index": 13,
                  "Feature": "job_management",
                  "Importance": 0.007077145755690393
                },
                {
                  "index": 16,
                  "Feature": "job_services",
                  "Importance": 0.006769312415749896
                },
                {
                  "index": 14,
                  "Feature": "job_retired",
                  "Importance": 0.005793753340480392
                },
                {
                  "index": 45,
                  "Feature": "month_oct",
                  "Importance": 0.005625268776623476
                },
                {
                  "index": 30,
                  "Feature": "education_unknown",
                  "Importance": 0.004948585585562944
                },
                {
                  "index": 24,
                  "Feature": "education_basic.6y",
                  "Importance": 0.004828300514717129
                },
                {
                  "index": 15,
                  "Feature": "job_self-employed",
                  "Importance": 0.0046086776484988035
                },
                {
                  "index": 17,
                  "Feature": "job_student",
                  "Importance": 0.004594837265247675
                },
                {
                  "index": 42,
                  "Feature": "month_mar",
                  "Importance": 0.004533526926472971
                },
                {
                  "index": 43,
                  "Feature": "month_may",
                  "Importance": 0.004442992495406497
                },
                {
                  "index": 19,
                  "Feature": "job_unemployed",
                  "Importance": 0.0040510169629355795
                },
                {
                  "index": 11,
                  "Feature": "job_entrepreneur",
                  "Importance": 0.0039324846102769375
                },
                {
                  "index": 12,
                  "Feature": "job_housemaid",
                  "Importance": 0.0032945773464573484
                },
                {
                  "index": 40,
                  "Feature": "month_jul",
                  "Importance": 0.0028438155362530857
                },
                {
                  "index": 41,
                  "Feature": "month_jun",
                  "Importance": 0.0026713294008230536
                },
                {
                  "index": 35,
                  "Feature": "loan_unknown",
                  "Importance": 0.0025737040045467783
                },
                {
                  "index": 38,
                  "Feature": "month_aug",
                  "Importance": 0.0025711341455809467
                },
                {
                  "index": 33,
                  "Feature": "housing_unknown",
                  "Importance": 0.002570612449233686
                },
                {
                  "index": 46,
                  "Feature": "month_sep",
                  "Importance": 0.002344414419855966
                },
                {
                  "index": 44,
                  "Feature": "month_nov",
                  "Importance": 0.0022507918172258745
                },
                {
                  "index": 20,
                  "Feature": "job_unknown",
                  "Importance": 0.00159112979083847
                },
                {
                  "index": 39,
                  "Feature": "month_dec",
                  "Importance": 0.0006643530574872228
                },
                {
                  "index": 23,
                  "Feature": "marital_unknown",
                  "Importance": 0.0004341269244952111
                },
                {
                  "index": 27,
                  "Feature": "education_illiterate",
                  "Importance": 0.00026948038807661766
                },
                {
                  "index": 32,
                  "Feature": "default_yes",
                  "Importance": 2.048188781307897e-7
                }
              ],
              "datalink": {
                "display_id": "0f11e081-9d75-4d92-9e62-f93dfd0445c9"
              }
            }
          },
          "metadata": {
            "application/vnd.dataresource+json": {
              "datalink": {
                "dataframe_info": {
                  "default_index_used": true,
                  "orig_size_bytes": 1272,
                  "orig_num_rows": 53,
                  "orig_num_cols": 2,
                  "truncated_string_columns": [],
                  "truncated_size_bytes": 1272,
                  "truncated_num_rows": 53,
                  "truncated_num_cols": 2
                },
                "dx_settings": {
                  "NUM_PAST_SAMPLES_TRACKED": 3,
                  "ENABLE_DATALINK": true,
                  "DISPLAY_MODE": "simple",
                  "GENERATE_DEX_METADATA": false,
                  "STRINGIFY_INDEX_VALUES": false,
                  "ALLOW_NOTEABLE_ATTRS": true,
                  "DISPLAY_MAX_COLUMNS": 100,
                  "HTML_TABLE_SCHEMA": false,
                  "SAMPLING_FACTOR": 0.1,
                  "LOG_LEVEL": 30,
                  "ENABLE_ASSIGNMENT": true,
                  "FLATTEN_INDEX_VALUES": false,
                  "DEV_MODE": false,
                  "COLUMN_SAMPLING_METHOD": "outer",
                  "FLATTEN_COLUMN_VALUES": true,
                  "DISPLAY_MAX_ROWS": 50000,
                  "ROW_SAMPLING_METHOD": "random",
                  "RANDOM_STATE": 12648430,
                  "DB_LOCATION": ":memory:",
                  "STRINGIFY_COLUMN_VALUES": true,
                  "SAMPLING_METHOD": "random",
                  "MAX_STRING_LENGTH": 250,
                  "MAX_RENDER_SIZE_BYTES": 104857600,
                  "RESET_INDEX_VALUES": false
                },
                "display_id": "0f11e081-9d75-4d92-9e62-f93dfd0445c9",
                "applied_filters": [],
                "sample_history": [],
                "sampling_time": "2023-07-24T12:16:52.439855",
                "variable_name": "feature_importances",
                "user_variable_name": "feature_importances"
              },
              "display_id": "0f11e081-9d75-4d92-9e62-f93dfd0445c9"
            }
          }
        }
      ],
      "execution_count": null,
      "metadata": {
        "noteable": {
          "cell_type": "code"
        },
        "ExecuteTime": {
          "end_time": "2023-07-24T12:16:52.598130+00:00",
          "start_time": "2023-07-24T12:16:47.834719+00:00"
        },
        "datalink": {
          "0f11e081-9d75-4d92-9e62-f93dfd0445c9": {
            "applied_filters": [],
            "dataframe_info": {
              "default_index_used": true,
              "orig_num_cols": 2,
              "orig_num_rows": 53,
              "orig_size_bytes": 1272,
              "truncated_num_cols": 2,
              "truncated_num_rows": 53,
              "truncated_size_bytes": 1272,
              "truncated_string_columns": []
            },
            "display_id": "0f11e081-9d75-4d92-9e62-f93dfd0445c9",
            "dx_settings": {
              "ALLOW_NOTEABLE_ATTRS": true,
              "COLUMN_SAMPLING_METHOD": "outer",
              "DB_LOCATION": ":memory:",
              "DEV_MODE": false,
              "DISPLAY_MAX_COLUMNS": 100,
              "DISPLAY_MAX_ROWS": 50000,
              "DISPLAY_MODE": "simple",
              "ENABLE_ASSIGNMENT": true,
              "ENABLE_DATALINK": true,
              "FLATTEN_COLUMN_VALUES": true,
              "FLATTEN_INDEX_VALUES": false,
              "GENERATE_DEX_METADATA": false,
              "HTML_TABLE_SCHEMA": false,
              "LOG_LEVEL": 30,
              "MAX_RENDER_SIZE_BYTES": 104857600,
              "MAX_STRING_LENGTH": 250,
              "NUM_PAST_SAMPLES_TRACKED": 3,
              "RANDOM_STATE": 12648430,
              "RESET_INDEX_VALUES": false,
              "ROW_SAMPLING_METHOD": "random",
              "SAMPLING_FACTOR": 0.1,
              "SAMPLING_METHOD": "random",
              "STRINGIFY_COLUMN_VALUES": true,
              "STRINGIFY_INDEX_VALUES": false
            },
            "sample_history": [],
            "sampling_time": "2023-07-24T12:16:52.439855",
            "user_variable_name": "feature_importances",
            "variable_name": "feature_importances"
          }
        }
      },
      "id": "0ce3daf3-19f1-4041-bd9e-fbf4774373de"
    },
    {
      "cell_type": "markdown",
      "source": [
        "## Feature Importance\n",
        "\n",
        "The feature importances have been successfully calculated. Here are the top 10 features based on their importance:\n",
        "\n",
        "1. **Duration:** This is the duration of the last contact with the client. It is the most important feature according to our model, which makes sense as the length of the conversation with the client could have a significant impact on whether they subscribe to a term deposit or not.\n",
        "\n",
        "2. **Euribor 3 month rate:** This is the 3 month Euribor interest rate. It is the second most important feature. The Euribor rates are based on the average interest rates at which a large panel of European banks borrow funds from one another, and it could influence the client's decision to subscribe to a term deposit.\n",
        "\n",
        "3. **Age:** The age of the client is the third most important feature. Different age groups may have different financial needs and preferences, which could affect their decision to subscribe to a term deposit.\n",
        "\n",
        "4. **Number of Employees:** This is the number of employees in the client's company. It is the fourth most important feature. The size of the company could reflect the client's job stability and income level, which could in turn affect their decision to subscribe to a term deposit.\n",
        "\n",
        "5. **Campaign:** This is the number of contacts performed during this campaign for this client. It is the fifth most important feature. The number of contacts could affect the client's awareness and understanding of the term deposit, and hence their decision to subscribe.\n",
        "\n",
        "The other important features include pdays (number of days that passed by after the client was last contacted), cons.conf.idx (consumer confidence index), emp.var.rate (employment variation rate), cons.price.idx (consumer price index), and poutcome_success (outcome of the previous marketing campaign).\n",
        "\n",
        "These insights can help us understand which features are most important in predicting whether a client will subscribe to a term deposit. They can also guide us in feature selection for building our model.\n",
        "\n",
        "Next, let's move on to model building. We'll start with a simple logistic regression model as our baseline. Logistic regression is a statistical model that uses a logistic function to model a binary dependent variable. In regression analysis, logistic regression estimates the parameters of a logistic model; it is a form of binomial regression."
      ],
      "metadata": {
        "noteable": {
          "cell_type": "markdown"
        }
      },
      "id": "51a47a7c-1ba4-4961-84d0-abe8be3df760"
    },
    {
      "cell_type": "code",
      "source": [
        "# Import necessary libraries\n",
        "from sklearn.linear_model import LogisticRegression\n",
        "from sklearn.metrics import classification_report\n",
        "\n",
        "# Instantiate the classifier\n",
        "clf = LogisticRegression(random_state=42)\n",
        "\n",
        "# Fit the classifier to the training data\n",
        "clf.fit(X_train, y_train)\n",
        "\n",
        "# Predict the labels of the test set\n",
        "y_pred = clf.predict(X_test)\n",
        "\n",
        "# Print the classification report\n",
        "print(classification_report(y_test, y_pred))"
      ],
      "outputs": [
        {
          "output_type": "error",
          "ename": "ValueError",
          "evalue": "Classification metrics can't handle a mix of continuous and binary targets",
          "traceback": [
            "\u001b[0;31m---------------------------------------------------------------------------\u001b[0m",
            "\u001b[0;31mValueError\u001b[0m                                Traceback (most recent call last)",
            "Cell \u001b[0;32mIn[18], line 15\u001b[0m\n\u001b[1;32m     12\u001b[0m y_pred \u001b[38;5;241m=\u001b[39m clf\u001b[38;5;241m.\u001b[39mpredict(X_test)\n\u001b[1;32m     14\u001b[0m \u001b[38;5;66;03m# Print the classification report\u001b[39;00m\n\u001b[0;32m---> 15\u001b[0m \u001b[38;5;28mprint\u001b[39m(\u001b[43mclassification_report\u001b[49m\u001b[43m(\u001b[49m\u001b[43my_test\u001b[49m\u001b[43m,\u001b[49m\u001b[43m \u001b[49m\u001b[43my_pred\u001b[49m\u001b[43m)\u001b[49m)\n",
            "File \u001b[0;32m/opt/conda/lib/python3.9/site-packages/sklearn/metrics/_classification.py:2132\u001b[0m, in \u001b[0;36mclassification_report\u001b[0;34m(y_true, y_pred, labels, target_names, sample_weight, digits, output_dict, zero_division)\u001b[0m\n\u001b[1;32m   2017\u001b[0m \u001b[38;5;28;01mdef\u001b[39;00m \u001b[38;5;21mclassification_report\u001b[39m(\n\u001b[1;32m   2018\u001b[0m     y_true,\n\u001b[1;32m   2019\u001b[0m     y_pred,\n\u001b[0;32m   (...)\u001b[0m\n\u001b[1;32m   2026\u001b[0m     zero_division\u001b[38;5;241m=\u001b[39m\u001b[38;5;124m\"\u001b[39m\u001b[38;5;124mwarn\u001b[39m\u001b[38;5;124m\"\u001b[39m,\n\u001b[1;32m   2027\u001b[0m ):\n\u001b[1;32m   2028\u001b[0m \u001b[38;5;250m    \u001b[39m\u001b[38;5;124;03m\"\"\"Build a text report showing the main classification metrics.\u001b[39;00m\n\u001b[1;32m   2029\u001b[0m \n\u001b[1;32m   2030\u001b[0m \u001b[38;5;124;03m    Read more in the :ref:`User Guide <classification_report>`.\u001b[39;00m\n\u001b[0;32m   (...)\u001b[0m\n\u001b[1;32m   2129\u001b[0m \u001b[38;5;124;03m    <BLANKLINE>\u001b[39;00m\n\u001b[1;32m   2130\u001b[0m \u001b[38;5;124;03m    \"\"\"\u001b[39;00m\n\u001b[0;32m-> 2132\u001b[0m     y_type, y_true, y_pred \u001b[38;5;241m=\u001b[39m \u001b[43m_check_targets\u001b[49m\u001b[43m(\u001b[49m\u001b[43my_true\u001b[49m\u001b[43m,\u001b[49m\u001b[43m \u001b[49m\u001b[43my_pred\u001b[49m\u001b[43m)\u001b[49m\n\u001b[1;32m   2134\u001b[0m     \u001b[38;5;28;01mif\u001b[39;00m labels \u001b[38;5;129;01mis\u001b[39;00m \u001b[38;5;28;01mNone\u001b[39;00m:\n\u001b[1;32m   2135\u001b[0m         labels \u001b[38;5;241m=\u001b[39m unique_labels(y_true, y_pred)\n",
            "File \u001b[0;32m/opt/conda/lib/python3.9/site-packages/sklearn/metrics/_classification.py:93\u001b[0m, in \u001b[0;36m_check_targets\u001b[0;34m(y_true, y_pred)\u001b[0m\n\u001b[1;32m     90\u001b[0m     y_type \u001b[38;5;241m=\u001b[39m {\u001b[38;5;124m\"\u001b[39m\u001b[38;5;124mmulticlass\u001b[39m\u001b[38;5;124m\"\u001b[39m}\n\u001b[1;32m     92\u001b[0m \u001b[38;5;28;01mif\u001b[39;00m \u001b[38;5;28mlen\u001b[39m(y_type) \u001b[38;5;241m>\u001b[39m \u001b[38;5;241m1\u001b[39m:\n\u001b[0;32m---> 93\u001b[0m     \u001b[38;5;28;01mraise\u001b[39;00m \u001b[38;5;167;01mValueError\u001b[39;00m(\n\u001b[1;32m     94\u001b[0m         \u001b[38;5;124m\"\u001b[39m\u001b[38;5;124mClassification metrics can\u001b[39m\u001b[38;5;124m'\u001b[39m\u001b[38;5;124mt handle a mix of \u001b[39m\u001b[38;5;132;01m{0}\u001b[39;00m\u001b[38;5;124m and \u001b[39m\u001b[38;5;132;01m{1}\u001b[39;00m\u001b[38;5;124m targets\u001b[39m\u001b[38;5;124m\"\u001b[39m\u001b[38;5;241m.\u001b[39mformat(\n\u001b[1;32m     95\u001b[0m             type_true, type_pred\n\u001b[1;32m     96\u001b[0m         )\n\u001b[1;32m     97\u001b[0m     )\n\u001b[1;32m     99\u001b[0m \u001b[38;5;66;03m# We can't have more than one value on y_type => The set is no more needed\u001b[39;00m\n\u001b[1;32m    100\u001b[0m y_type \u001b[38;5;241m=\u001b[39m y_type\u001b[38;5;241m.\u001b[39mpop()\n",
            "\u001b[0;31mValueError\u001b[0m: Classification metrics can't handle a mix of continuous and binary targets"
          ]
        }
      ],
      "execution_count": null,
      "metadata": {
        "noteable": {
          "cell_type": "code"
        },
        "ExecuteTime": {
          "end_time": "2023-07-24T12:20:19.033762+00:00",
          "start_time": "2023-07-24T12:20:09.743969+00:00"
        }
      },
      "id": "afb7a83b-1cac-4f81-b5e0-868d6116423c"
    },
    {
      "cell_type": "code",
      "source": [
        "# Convert the target variable in the test set back to its original form\n",
        "y_test = y_test.astype('int')\n",
        "\n",
        "# Predict the labels of the test set\n",
        "y_pred = clf.predict(X_test)\n",
        "\n",
        "# Print the classification report\n",
        "print(classification_report(y_test, y_pred))"
      ],
      "outputs": [
        {
          "output_type": "stream",
          "name": "stdout",
          "text": [
            "              precision    recall  f1-score   support\n",
            "\n",
            "           0       0.93      0.97      0.95      7303\n",
            "           2       0.67      0.43      0.53       935\n",
            "\n",
            "    accuracy                           0.91      8238\n",
            "   macro avg       0.80      0.70      0.74      8238\n",
            "weighted avg       0.90      0.91      0.90      8238\n",
            "\n"
          ]
        }
      ],
      "execution_count": null,
      "metadata": {
        "noteable": {
          "cell_type": "code"
        },
        "ExecuteTime": {
          "end_time": "2023-07-24T12:20:43.890203+00:00",
          "start_time": "2023-07-24T12:20:43.536452+00:00"
        }
      },
      "id": "7a9d6bc8-0671-420d-be47-6ac2ba1c4dbd"
    },
    {
      "cell_type": "code",
      "source": [
        "# Import necessary libraries\n",
        "from sklearn.ensemble import RandomForestClassifier\n",
        "\n",
        "# Instantiate the classifier\n",
        "clf = RandomForestClassifier(random_state=42)\n",
        "\n",
        "# Fit the classifier to the training data\n",
        "clf.fit(X_train, y_train)\n",
        "\n",
        "# Predict the labels of the test set\n",
        "y_pred = clf.predict(X_test)\n",
        "\n",
        "# Print the classification report\n",
        "print(classification_report(y_test, y_pred))"
      ],
      "outputs": [
        {
          "output_type": "stream",
          "name": "stdout",
          "text": [
            "              precision    recall  f1-score   support\n",
            "\n",
            "           0       0.94      0.97      0.95      7303\n",
            "           2       0.65      0.49      0.56       935\n",
            "\n",
            "    accuracy                           0.91      8238\n",
            "   macro avg       0.79      0.73      0.75      8238\n",
            "weighted avg       0.90      0.91      0.91      8238\n",
            "\n"
          ]
        }
      ],
      "execution_count": null,
      "metadata": {
        "noteable": {
          "cell_type": "code"
        },
        "ExecuteTime": {
          "end_time": "2023-07-24T12:21:40.612499+00:00",
          "start_time": "2023-07-24T12:21:35.636407+00:00"
        }
      },
      "id": "b28e84ef-048f-497c-a9d5-79506fdab639"
    },
    {
      "cell_type": "code",
      "source": [
        "# Import necessary libraries\n",
        "from sklearn.model_selection import GridSearchCV\n",
        "\n",
        "# Define the parameter grid\n",
        "param_grid = {\n",
        "    'n_estimators': [100, 200, 300],\n",
        "    'max_depth': [None, 5, 10],\n",
        "    'min_samples_split': [2, 5, 10]\n",
        "}\n",
        "\n",
        "# Instantiate the grid search model\n",
        "grid_search = GridSearchCV(estimator=clf, param_grid=param_grid, cv=3, n_jobs=-1, verbose=2)\n",
        "\n",
        "# Fit the grid search model to the training data\n",
        "grid_search.fit(X_train, y_train)\n",
        "\n",
        "# Get the best parameters\n",
        "best_params = grid_search.best_params_\n",
        "best_params"
      ],
      "outputs": [
        {
          "output_type": "stream",
          "name": "stdout",
          "text": [
            "Fitting 3 folds for each of 27 candidates, totalling 81 fits\n"
          ]
        },
        {
          "output_type": "stream",
          "name": "stdout",
          "text": [
            "[CV] END max_depth=None, min_samples_split=2, n_estimators=100; total time=   3.2s\n"
          ]
        },
        {
          "output_type": "stream",
          "name": "stdout",
          "text": [
            "[CV] END max_depth=None, min_samples_split=2, n_estimators=100; total time=   3.1s\n"
          ]
        },
        {
          "output_type": "stream",
          "name": "stdout",
          "text": [
            "[CV] END max_depth=None, min_samples_split=2, n_estimators=100; total time=   3.2s\n"
          ]
        },
        {
          "output_type": "stream",
          "name": "stdout",
          "text": [
            "[CV] END max_depth=None, min_samples_split=2, n_estimators=200; total time=   6.3s\n"
          ]
        },
        {
          "output_type": "stream",
          "name": "stdout",
          "text": [
            "[CV] END max_depth=None, min_samples_split=2, n_estimators=200; total time=   6.2s\n"
          ]
        },
        {
          "output_type": "stream",
          "name": "stdout",
          "text": [
            "[CV] END max_depth=None, min_samples_split=2, n_estimators=200; total time=   6.2s\n"
          ]
        },
        {
          "output_type": "stream",
          "name": "stdout",
          "text": [
            "[CV] END max_depth=None, min_samples_split=2, n_estimators=300; total time=   9.4s\n"
          ]
        },
        {
          "output_type": "stream",
          "name": "stdout",
          "text": [
            "[CV] END max_depth=None, min_samples_split=2, n_estimators=300; total time=   9.3s\n"
          ]
        },
        {
          "output_type": "stream",
          "name": "stdout",
          "text": [
            "[CV] END max_depth=None, min_samples_split=2, n_estimators=300; total time=   9.4s\n"
          ]
        },
        {
          "output_type": "stream",
          "name": "stdout",
          "text": [
            "[CV] END max_depth=None, min_samples_split=5, n_estimators=100; total time=   3.0s\n"
          ]
        },
        {
          "output_type": "stream",
          "name": "stdout",
          "text": [
            "[CV] END max_depth=None, min_samples_split=5, n_estimators=100; total time=   3.0s\n"
          ]
        },
        {
          "output_type": "stream",
          "name": "stdout",
          "text": [
            "[CV] END max_depth=None, min_samples_split=5, n_estimators=100; total time=   3.1s\n"
          ]
        },
        {
          "output_type": "stream",
          "name": "stdout",
          "text": [
            "[CV] END max_depth=None, min_samples_split=5, n_estimators=200; total time=   5.9s\n"
          ]
        },
        {
          "output_type": "stream",
          "name": "stdout",
          "text": [
            "[CV] END max_depth=None, min_samples_split=5, n_estimators=200; total time=   5.6s\n"
          ]
        },
        {
          "output_type": "stream",
          "name": "stdout",
          "text": [
            "[CV] END max_depth=None, min_samples_split=5, n_estimators=200; total time=   5.6s\n"
          ]
        },
        {
          "output_type": "stream",
          "name": "stdout",
          "text": [
            "[CV] END max_depth=None, min_samples_split=5, n_estimators=300; total time=   8.3s\n"
          ]
        },
        {
          "output_type": "stream",
          "name": "stdout",
          "text": [
            "[CV] END max_depth=None, min_samples_split=5, n_estimators=300; total time=   8.5s\n"
          ]
        },
        {
          "output_type": "stream",
          "name": "stdout",
          "text": [
            "[CV] END max_depth=None, min_samples_split=5, n_estimators=300; total time=   8.6s\n"
          ]
        },
        {
          "output_type": "stream",
          "name": "stdout",
          "text": [
            "[CV] END max_depth=None, min_samples_split=10, n_estimators=100; total time=   2.7s\n"
          ]
        },
        {
          "output_type": "stream",
          "name": "stdout",
          "text": [
            "[CV] END max_depth=None, min_samples_split=10, n_estimators=100; total time=   2.7s\n"
          ]
        },
        {
          "output_type": "stream",
          "name": "stdout",
          "text": [
            "[CV] END max_depth=None, min_samples_split=10, n_estimators=100; total time=   2.7s\n"
          ]
        },
        {
          "output_type": "stream",
          "name": "stdout",
          "text": [
            "[CV] END max_depth=None, min_samples_split=10, n_estimators=200; total time=   5.4s\n"
          ]
        },
        {
          "output_type": "stream",
          "name": "stdout",
          "text": [
            "[CV] END max_depth=None, min_samples_split=10, n_estimators=200; total time=   5.5s\n"
          ]
        },
        {
          "output_type": "stream",
          "name": "stdout",
          "text": [
            "[CV] END max_depth=None, min_samples_split=10, n_estimators=200; total time=   5.5s\n"
          ]
        },
        {
          "output_type": "stream",
          "name": "stdout",
          "text": [
            "[CV] END max_depth=None, min_samples_split=10, n_estimators=300; total time=   8.2s\n"
          ]
        },
        {
          "output_type": "stream",
          "name": "stdout",
          "text": [
            "[CV] END max_depth=None, min_samples_split=10, n_estimators=300; total time=   8.1s\n"
          ]
        },
        {
          "output_type": "stream",
          "name": "stdout",
          "text": [
            "[CV] END max_depth=None, min_samples_split=10, n_estimators=300; total time=   8.2s\n"
          ]
        },
        {
          "output_type": "stream",
          "name": "stdout",
          "text": [
            "[CV] END .max_depth=5, min_samples_split=2, n_estimators=100; total time=   1.2s\n"
          ]
        },
        {
          "output_type": "stream",
          "name": "stdout",
          "text": [
            "[CV] END .max_depth=5, min_samples_split=2, n_estimators=100; total time=   1.2s\n"
          ]
        },
        {
          "output_type": "stream",
          "name": "stdout",
          "text": [
            "[CV] END .max_depth=5, min_samples_split=2, n_estimators=100; total time=   1.2s\n"
          ]
        },
        {
          "output_type": "stream",
          "name": "stdout",
          "text": [
            "[CV] END .max_depth=5, min_samples_split=2, n_estimators=200; total time=   2.4s\n"
          ]
        },
        {
          "output_type": "stream",
          "name": "stdout",
          "text": [
            "[CV] END .max_depth=5, min_samples_split=2, n_estimators=200; total time=   2.4s\n"
          ]
        },
        {
          "output_type": "stream",
          "name": "stdout",
          "text": [
            "[CV] END .max_depth=5, min_samples_split=2, n_estimators=200; total time=   2.4s\n"
          ]
        },
        {
          "output_type": "stream",
          "name": "stdout",
          "text": [
            "[CV] END .max_depth=5, min_samples_split=2, n_estimators=300; total time=   3.6s\n"
          ]
        },
        {
          "output_type": "stream",
          "name": "stdout",
          "text": [
            "[CV] END .max_depth=5, min_samples_split=2, n_estimators=300; total time=   3.6s\n"
          ]
        },
        {
          "output_type": "stream",
          "name": "stdout",
          "text": [
            "[CV] END .max_depth=5, min_samples_split=2, n_estimators=300; total time=   3.6s\n"
          ]
        },
        {
          "output_type": "stream",
          "name": "stdout",
          "text": [
            "[CV] END .max_depth=5, min_samples_split=5, n_estimators=100; total time=   1.2s\n"
          ]
        },
        {
          "output_type": "stream",
          "name": "stdout",
          "text": [
            "[CV] END .max_depth=5, min_samples_split=5, n_estimators=100; total time=   1.3s\n"
          ]
        },
        {
          "output_type": "stream",
          "name": "stdout",
          "text": [
            "[CV] END .max_depth=5, min_samples_split=5, n_estimators=100; total time=   1.2s\n"
          ]
        },
        {
          "output_type": "stream",
          "name": "stdout",
          "text": [
            "[CV] END .max_depth=5, min_samples_split=5, n_estimators=200; total time=   2.5s\n"
          ]
        },
        {
          "output_type": "stream",
          "name": "stdout",
          "text": [
            "[CV] END .max_depth=5, min_samples_split=5, n_estimators=200; total time=   2.4s\n"
          ]
        },
        {
          "output_type": "stream",
          "name": "stdout",
          "text": [
            "[CV] END .max_depth=5, min_samples_split=5, n_estimators=200; total time=   2.4s\n"
          ]
        },
        {
          "output_type": "stream",
          "name": "stdout",
          "text": [
            "[CV] END .max_depth=5, min_samples_split=5, n_estimators=300; total time=   3.6s\n"
          ]
        },
        {
          "output_type": "stream",
          "name": "stdout",
          "text": [
            "[CV] END .max_depth=5, min_samples_split=5, n_estimators=300; total time=   3.6s\n"
          ]
        },
        {
          "output_type": "stream",
          "name": "stdout",
          "text": [
            "[CV] END .max_depth=5, min_samples_split=5, n_estimators=300; total time=   3.6s\n"
          ]
        },
        {
          "output_type": "stream",
          "name": "stdout",
          "text": [
            "[CV] END max_depth=5, min_samples_split=10, n_estimators=100; total time=   1.2s\n"
          ]
        },
        {
          "output_type": "stream",
          "name": "stdout",
          "text": [
            "[CV] END max_depth=5, min_samples_split=10, n_estimators=100; total time=   1.2s\n"
          ]
        },
        {
          "output_type": "stream",
          "name": "stdout",
          "text": [
            "[CV] END max_depth=5, min_samples_split=10, n_estimators=100; total time=   1.2s\n"
          ]
        },
        {
          "output_type": "stream",
          "name": "stdout",
          "text": [
            "[CV] END max_depth=5, min_samples_split=10, n_estimators=200; total time=   2.4s\n"
          ]
        },
        {
          "output_type": "stream",
          "name": "stdout",
          "text": [
            "[CV] END max_depth=5, min_samples_split=10, n_estimators=200; total time=   2.4s\n"
          ]
        },
        {
          "output_type": "stream",
          "name": "stdout",
          "text": [
            "[CV] END max_depth=5, min_samples_split=10, n_estimators=200; total time=   2.4s\n"
          ]
        },
        {
          "output_type": "stream",
          "name": "stdout",
          "text": [
            "[CV] END max_depth=5, min_samples_split=10, n_estimators=300; total time=   3.6s\n"
          ]
        },
        {
          "output_type": "stream",
          "name": "stdout",
          "text": [
            "[CV] END max_depth=5, min_samples_split=10, n_estimators=300; total time=   3.6s\n"
          ]
        },
        {
          "output_type": "stream",
          "name": "stdout",
          "text": [
            "[CV] END max_depth=5, min_samples_split=10, n_estimators=300; total time=   3.7s\n"
          ]
        },
        {
          "output_type": "stream",
          "name": "stdout",
          "text": [
            "[CV] END max_depth=10, min_samples_split=2, n_estimators=100; total time=   1.9s\n"
          ]
        },
        {
          "output_type": "stream",
          "name": "stdout",
          "text": [
            "[CV] END max_depth=10, min_samples_split=2, n_estimators=100; total time=   2.0s\n"
          ]
        },
        {
          "output_type": "stream",
          "name": "stdout",
          "text": [
            "[CV] END max_depth=10, min_samples_split=2, n_estimators=100; total time=   2.0s\n"
          ]
        },
        {
          "output_type": "stream",
          "name": "stdout",
          "text": [
            "[CV] END max_depth=10, min_samples_split=2, n_estimators=200; total time=   4.0s\n"
          ]
        },
        {
          "output_type": "stream",
          "name": "stdout",
          "text": [
            "[CV] END max_depth=10, min_samples_split=2, n_estimators=200; total time=   4.0s\n"
          ]
        },
        {
          "output_type": "stream",
          "name": "stdout",
          "text": [
            "[CV] END max_depth=10, min_samples_split=2, n_estimators=200; total time=   3.9s\n"
          ]
        },
        {
          "output_type": "stream",
          "name": "stdout",
          "text": [
            "[CV] END max_depth=10, min_samples_split=2, n_estimators=300; total time=   6.0s\n"
          ]
        },
        {
          "output_type": "stream",
          "name": "stdout",
          "text": [
            "[CV] END max_depth=10, min_samples_split=2, n_estimators=300; total time=   5.9s\n"
          ]
        },
        {
          "output_type": "stream",
          "name": "stdout",
          "text": [
            "[CV] END max_depth=10, min_samples_split=2, n_estimators=300; total time=   6.1s\n"
          ]
        },
        {
          "output_type": "stream",
          "name": "stdout",
          "text": [
            "[CV] END max_depth=10, min_samples_split=5, n_estimators=100; total time=   2.1s\n"
          ]
        },
        {
          "output_type": "stream",
          "name": "stdout",
          "text": [
            "[CV] END max_depth=10, min_samples_split=5, n_estimators=100; total time=   1.9s\n"
          ]
        },
        {
          "output_type": "stream",
          "name": "stdout",
          "text": [
            "[CV] END max_depth=10, min_samples_split=5, n_estimators=100; total time=   2.0s\n"
          ]
        },
        {
          "output_type": "stream",
          "name": "stdout",
          "text": [
            "[CV] END max_depth=10, min_samples_split=5, n_estimators=200; total time=   4.3s\n"
          ]
        },
        {
          "output_type": "stream",
          "name": "stdout",
          "text": [
            "[CV] END max_depth=10, min_samples_split=5, n_estimators=200; total time=   4.2s\n"
          ]
        },
        {
          "output_type": "stream",
          "name": "stdout",
          "text": [
            "[CV] END max_depth=10, min_samples_split=5, n_estimators=200; total time=   4.3s\n"
          ]
        },
        {
          "output_type": "stream",
          "name": "stdout",
          "text": [
            "[CV] END max_depth=10, min_samples_split=5, n_estimators=300; total time=   6.3s\n"
          ]
        },
        {
          "output_type": "stream",
          "name": "stdout",
          "text": [
            "[CV] END max_depth=10, min_samples_split=5, n_estimators=300; total time=   6.3s\n"
          ]
        },
        {
          "output_type": "stream",
          "name": "stdout",
          "text": [
            "[CV] END max_depth=10, min_samples_split=5, n_estimators=300; total time=   6.5s\n"
          ]
        },
        {
          "output_type": "stream",
          "name": "stdout",
          "text": [
            "[CV] END max_depth=10, min_samples_split=10, n_estimators=100; total time=   2.1s\n"
          ]
        },
        {
          "output_type": "stream",
          "name": "stdout",
          "text": [
            "[CV] END max_depth=10, min_samples_split=10, n_estimators=100; total time=   2.1s\n"
          ]
        },
        {
          "output_type": "stream",
          "name": "stdout",
          "text": [
            "[CV] END max_depth=10, min_samples_split=10, n_estimators=100; total time=   2.1s\n"
          ]
        },
        {
          "output_type": "stream",
          "name": "stdout",
          "text": [
            "[CV] END max_depth=10, min_samples_split=10, n_estimators=200; total time=   4.2s\n"
          ]
        },
        {
          "output_type": "stream",
          "name": "stdout",
          "text": [
            "[CV] END max_depth=10, min_samples_split=10, n_estimators=200; total time=   4.2s\n"
          ]
        },
        {
          "output_type": "stream",
          "name": "stdout",
          "text": [
            "[CV] END max_depth=10, min_samples_split=10, n_estimators=200; total time=   4.2s\n"
          ]
        },
        {
          "output_type": "stream",
          "name": "stdout",
          "text": [
            "[CV] END max_depth=10, min_samples_split=10, n_estimators=300; total time=   6.5s\n"
          ]
        },
        {
          "output_type": "stream",
          "name": "stdout",
          "text": [
            "[CV] END max_depth=10, min_samples_split=10, n_estimators=300; total time=   6.3s\n"
          ]
        },
        {
          "output_type": "stream",
          "name": "stdout",
          "text": [
            "[CV] END max_depth=10, min_samples_split=10, n_estimators=300; total time=   6.3s\n"
          ]
        },
        {
          "output_type": "execute_result",
          "execution_count": null,
          "data": {
            "text/plain": "{'max_depth': None, 'min_samples_split': 10, 'n_estimators': 300}"
          },
          "metadata": {}
        }
      ],
      "execution_count": null,
      "metadata": {
        "noteable": {
          "cell_type": "code"
        },
        "ExecuteTime": {
          "end_time": "2023-07-24T12:28:26.330787+00:00",
          "start_time": "2023-07-24T12:22:39.214503+00:00"
        }
      },
      "id": "508da420-408d-4a63-be8b-1ddb70256e3c"
    },
    {
      "cell_type": "code",
      "source": [
        "# Import necessary libraries\n",
        "from sklearn.model_selection import RandomizedSearchCV\n",
        "from scipy.stats import randint\n",
        "\n",
        "# Define the parameter distributions\n",
        "param_dist = {\n",
        "    'n_estimators': randint(100, 300),\n",
        "    'max_depth': [None] + list(randint(1, 10).rvs(size=5)),\n",
        "    'min_samples_split': randint(2, 10)\n",
        "}\n",
        "\n",
        "# Instantiate the randomized search model\n",
        "random_search = RandomizedSearchCV(estimator=clf, param_distributions=param_dist, n_iter=10, cv=3, n_jobs=-1, verbose=2)\n",
        "\n",
        "# Fit the randomized search model to the training data\n",
        "random_search.fit(X_train, y_train)\n",
        "\n",
        "# Get the best parameters\n",
        "best_params = random_search.best_params_\n",
        "best_params"
      ],
      "outputs": [
        {
          "output_type": "stream",
          "name": "stdout",
          "text": [
            "Fitting 3 folds for each of 10 candidates, totalling 30 fits\n"
          ]
        },
        {
          "output_type": "stream",
          "name": "stdout",
          "text": [
            "[CV] END max_depth=None, min_samples_split=9, n_estimators=269; total time=   7.3s\n"
          ]
        },
        {
          "output_type": "stream",
          "name": "stdout",
          "text": [
            "[CV] END max_depth=None, min_samples_split=9, n_estimators=269; total time=   7.2s\n"
          ]
        },
        {
          "output_type": "stream",
          "name": "stdout",
          "text": [
            "[CV] END max_depth=None, min_samples_split=9, n_estimators=269; total time=   7.2s\n"
          ]
        },
        {
          "output_type": "stream",
          "name": "stdout",
          "text": [
            "[CV] END .max_depth=1, min_samples_split=4, n_estimators=281; total time=   1.6s\n"
          ]
        },
        {
          "output_type": "stream",
          "name": "stdout",
          "text": [
            "[CV] END .max_depth=1, min_samples_split=4, n_estimators=281; total time=   1.6s\n"
          ]
        },
        {
          "output_type": "stream",
          "name": "stdout",
          "text": [
            "[CV] END .max_depth=1, min_samples_split=4, n_estimators=281; total time=   1.6s\n"
          ]
        },
        {
          "output_type": "stream",
          "name": "stdout",
          "text": [
            "[CV] END .max_depth=3, min_samples_split=9, n_estimators=124; total time=   1.1s\n"
          ]
        },
        {
          "output_type": "stream",
          "name": "stdout",
          "text": [
            "[CV] END .max_depth=3, min_samples_split=9, n_estimators=124; total time=   1.1s\n"
          ]
        },
        {
          "output_type": "stream",
          "name": "stdout",
          "text": [
            "[CV] END .max_depth=3, min_samples_split=9, n_estimators=124; total time=   1.1s\n"
          ]
        },
        {
          "output_type": "stream",
          "name": "stdout",
          "text": [
            "[CV] END .max_depth=3, min_samples_split=9, n_estimators=130; total time=   1.2s\n"
          ]
        },
        {
          "output_type": "stream",
          "name": "stdout",
          "text": [
            "[CV] END .max_depth=3, min_samples_split=9, n_estimators=130; total time=   1.1s\n"
          ]
        },
        {
          "output_type": "stream",
          "name": "stdout",
          "text": [
            "[CV] END .max_depth=3, min_samples_split=9, n_estimators=130; total time=   1.1s\n"
          ]
        },
        {
          "output_type": "stream",
          "name": "stdout",
          "text": [
            "[CV] END max_depth=None, min_samples_split=3, n_estimators=172; total time=   4.8s\n"
          ]
        },
        {
          "output_type": "stream",
          "name": "stdout",
          "text": [
            "[CV] END max_depth=None, min_samples_split=3, n_estimators=172; total time=   4.9s\n"
          ]
        },
        {
          "output_type": "stream",
          "name": "stdout",
          "text": [
            "[CV] END max_depth=None, min_samples_split=3, n_estimators=172; total time=   4.8s\n"
          ]
        },
        {
          "output_type": "stream",
          "name": "stdout",
          "text": [
            "[CV] END .max_depth=1, min_samples_split=2, n_estimators=188; total time=   1.1s\n"
          ]
        },
        {
          "output_type": "stream",
          "name": "stdout",
          "text": [
            "[CV] END .max_depth=1, min_samples_split=2, n_estimators=188; total time=   1.1s\n"
          ]
        },
        {
          "output_type": "stream",
          "name": "stdout",
          "text": [
            "[CV] END .max_depth=1, min_samples_split=2, n_estimators=188; total time=   1.1s\n"
          ]
        },
        {
          "output_type": "stream",
          "name": "stdout",
          "text": [
            "[CV] END max_depth=None, min_samples_split=7, n_estimators=199; total time=   5.5s\n"
          ]
        },
        {
          "output_type": "stream",
          "name": "stdout",
          "text": [
            "[CV] END max_depth=None, min_samples_split=7, n_estimators=199; total time=   5.4s\n"
          ]
        },
        {
          "output_type": "stream",
          "name": "stdout",
          "text": [
            "[CV] END max_depth=None, min_samples_split=7, n_estimators=199; total time=   5.4s\n"
          ]
        },
        {
          "output_type": "stream",
          "name": "stdout",
          "text": [
            "[CV] END max_depth=None, min_samples_split=8, n_estimators=240; total time=   6.6s\n"
          ]
        },
        {
          "output_type": "stream",
          "name": "stdout",
          "text": [
            "[CV] END max_depth=None, min_samples_split=8, n_estimators=240; total time=   6.4s\n"
          ]
        },
        {
          "output_type": "stream",
          "name": "stdout",
          "text": [
            "[CV] END max_depth=None, min_samples_split=8, n_estimators=240; total time=   6.5s\n"
          ]
        },
        {
          "output_type": "stream",
          "name": "stdout",
          "text": [
            "[CV] END .max_depth=1, min_samples_split=7, n_estimators=269; total time=   1.5s\n"
          ]
        },
        {
          "output_type": "stream",
          "name": "stdout",
          "text": [
            "[CV] END .max_depth=1, min_samples_split=7, n_estimators=269; total time=   1.5s\n"
          ]
        },
        {
          "output_type": "stream",
          "name": "stdout",
          "text": [
            "[CV] END .max_depth=1, min_samples_split=7, n_estimators=269; total time=   1.5s\n"
          ]
        },
        {
          "output_type": "stream",
          "name": "stdout",
          "text": [
            "[CV] END .max_depth=8, min_samples_split=2, n_estimators=219; total time=   3.5s\n"
          ]
        },
        {
          "output_type": "stream",
          "name": "stdout",
          "text": [
            "[CV] END .max_depth=8, min_samples_split=2, n_estimators=219; total time=   3.8s\n"
          ]
        },
        {
          "output_type": "stream",
          "name": "stdout",
          "text": [
            "[CV] END .max_depth=8, min_samples_split=2, n_estimators=219; total time=   3.6s\n"
          ]
        },
        {
          "output_type": "execute_result",
          "execution_count": null,
          "data": {
            "text/plain": "{'max_depth': None, 'min_samples_split': 8, 'n_estimators': 240}"
          },
          "metadata": {}
        }
      ],
      "execution_count": null,
      "metadata": {
        "noteable": {
          "cell_type": "code"
        },
        "ExecuteTime": {
          "end_time": "2023-07-24T12:46:25.958601+00:00",
          "start_time": "2023-07-24T12:44:34.037406+00:00"
        }
      },
      "id": "491e06ad-8c30-4661-a595-4191e29ab78a"
    },
    {
      "cell_type": "code",
      "source": [
        "# Import necessary libraries\n",
        "from sklearn.tree import DecisionTreeClassifier\n",
        "\n",
        "# Instantiate the classifier\n",
        "clf = DecisionTreeClassifier(random_state=42)\n",
        "\n",
        "# Fit the classifier to the training data\n",
        "clf.fit(X_train, y_train)\n",
        "\n",
        "# Predict the labels of the test set\n",
        "y_pred = clf.predict(X_test)\n",
        "\n",
        "# Print the classification report\n",
        "print(classification_report(y_test, y_pred))"
      ],
      "outputs": [
        {
          "output_type": "stream",
          "name": "stdout",
          "text": [
            "              precision    recall  f1-score   support\n",
            "\n",
            "           0       0.94      0.93      0.94      7303\n",
            "           2       0.50      0.52      0.51       935\n",
            "\n",
            "    accuracy                           0.89      8238\n",
            "   macro avg       0.72      0.73      0.72      8238\n",
            "weighted avg       0.89      0.89      0.89      8238\n",
            "\n"
          ]
        }
      ],
      "execution_count": null,
      "metadata": {
        "noteable": {
          "cell_type": "code"
        },
        "ExecuteTime": {
          "end_time": "2023-07-24T13:00:24.930841+00:00",
          "start_time": "2023-07-24T13:00:24.446210+00:00"
        }
      },
      "id": "6b6e9c7d-cdfe-41e0-84d5-3cb755d5def4"
    },
    {
      "cell_type": "code",
      "source": [
        "# Import necessary libraries\n",
        "from sklearn.model_selection import GridSearchCV\n",
        "\n",
        "# Define the parameter grid\n",
        "param_grid = {\n",
        "    'max_depth': [None, 5, 10, 15, 20],\n",
        "    'min_samples_split': [2, 5, 10, 15, 20]\n",
        "}\n",
        "\n",
        "# Instantiate the grid search model\n",
        "grid_search = GridSearchCV(estimator=clf, param_grid=param_grid, cv=3, n_jobs=-1, verbose=2)\n",
        "\n",
        "# Fit the grid search model to the training data\n",
        "grid_search.fit(X_train, y_train)\n",
        "\n",
        "# Get the best parameters\n",
        "best_params = grid_search.best_params_\n",
        "best_params"
      ],
      "outputs": [
        {
          "output_type": "stream",
          "name": "stdout",
          "text": [
            "Fitting 3 folds for each of 25 candidates, totalling 75 fits\n"
          ]
        },
        {
          "output_type": "stream",
          "name": "stdout",
          "text": [
            "[CV] END ................max_depth=None, min_samples_split=2; total time=   0.2s\n"
          ]
        },
        {
          "output_type": "stream",
          "name": "stdout",
          "text": [
            "[CV] END ................max_depth=None, min_samples_split=2; total time=   0.2s\n"
          ]
        },
        {
          "output_type": "stream",
          "name": "stdout",
          "text": [
            "[CV] END ................max_depth=None, min_samples_split=2; total time=   0.3s\n"
          ]
        },
        {
          "output_type": "stream",
          "name": "stdout",
          "text": [
            "[CV] END ................max_depth=None, min_samples_split=5; total time=   0.2s\n"
          ]
        },
        {
          "output_type": "stream",
          "name": "stdout",
          "text": [
            "[CV] END ................max_depth=None, min_samples_split=5; total time=   0.2s\n"
          ]
        },
        {
          "output_type": "stream",
          "name": "stdout",
          "text": [
            "[CV] END ................max_depth=None, min_samples_split=5; total time=   0.2s\n"
          ]
        },
        {
          "output_type": "stream",
          "name": "stdout",
          "text": [
            "[CV] END ...............max_depth=None, min_samples_split=10; total time=   0.2s\n"
          ]
        },
        {
          "output_type": "stream",
          "name": "stdout",
          "text": [
            "[CV] END ...............max_depth=None, min_samples_split=10; total time=   0.2s\n"
          ]
        },
        {
          "output_type": "stream",
          "name": "stdout",
          "text": [
            "[CV] END ...............max_depth=None, min_samples_split=10; total time=   0.2s\n"
          ]
        },
        {
          "output_type": "stream",
          "name": "stdout",
          "text": [
            "[CV] END ...............max_depth=None, min_samples_split=15; total time=   0.2s\n"
          ]
        },
        {
          "output_type": "stream",
          "name": "stdout",
          "text": [
            "[CV] END ...............max_depth=None, min_samples_split=15; total time=   0.2s\n"
          ]
        },
        {
          "output_type": "stream",
          "name": "stdout",
          "text": [
            "[CV] END ...............max_depth=None, min_samples_split=15; total time=   0.2s\n",
            "[CV] END ...............max_depth=None, min_samples_split=20; total time=   0.2s\n"
          ]
        },
        {
          "output_type": "stream",
          "name": "stdout",
          "text": [
            "[CV] END ...............max_depth=None, min_samples_split=20; total time=   0.2s\n",
            "[CV] END ...............max_depth=None, min_samples_split=20; total time=   0.2s\n"
          ]
        },
        {
          "output_type": "stream",
          "name": "stdout",
          "text": [
            "[CV] END ...................max_depth=5, min_samples_split=2; total time=   0.1s\n",
            "[CV] END ...................max_depth=5, min_samples_split=2; total time=   0.1s\n",
            "[CV] END ...................max_depth=5, min_samples_split=2; total time=   0.1s\n"
          ]
        },
        {
          "output_type": "stream",
          "name": "stdout",
          "text": [
            "[CV] END ...................max_depth=5, min_samples_split=5; total time=   0.1s\n",
            "[CV] END ...................max_depth=5, min_samples_split=5; total time=   0.1s\n",
            "[CV] END ...................max_depth=5, min_samples_split=5; total time=   0.1s\n"
          ]
        },
        {
          "output_type": "stream",
          "name": "stdout",
          "text": [
            "[CV] END ..................max_depth=5, min_samples_split=10; total time=   0.1s\n",
            "[CV] END ..................max_depth=5, min_samples_split=10; total time=   0.1s\n",
            "[CV] END ..................max_depth=5, min_samples_split=10; total time=   0.1s\n"
          ]
        },
        {
          "output_type": "stream",
          "name": "stdout",
          "text": [
            "[CV] END ..................max_depth=5, min_samples_split=15; total time=   0.1s\n",
            "[CV] END ..................max_depth=5, min_samples_split=15; total time=   0.1s\n",
            "[CV] END ..................max_depth=5, min_samples_split=15; total time=   0.1s\n"
          ]
        },
        {
          "output_type": "stream",
          "name": "stdout",
          "text": [
            "[CV] END ..................max_depth=5, min_samples_split=20; total time=   0.1s\n",
            "[CV] END ..................max_depth=5, min_samples_split=20; total time=   0.1s\n",
            "[CV] END ..................max_depth=5, min_samples_split=20; total time=   0.1s\n"
          ]
        },
        {
          "output_type": "stream",
          "name": "stdout",
          "text": [
            "[CV] END ..................max_depth=10, min_samples_split=2; total time=   0.1s\n",
            "[CV] END ..................max_depth=10, min_samples_split=2; total time=   0.2s\n"
          ]
        },
        {
          "output_type": "stream",
          "name": "stdout",
          "text": [
            "[CV] END ..................max_depth=10, min_samples_split=2; total time=   0.2s\n",
            "[CV] END ..................max_depth=10, min_samples_split=5; total time=   0.2s\n"
          ]
        },
        {
          "output_type": "stream",
          "name": "stdout",
          "text": [
            "[CV] END ..................max_depth=10, min_samples_split=5; total time=   0.2s\n",
            "[CV] END ..................max_depth=10, min_samples_split=5; total time=   0.2s\n"
          ]
        },
        {
          "output_type": "stream",
          "name": "stdout",
          "text": [
            "[CV] END .................max_depth=10, min_samples_split=10; total time=   0.2s\n",
            "[CV] END .................max_depth=10, min_samples_split=10; total time=   0.2s\n"
          ]
        },
        {
          "output_type": "stream",
          "name": "stdout",
          "text": [
            "[CV] END .................max_depth=10, min_samples_split=10; total time=   0.2s\n",
            "[CV] END .................max_depth=10, min_samples_split=15; total time=   0.1s\n"
          ]
        },
        {
          "output_type": "stream",
          "name": "stdout",
          "text": [
            "[CV] END .................max_depth=10, min_samples_split=15; total time=   0.2s\n",
            "[CV] END .................max_depth=10, min_samples_split=15; total time=   0.2s\n"
          ]
        },
        {
          "output_type": "stream",
          "name": "stdout",
          "text": [
            "[CV] END .................max_depth=10, min_samples_split=20; total time=   0.2s\n",
            "[CV] END .................max_depth=10, min_samples_split=20; total time=   0.2s\n"
          ]
        },
        {
          "output_type": "stream",
          "name": "stdout",
          "text": [
            "[CV] END .................max_depth=10, min_samples_split=20; total time=   0.2s\n",
            "[CV] END ..................max_depth=15, min_samples_split=2; total time=   0.2s\n"
          ]
        },
        {
          "output_type": "stream",
          "name": "stdout",
          "text": [
            "[CV] END ..................max_depth=15, min_samples_split=2; total time=   0.2s\n",
            "[CV] END ..................max_depth=15, min_samples_split=2; total time=   0.2s\n"
          ]
        },
        {
          "output_type": "stream",
          "name": "stdout",
          "text": [
            "[CV] END ..................max_depth=15, min_samples_split=5; total time=   0.2s\n"
          ]
        },
        {
          "output_type": "stream",
          "name": "stdout",
          "text": [
            "[CV] END ..................max_depth=15, min_samples_split=5; total time=   0.2s\n",
            "[CV] END ..................max_depth=15, min_samples_split=5; total time=   0.2s\n"
          ]
        },
        {
          "output_type": "stream",
          "name": "stdout",
          "text": [
            "[CV] END .................max_depth=15, min_samples_split=10; total time=   0.2s\n",
            "[CV] END .................max_depth=15, min_samples_split=10; total time=   0.2s\n"
          ]
        },
        {
          "output_type": "stream",
          "name": "stdout",
          "text": [
            "[CV] END .................max_depth=15, min_samples_split=10; total time=   0.2s\n",
            "[CV] END .................max_depth=15, min_samples_split=15; total time=   0.2s\n"
          ]
        },
        {
          "output_type": "stream",
          "name": "stdout",
          "text": [
            "[CV] END .................max_depth=15, min_samples_split=15; total time=   0.2s\n",
            "[CV] END .................max_depth=15, min_samples_split=15; total time=   0.2s\n"
          ]
        },
        {
          "output_type": "stream",
          "name": "stdout",
          "text": [
            "[CV] END .................max_depth=15, min_samples_split=20; total time=   0.2s\n",
            "[CV] END .................max_depth=15, min_samples_split=20; total time=   0.2s\n"
          ]
        },
        {
          "output_type": "stream",
          "name": "stdout",
          "text": [
            "[CV] END .................max_depth=15, min_samples_split=20; total time=   0.2s\n"
          ]
        },
        {
          "output_type": "stream",
          "name": "stdout",
          "text": [
            "[CV] END ..................max_depth=20, min_samples_split=2; total time=   0.2s\n"
          ]
        },
        {
          "output_type": "stream",
          "name": "stdout",
          "text": [
            "[CV] END ..................max_depth=20, min_samples_split=2; total time=   0.2s\n"
          ]
        },
        {
          "output_type": "stream",
          "name": "stdout",
          "text": [
            "[CV] END ..................max_depth=20, min_samples_split=2; total time=   0.2s\n"
          ]
        },
        {
          "output_type": "stream",
          "name": "stdout",
          "text": [
            "[CV] END ..................max_depth=20, min_samples_split=5; total time=   0.2s\n"
          ]
        },
        {
          "output_type": "stream",
          "name": "stdout",
          "text": [
            "[CV] END ..................max_depth=20, min_samples_split=5; total time=   0.2s\n"
          ]
        },
        {
          "output_type": "stream",
          "name": "stdout",
          "text": [
            "[CV] END ..................max_depth=20, min_samples_split=5; total time=   0.2s\n"
          ]
        },
        {
          "output_type": "stream",
          "name": "stdout",
          "text": [
            "[CV] END .................max_depth=20, min_samples_split=10; total time=   0.2s\n"
          ]
        },
        {
          "output_type": "stream",
          "name": "stdout",
          "text": [
            "[CV] END .................max_depth=20, min_samples_split=10; total time=   0.2s\n",
            "[CV] END .................max_depth=20, min_samples_split=10; total time=   0.2s\n"
          ]
        },
        {
          "output_type": "stream",
          "name": "stdout",
          "text": [
            "[CV] END .................max_depth=20, min_samples_split=15; total time=   0.2s\n"
          ]
        },
        {
          "output_type": "stream",
          "name": "stdout",
          "text": [
            "[CV] END .................max_depth=20, min_samples_split=15; total time=   0.2s\n",
            "[CV] END .................max_depth=20, min_samples_split=15; total time=   0.2s\n"
          ]
        },
        {
          "output_type": "stream",
          "name": "stdout",
          "text": [
            "[CV] END .................max_depth=20, min_samples_split=20; total time=   0.2s\n"
          ]
        },
        {
          "output_type": "stream",
          "name": "stdout",
          "text": [
            "[CV] END .................max_depth=20, min_samples_split=20; total time=   0.2s\n",
            "[CV] END .................max_depth=20, min_samples_split=20; total time=   0.2s\n"
          ]
        },
        {
          "output_type": "execute_result",
          "execution_count": null,
          "data": {
            "text/plain": "{'max_depth': 5, 'min_samples_split': 20}"
          },
          "metadata": {}
        }
      ],
      "execution_count": null,
      "metadata": {
        "noteable": {
          "cell_type": "code"
        },
        "ExecuteTime": {
          "end_time": "2023-07-24T13:01:25.331488+00:00",
          "start_time": "2023-07-24T13:01:12.118877+00:00"
        }
      },
      "id": "fcf0081f-6042-49aa-afc4-6fbaa708966a"
    },
    {
      "cell_type": "code",
      "source": [
        "# Instantiate the classifier with the best parameters\n",
        "clf = DecisionTreeClassifier(max_depth=5, min_samples_split=20, random_state=42)\n",
        "\n",
        "# Fit the classifier to the training data\n",
        "clf.fit(X_train, y_train)\n",
        "\n",
        "# Predict the labels of the test set\n",
        "y_pred = clf.predict(X_test)\n",
        "\n",
        "# Print the classification report\n",
        "print(classification_report(y_test, y_pred))"
      ],
      "outputs": [
        {
          "output_type": "stream",
          "name": "stdout",
          "text": [
            "              precision    recall  f1-score   support\n",
            "\n",
            "           0       0.94      0.96      0.95      7303\n",
            "           2       0.65      0.54      0.59       935\n",
            "\n",
            "    accuracy                           0.92      8238\n",
            "   macro avg       0.80      0.75      0.77      8238\n",
            "weighted avg       0.91      0.92      0.91      8238\n",
            "\n"
          ]
        }
      ],
      "execution_count": null,
      "metadata": {
        "noteable": {
          "cell_type": "code"
        },
        "ExecuteTime": {
          "end_time": "2023-07-24T13:06:04.686808+00:00",
          "start_time": "2023-07-24T13:06:04.395795+00:00"
        }
      },
      "id": "8cc2d172-9cb1-44d7-a57c-049600a7886f"
    },
    {
      "cell_type": "code",
      "source": [
        "# Import necessary libraries\n",
        "from sklearn.tree import plot_tree\n",
        "import matplotlib.pyplot as plt\n",
        "\n",
        "# Set the size of the figure\n",
        "plt.figure(figsize=(20, 10))\n",
        "\n",
        "# Plot the decision tree\n",
        "plot_tree(clf, filled=True, feature_names=X.columns, class_names=['No Deposit', 'Deposit'], proportion=True)\n",
        "plt.show()"
      ],
      "outputs": [
        {
          "output_type": "display_data",
          "data": {
            "image/png": "[encoded data removed]"
          },
          "metadata": {}
        }
      ],
      "execution_count": null,
      "metadata": {
        "noteable": {
          "cell_type": "code"
        },
        "ExecuteTime": {
          "end_time": "2023-07-24T13:06:45.605705+00:00",
          "start_time": "2023-07-24T13:06:41.356619+00:00"
        }
      },
      "id": "e648ecf5-1ca9-4518-85e7-434aadb555ff"
    },
    {
      "cell_type": "code",
      "source": [
        "# Get feature importances\n",
        "importances = clf.feature_importances_\n",
        "\n",
        "# Convert the importances into a DataFrame\n",
        "importances_df = pd.DataFrame({'feature': X.columns, 'importance': importances})\n",
        "\n",
        "# Sort the DataFrame by importance\n",
        "importances_df = importances_df.sort_values('importance', ascending=False)\n",
        "\n",
        "# Plot the feature importances\n",
        "plt.figure(figsize=(10, 6))\n",
        "sns.barplot(data=importances_df, x='importance', y='feature', color='b')\n",
        "plt.title('Feature Importances')\n",
        "plt.show()"
      ],
      "outputs": [
        {
          "output_type": "display_data",
          "data": {
            "image/png": "[encoded data removed]"
          },
          "metadata": {}
        }
      ],
      "execution_count": null,
      "metadata": {
        "noteable": {
          "cell_type": "code"
        },
        "ExecuteTime": {
          "start_time": "2023-07-24T13:07:33.592483+00:00",
          "end_time": "2023-07-24T13:07:34.885203+00:00"
        }
      },
      "id": "271ba566-9d29-425d-bf6e-81fcd2d0f1bd"
    },
    {
      "cell_type": "markdown",
      "source": [
        "## Interpretation of Results\n",
        "\n",
        "The Decision Tree Classifier model we trained has an accuracy of 92%, which means it correctly predicted whether a client would subscribe to a term deposit 92% of the time on the test data. While this is a high accuracy, it's important to note that accuracy isn't the only metric to consider when evaluating a model. We also looked at precision, recall, and the F1 score, which take into account both false positives and false negatives.\n",
        "\n",
        "The model performed well in predicting clients who did not subscribe to a term deposit, with a precision of 94%, a recall of 96%, and an F1 score of 95%. This means that the model was able to correctly identify 94% of the actual negatives (true negatives), and out of all the instances it predicted as negative, 96% were actually negative. The F1 score, which is the harmonic mean of precision and recall, was also high at 95%.\n",
        "\n",
        "For predicting clients who did subscribe to a term deposit, the model had a precision of 65%, a recall of 54%, and an F1 score of 59%. This means that the model was able to correctly identify 65% of the actual positives (true positives), and out of all the instances it predicted as positive, 54% were actually positive. The F1 score for positives was lower than for negatives, at 59%.\n",
        "\n",
        "The most important features for making these predictions were 'duration', 'euribor3m', 'age', 'nr.employed', and 'campaign'. This suggests that factors such as the duration of the last contact with the client, the euribor 3 month rate, the age of the client, the number of employees, and the number of contacts performed during this campaign are key factors in predicting whether a client will subscribe to a term deposit.\n",
        "\n",
        "In the next section, we'll draw conclusions from our analysis and make recommendations."
      ],
      "metadata": {
        "noteable": {
          "cell_type": "markdown"
        }
      },
      "id": "0a4d3f0f-8026-416e-bbe7-7376ada1e7a4"
    },
    {
      "cell_type": "markdown",
      "source": [
        "## Conclusions and Recommendations\n",
        "\n",
        "Based on our analysis, we can draw several conclusions:\n",
        "\n",
        "1. The duration of the last contact with the client is a key factor in predicting whether a client will subscribe to a term deposit. This suggests that the longer the bank spends communicating with a client, the more likely the client is to subscribe to a term deposit.\n",
        "\n",
        "2. The euribor 3 month rate is also an important factor. This is a standard rate used by banks in Europe, and it may reflect the overall economic conditions. Clients may be more likely to subscribe to a term deposit when the euribor 3 month rate is favorable.\n",
        "\n",
        "3. The age of the client is another important factor. This suggests that clients of certain ages may be more likely to subscribe to a term deposit. The bank could use this information to target their marketing efforts towards clients of those ages.\n",
        "\n",
        "4. The number of employees and the number of contacts performed during this campaign were also important factors. This suggests that the bank's internal resources and marketing efforts can significantly impact the success of their term deposit subscriptions.\n",
        "\n",
        "Based on these conclusions, we recommend the following:\n",
        "\n",
        "1. The bank should consider investing more time in communicating with clients, as this seems to increase the likelihood of a client subscribing to a term deposit.\n",
        "\n",
        "2. The bank should keep an eye on the euribor 3 month rate and consider adjusting their marketing strategy based on it.\n",
        "\n",
        "3. The bank should consider targeting their marketing efforts towards clients of the ages that are most likely to subscribe to a term deposit, as identified by the model.\n",
        "\n",
        "4. The bank should consider the impact of their internal resources and marketing efforts on the success of their term deposit subscriptions and adjust accordingly."
      ],
      "metadata": {
        "noteable": {
          "cell_type": "markdown"
        }
      },
      "id": "87891fe8-651c-401f-83cd-5800d864233e"
    },
    {
      "cell_type": "markdown",
      "source": [
        "## Marketing Strategy Recommendations\n",
        "\n",
        "Based on the insights derived from our machine learning model, we can make the following recommendations for the bank's marketing strategy:\n",
        "\n",
        "1. **Enhance Customer Interaction:** The 'duration' of interaction with a customer is a significant factor in determining whether they will subscribe to a term deposit. Investing in customer service and ensuring quality interaction can increase the likelihood of term deposit subscriptions.\n",
        "\n",
        "2. **Target Specific Age Groups:** The 'age' of a client plays a crucial role in their decision to subscribe to a term deposit. The bank should analyze which age groups are more inclined to make a term deposit and tailor their marketing campaigns to appeal to these specific age groups.\n",
        "\n",
        "3. **Monitor Economic Indicators:** The 'euribor 3 month rate' is an important economic indicator that impacts a client's decision to make a term deposit. The bank should keep a close eye on such economic indicators and adjust their marketing strategies accordingly.\n",
        "\n",
        "4. **Frequent Contact:** The number of contacts ('campaign') made during a marketing campaign is a key factor in securing term deposit subscriptions. The bank should aim to maintain frequent and meaningful contact with clients during their marketing campaigns.\n",
        "\n",
        "These recommendations are based on the analysis of the provided dataset and the application of a Decision Tree Classifier model. They should serve as a starting point for the bank to refine their marketing strategies and should be validated with ongoing marketing campaigns and results."
      ],
      "metadata": {
        "noteable": {
          "cell_type": "markdown"
        }
      },
      "id": "b6ca6d11-ffea-407f-a9ce-cb94052507c7"
    }
  ],
  "metadata": {
    "noteable-chatgpt": {
      "create_notebook": {
        "openai_conversation_id": "924222c6-570d-5ccd-a61d-401b106bf003",
        "openai_ephemeral_user_id": "1d9523fb-5312-52fc-aeac-10d3ac93d3b4",
        "openai_subdivision1_iso_code": "DE-BE"
      }
    },
    "kernel_info": {
      "name": "python3"
    },
    "noteable": {
      "last_transaction_id": "81e40c1b-c82d-49bd-b9c2-199045977ff1",
      "last_delta_id": "d8796f2f-fa38-43d7-940f-5177d9bf6279"
    },
    "kernelspec": {
      "display_name": "Python 3.9",
      "language": "python",
      "name": "python3"
    },
    "selected_hardware_size": "small",
    "nteract": {
      "version": "noteable@2.9.0"
    }
  },
  "nbformat": 4,
  "nbformat_minor": 5
}
