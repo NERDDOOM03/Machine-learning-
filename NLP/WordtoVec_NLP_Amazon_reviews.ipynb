{
  "nbformat": 4,
  "nbformat_minor": 0,
  "metadata": {
    "colab": {
      "provenance": [],
      "authorship_tag": "ABX9TyO5nlAPgd1yexJrAcoawlBd",
      "include_colab_link": true
    },
    "kernelspec": {
      "name": "python3",
      "display_name": "Python 3"
    },
    "language_info": {
      "name": "python"
    }
  },
  "cells": [
    {
      "cell_type": "markdown",
      "metadata": {
        "id": "view-in-github",
        "colab_type": "text"
      },
      "source": [
        "<a href=\"https://colab.research.google.com/github/NERDDOOM03/Machine-learning-/blob/main/WordtoVec_NLP_Amazon_reviews.ipynb\" target=\"_parent\"><img src=\"https://colab.research.google.com/assets/colab-badge.svg\" alt=\"Open In Colab\"/></a>"
      ]
    },
    {
      "cell_type": "code",
      "execution_count": 24,
      "metadata": {
        "id": "iEdMx5Nak27q"
      },
      "outputs": [],
      "source": [
        "import gensim\n",
        "import pandas as pd\n",
        "import gzip\n",
        "import urllib.request\n",
        "import gzip"
      ]
    },
    {
      "cell_type": "code",
      "source": [
        "url = \"http://snap.stanford.edu/data/amazon/productGraph/categoryFiles/reviews_Cell_Phones_and_Accessories_5.json.gz\"\n",
        "\n",
        "# Download and save the compressed file\n",
        "compressed_file_path = \"reviews_Cell_Phones_and_Accessories_5.json.gz\"\n",
        "urllib.request.urlretrieve(url, compressed_file_path)\n",
        "\n",
        "# Extract the JSON file from the compressed file\n",
        "extracted_file_path = \"reviews_Cell_Phones_and_Accessories_5.json\"\n",
        "with gzip.open(compressed_file_path, 'rb') as gz_file:\n",
        "    with open(extracted_file_path, 'wb') as file:\n",
        "        file.write(gz_file.read())\n"
      ],
      "metadata": {
        "id": "SLFDSlDH2RnS"
      },
      "execution_count": 25,
      "outputs": []
    },
    {
      "cell_type": "code",
      "source": [
        "df = pd.read_json(extracted_file_path, lines=True)"
      ],
      "metadata": {
        "id": "D6ThDf9C2cpe"
      },
      "execution_count": 26,
      "outputs": []
    },
    {
      "cell_type": "code",
      "source": [
        "print(df.head())"
      ],
      "metadata": {
        "colab": {
          "base_uri": "https://localhost:8080/"
        },
        "id": "JBuckurb2g0i",
        "outputId": "065128f4-9a09-421e-c4e6-fa9f05d82994"
      },
      "execution_count": 27,
      "outputs": [
        {
          "output_type": "stream",
          "name": "stdout",
          "text": [
            "       reviewerID        asin      reviewerName helpful  \\\n",
            "0  A30TL5EWN6DFXT  120401325X         christina  [0, 0]   \n",
            "1   ASY55RVNIL0UD  120401325X          emily l.  [0, 0]   \n",
            "2  A2TMXE2AFO7ONB  120401325X             Erica  [0, 0]   \n",
            "3   AWJ0WZQYMYFQ4  120401325X                JM  [4, 4]   \n",
            "4   ATX7CZYFXI1KW  120401325X  patrice m rogoza  [2, 3]   \n",
            "\n",
            "                                          reviewText  overall  \\\n",
            "0  They look good and stick good! I just don't li...        4   \n",
            "1  These stickers work like the review says they ...        5   \n",
            "2  These are awesome and make my phone look so st...        5   \n",
            "3  Item arrived in great time and was in perfect ...        4   \n",
            "4  awesome! stays on, and looks great. can be use...        5   \n",
            "\n",
            "                                     summary  unixReviewTime   reviewTime  \n",
            "0                                 Looks Good      1400630400  05 21, 2014  \n",
            "1                      Really great product.      1389657600  01 14, 2014  \n",
            "2                             LOVE LOVE LOVE      1403740800  06 26, 2014  \n",
            "3                                      Cute!      1382313600  10 21, 2013  \n",
            "4  leopard home button sticker for iphone 4s      1359849600   02 3, 2013  \n"
          ]
        }
      ]
    },
    {
      "cell_type": "code",
      "source": [
        "df.shape"
      ],
      "metadata": {
        "colab": {
          "base_uri": "https://localhost:8080/"
        },
        "id": "Zz8v5mAfs_YQ",
        "outputId": "683703ff-d2ab-456b-a7f5-b9d6fd4eb200"
      },
      "execution_count": 28,
      "outputs": [
        {
          "output_type": "execute_result",
          "data": {
            "text/plain": [
              "(194439, 9)"
            ]
          },
          "metadata": {},
          "execution_count": 28
        }
      ]
    },
    {
      "cell_type": "code",
      "source": [
        "df.reviewText[0]"
      ],
      "metadata": {
        "colab": {
          "base_uri": "https://localhost:8080/",
          "height": 54
        },
        "id": "AlEtJKC-tF1w",
        "outputId": "3ea5be46-afc9-469c-9c89-36027947e62f"
      },
      "execution_count": 29,
      "outputs": [
        {
          "output_type": "execute_result",
          "data": {
            "text/plain": [
              "\"They look good and stick good! I just don't like the rounded shape because I was always bumping it and Siri kept popping up and it was irritating. I just won't buy a product like this again\""
            ],
            "application/vnd.google.colaboratory.intrinsic+json": {
              "type": "string"
            }
          },
          "metadata": {},
          "execution_count": 29
        }
      ]
    },
    {
      "cell_type": "code",
      "source": [
        "gensim.utils.simple_preprocess(\"They look good and stick good! I just don't like the rounded shape because I was always bumping it and Siri kept popping up and it was irritating. I just won't buy a product like this again\")"
      ],
      "metadata": {
        "colab": {
          "base_uri": "https://localhost:8080/"
        },
        "id": "XXYXxKzRtJTO",
        "outputId": "ee8b51b9-5366-4098-f1a8-5d00535d9d6b"
      },
      "execution_count": 30,
      "outputs": [
        {
          "output_type": "execute_result",
          "data": {
            "text/plain": [
              "['they',\n",
              " 'look',\n",
              " 'good',\n",
              " 'and',\n",
              " 'stick',\n",
              " 'good',\n",
              " 'just',\n",
              " 'don',\n",
              " 'like',\n",
              " 'the',\n",
              " 'rounded',\n",
              " 'shape',\n",
              " 'because',\n",
              " 'was',\n",
              " 'always',\n",
              " 'bumping',\n",
              " 'it',\n",
              " 'and',\n",
              " 'siri',\n",
              " 'kept',\n",
              " 'popping',\n",
              " 'up',\n",
              " 'and',\n",
              " 'it',\n",
              " 'was',\n",
              " 'irritating',\n",
              " 'just',\n",
              " 'won',\n",
              " 'buy',\n",
              " 'product',\n",
              " 'like',\n",
              " 'this',\n",
              " 'again']"
            ]
          },
          "metadata": {},
          "execution_count": 30
        }
      ]
    },
    {
      "cell_type": "code",
      "source": [
        "review_text = df.reviewText.apply(gensim.utils.simple_preprocess)\n",
        "review_text"
      ],
      "metadata": {
        "colab": {
          "base_uri": "https://localhost:8080/"
        },
        "id": "m5_RUUO9tN1G",
        "outputId": "2f06db0f-c423-4f91-fe9a-d1020357f4f7"
      },
      "execution_count": 31,
      "outputs": [
        {
          "output_type": "execute_result",
          "data": {
            "text/plain": [
              "0         [they, look, good, and, stick, good, just, don...\n",
              "1         [these, stickers, work, like, the, review, say...\n",
              "2         [these, are, awesome, and, make, my, phone, lo...\n",
              "3         [item, arrived, in, great, time, and, was, in,...\n",
              "4         [awesome, stays, on, and, looks, great, can, b...\n",
              "                                ...                        \n",
              "194434    [works, great, just, like, my, original, one, ...\n",
              "194435    [great, product, great, packaging, high, quali...\n",
              "194436    [this, is, great, cable, just, as, good, as, t...\n",
              "194437    [really, like, it, becasue, it, works, well, w...\n",
              "194438    [product, as, described, have, wasted, lot, of...\n",
              "Name: reviewText, Length: 194439, dtype: object"
            ]
          },
          "metadata": {},
          "execution_count": 31
        }
      ]
    },
    {
      "cell_type": "code",
      "source": [
        "model = gensim.models.Word2Vec(window= 10,min_count = 2,workers= 4)\n"
      ],
      "metadata": {
        "id": "qcvSZ87wtdFr"
      },
      "execution_count": 32,
      "outputs": []
    },
    {
      "cell_type": "markdown",
      "source": [
        "#Build Vocab\n"
      ],
      "metadata": {
        "id": "9Ba_z-COtjuA"
      }
    },
    {
      "cell_type": "code",
      "source": [
        "model.build_vocab(review_text,progress_per = 1000)"
      ],
      "metadata": {
        "id": "gyM3vxwRtl6D"
      },
      "execution_count": 33,
      "outputs": []
    },
    {
      "cell_type": "markdown",
      "source": [
        "# Train the model"
      ],
      "metadata": {
        "id": "tz8F8gAduDHW"
      }
    },
    {
      "cell_type": "code",
      "source": [
        "model.train(review_text,total_examples= model.corpus_count, epochs=model.epochs)"
      ],
      "metadata": {
        "colab": {
          "base_uri": "https://localhost:8080/"
        },
        "id": "I6XbghGauCQb",
        "outputId": "bfcb2652-654f-4ed9-d8ed-d74bbd0abba6"
      },
      "execution_count": 34,
      "outputs": [
        {
          "output_type": "execute_result",
          "data": {
            "text/plain": [
              "(61506116, 83868975)"
            ]
          },
          "metadata": {},
          "execution_count": 34
        }
      ]
    },
    {
      "cell_type": "code",
      "source": [
        "model.wv.similarity(w1= \"like\", w2 = \"siri\")"
      ],
      "metadata": {
        "colab": {
          "base_uri": "https://localhost:8080/"
        },
        "id": "MAS5QSJ2vcsd",
        "outputId": "f3b13e67-6bd7-4769-c65f-02a634ed7993"
      },
      "execution_count": 35,
      "outputs": [
        {
          "output_type": "execute_result",
          "data": {
            "text/plain": [
              "-0.10884425"
            ]
          },
          "metadata": {},
          "execution_count": 35
        }
      ]
    },
    {
      "cell_type": "code",
      "source": [
        "model.wv.similarity(w1= \"like\", w2 = \"like\")"
      ],
      "metadata": {
        "colab": {
          "base_uri": "https://localhost:8080/"
        },
        "id": "2-d5_TAgveuF",
        "outputId": "fbb5b2ec-b2f3-4162-ec71-2a6bcaaf995c"
      },
      "execution_count": 36,
      "outputs": [
        {
          "output_type": "execute_result",
          "data": {
            "text/plain": [
              "1.0"
            ]
          },
          "metadata": {},
          "execution_count": 36
        }
      ]
    },
    {
      "cell_type": "code",
      "source": [
        "model.wv.similarity(w1= \"buy\", w2=\"purchase\")"
      ],
      "metadata": {
        "colab": {
          "base_uri": "https://localhost:8080/"
        },
        "id": "A6a0EsORwLSU",
        "outputId": "f10b45bc-0c2f-48f6-d711-879874b09ec9"
      },
      "execution_count": 37,
      "outputs": [
        {
          "output_type": "execute_result",
          "data": {
            "text/plain": [
              "0.7641252"
            ]
          },
          "metadata": {},
          "execution_count": 37
        }
      ]
    },
    {
      "cell_type": "code",
      "source": [
        "model.wv.similarity(w1= \"great\", w2=\"awesome\")"
      ],
      "metadata": {
        "colab": {
          "base_uri": "https://localhost:8080/"
        },
        "id": "M0Z1UmoU0XPG",
        "outputId": "c346b00f-1e2c-414a-cf38-092d8e30ab61"
      },
      "execution_count": 38,
      "outputs": [
        {
          "output_type": "execute_result",
          "data": {
            "text/plain": [
              "0.7460086"
            ]
          },
          "metadata": {},
          "execution_count": 38
        }
      ]
    }
  ]
}
