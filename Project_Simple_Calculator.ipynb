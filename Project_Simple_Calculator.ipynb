{
  "nbformat": 4,
  "nbformat_minor": 0,
  "metadata": {
    "colab": {
      "provenance": [],
      "authorship_tag": "ABX9TyPWJRP9PveqRCHUPBHIV3LR",
      "include_colab_link": true
    },
    "kernelspec": {
      "name": "python3",
      "display_name": "Python 3"
    },
    "language_info": {
      "name": "python"
    }
  },
  "cells": [
    {
      "cell_type": "markdown",
      "metadata": {
        "id": "view-in-github",
        "colab_type": "text"
      },
      "source": [
        "<a href=\"https://colab.research.google.com/github/NERDDOOM03/Machine-learning-/blob/main/Project_Simple_Calculator.ipynb\" target=\"_parent\"><img src=\"https://colab.research.google.com/assets/colab-badge.svg\" alt=\"Open In Colab\"/></a>"
      ]
    },
    {
      "cell_type": "markdown",
      "source": [
        "## Building a simple CALCULATOR"
      ],
      "metadata": {
        "id": "aV7B_Rlo87sJ"
      }
    },
    {
      "cell_type": "code",
      "source": [
        "# Operators used \n",
        "# 1. ADD\n",
        "# 2. SUBTRACT \n",
        "# 3. MULTIPLY\n",
        "# 4. DIVIDE \n",
        "\n",
        "print(\" SELECT AN OPERATION TO PERFORM: \")\n",
        "print(\"1. ADD\")\n",
        "print(\"2. SUB\")\n",
        "print(\"3. MULTIPLY\")\n",
        "print(\"4. DIVIDE\")\n"
      ],
      "metadata": {
        "colab": {
          "base_uri": "https://localhost:8080/"
        },
        "id": "NMTpcoNt9CoW",
        "outputId": "084166eb-5e0f-46e5-825f-47039f463f88"
      },
      "execution_count": 3,
      "outputs": [
        {
          "output_type": "stream",
          "name": "stdout",
          "text": [
            " SELECT AN OPERATION TO PERFORM: \n",
            "1. ADD\n",
            "2. SUB\n",
            "3. MULTIPLY\n",
            "4. DIVIDE\n"
          ]
        }
      ]
    },
    {
      "cell_type": "code",
      "source": [
        "operation = input()\n",
        "if operation == \"1\":\n",
        "  num1 = input(\"Enter the first number: \")\n",
        "  num2 = input(\"Enter the second number: \")\n",
        "  print(\"the sum is \", int(num1) + int(num2))\n",
        "elif operation == \"2\":\n",
        "  num1 = input(\"Enter the first number: \")\n",
        "  num2 = input(\"Enter the second number: \")\n",
        "  print(\"the sub is \", int(num1) - int(num2))\n",
        "elif operation == \"3\":\n",
        "    num1 = input(\"Enter the first number: \")\n",
        "    num2 = input(\"Enter the second number: \")\n",
        "    print(\"the multiplication  is \", int(num1) * int(num2))\n",
        "elif operation == \"4\":\n",
        "    num1 = input(\"Enter the first number: \")\n",
        "    num2 = input(\"Enter the second number: \")\n",
        "    print(\"the division  is \", int(num1) / int(num2))\n",
        "else: \n",
        "  print(\" Invalid entry\")\n",
        "  print(\"re - enter\")"
      ],
      "metadata": {
        "colab": {
          "base_uri": "https://localhost:8080/"
        },
        "id": "IVswNWwkCNJU",
        "outputId": "57e54ea3-0e0f-4d3f-e656-2cca30d73c14"
      },
      "execution_count": 15,
      "outputs": [
        {
          "output_type": "stream",
          "name": "stdout",
          "text": [
            "1\n",
            "Enter the first number: 10000000000000000000000000000\n",
            "Enter the second number: 2000000000000000000000\n",
            "the sum is  10000002000000000000000000000\n"
          ]
        }
      ]
    }
  ]
}